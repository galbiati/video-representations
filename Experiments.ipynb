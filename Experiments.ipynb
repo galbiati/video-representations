{
 "cells": [
  {
   "cell_type": "code",
   "execution_count": null,
   "metadata": {
    "collapsed": true
   },
   "outputs": [],
   "source": [
    "import os\n",
    "import numpy as np\n",
    "\n",
    "import tensorflow as tf\n",
    "from tensorflow.python.framework import ops\n",
    "\n",
    "import load_data as load\n",
    "from models.model import Model\n",
    "from models.customlayers import *\n",
    "from models.activations import *\n",
    "from training import *\n",
    "\n",
    "import moviepy.editor as mpe\n",
    "from models.AELSTM import *\n",
    "L = tf.layers\n",
    "\n",
    "import matplotlib.pyplot as plt\n",
    "% matplotlib inline\n",
    "\n",
    "data_dir = os.path.expanduser('~/Insight/video-representations/frames')"
   ]
  },
  {
   "cell_type": "markdown",
   "metadata": {},
   "source": [
    "# What does model actually predict?\n",
    "\n",
    "Inputs are very close to targets; we should check that outputs are closer than inputs to targets."
   ]
  },
  {
   "cell_type": "code",
   "execution_count": null,
   "metadata": {
    "collapsed": true,
    "scrolled": false
   },
   "outputs": [],
   "source": [
    "batchsize = 1\n",
    "sequence_length = 64\n",
    "\n",
    "model = Model(encoder, lstm_cell, tied_decoder, batchsize, sequence_length)\n",
    "\n",
    "## LSTM-Encoder Training Graph ##\n",
    "\n",
    "training_inputs, training_targets = load.inputs('training', batchsize, 1, shuffle=False)\n",
    "compare_inputs, compare_targets = load.inputs('training', batchsize, 1, shuffle=False)\n",
    "\n",
    "encoded, transitioned, decoded = model.build(training_inputs)\n",
    "loss = tf.reduce_mean(tf.pow(decoded - training_targets, 2))\n",
    "fakeloss = tf.reduce_mean(tf.pow(decoded - training_inputs, 2))\n",
    "doublefakeloss = tf.reduce_mean(tf.pow(training_targets - training_inputs, 2))\n",
    "\n",
    "## LSTM-Encoder Validation Graph ##\n",
    "\n",
    "validation_inputs, validation_targets = load.inputs('validation', batchsize, 1)\n",
    "\n",
    "encoded_validation, transitioned_validation, decoded_validation = model.build(validation_inputs, reuse=True)\n",
    "validation_loss = tf.reduce_mean(tf.pow(decoded_validation - validation_targets, 2))"
   ]
  },
  {
   "cell_type": "code",
   "execution_count": null,
   "metadata": {
    "scrolled": false
   },
   "outputs": [],
   "source": [
    "saver = tf.train.Saver(tf.trainable_variables())\n",
    "init_global = tf.global_variables_initializer()\n",
    "init_local = tf.local_variables_initializer()\n",
    "coord = tf.train.Coordinator()\n",
    "\n",
    "loss_cache = []\n",
    "fakeloss_cache = []\n",
    "dfloss_cache = []\n",
    "\n",
    "with tf.Session() as sesh:\n",
    "    saver.restore(sesh, 'ptypelstm-tied-relu')\n",
    "    sesh.run(init_local)\n",
    "    threads = tf.train.start_queue_runners(coord=coord)\n",
    "    \n",
    "    try:\n",
    "        step = 0\n",
    "        \n",
    "        while not coord.should_stop():\n",
    "            loss_val, fakeloss_val, dfloss_val = sesh.run([loss, fakeloss, doublefakeloss])\n",
    "            \n",
    "            loss_cache.append(loss_val)\n",
    "            fakeloss_cache.append(fakeloss_val)\n",
    "            dfloss_cache.append(dfloss_val)\n",
    "            \n",
    "            step += 1\n",
    "            \n",
    "    except tf.errors.OutOfRangeError:\n",
    "        print('Encoder validated: {:.2f}'.format(loss_val))\n",
    "        \n",
    "    finally:\n",
    "        coord.request_stop()\n",
    "        \n",
    "    coord.join(threads)"
   ]
  }
 ],
 "metadata": {
  "kernelspec": {
   "display_name": "Python [default]",
   "language": "python",
   "name": "python3"
  },
  "language_info": {
   "codemirror_mode": {
    "name": "ipython",
    "version": 3
   },
   "file_extension": ".py",
   "mimetype": "text/x-python",
   "name": "python",
   "nbconvert_exporter": "python",
   "pygments_lexer": "ipython3",
   "version": "3.5.3"
  }
 },
 "nbformat": 4,
 "nbformat_minor": 2
}
