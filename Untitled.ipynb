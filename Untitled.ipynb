{
 "cells": [
  {
   "cell_type": "code",
   "execution_count": 3,
   "metadata": {},
   "outputs": [],
   "source": [
    "import os\n",
    "import h5py\n",
    "import numpy as np\n",
    "import moviepy.editor as mpe\n",
    "import tensorflow as tf\n",
    "L = tf.layers\n",
    "\n",
    "from models.activations import *"
   ]
  },
  {
   "cell_type": "code",
   "execution_count": 8,
   "metadata": {
    "collapsed": true
   },
   "outputs": [],
   "source": [
    "data_dir = os.path.join(os.getcwd())"
   ]
  },
  {
   "cell_type": "code",
   "execution_count": 9,
   "metadata": {
    "collapsed": true
   },
   "outputs": [],
   "source": [
    "def video_to_array(video_file, n_frames=128):\n",
    "    \"\"\"Read video file into a numpy array and reduce framerate\"\"\"\n",
    "    video = mpe.VideoFileClip(video_file)\n",
    "    video_array = np.array([f for f in video.iter_frames()])\n",
    "    video.reader.close()\n",
    "    del video.reader\n",
    "    del video\n",
    "\n",
    "    if video_array.shape[0] > n_frames:\n",
    "        return video_array[:n_frames]\n",
    "    else:\n",
    "        shape = video_array.shape\n",
    "        pad = np.zeros([n_frames - shape[0], shape[1], shape[2], shape[3]])\n",
    "    return np.concatenate([video_array, pad])\n",
    "\n",
    "def get_filepaths(extract_dir):\n",
    "    \"\"\"Get paths of all files in directory\"\"\"\n",
    "\n",
    "    index = []\n",
    "    labels = []\n",
    "    _extract_dir = os.path.join(extract_dir, 'UCF-101')\n",
    "    for folder in os.listdir(_extract_dir):\n",
    "        labels.append(folder)\n",
    "        folderpath = os.path.join(_extract_dir, folder)\n",
    "\n",
    "        if not os.path.isdir(folderpath):\n",
    "            continue\n",
    "\n",
    "        for filename in os.listdir(folderpath):\n",
    "            if 'avi' not in filename:\n",
    "                continue\n",
    "\n",
    "            if filename[0] == '.':\n",
    "                continue\n",
    "\n",
    "            filepath = os.path.join(folderpath, filename)\n",
    "\n",
    "            if os.path.exists(filepath):\n",
    "                index.append(filepath)\n",
    "            else:\n",
    "                print(filepath)\n",
    "    return index, labels"
   ]
  },
  {
   "cell_type": "code",
   "execution_count": 4,
   "metadata": {
    "collapsed": true
   },
   "outputs": [],
   "source": [
    "with h5py.File('videodata', 'w') as f:\n",
    "    f.create_dataset('training', (10000, 128, 60, 80, 3), dtype=np.uint8)"
   ]
  },
  {
   "cell_type": "code",
   "execution_count": null,
   "metadata": {
    "collapsed": true
   },
   "outputs": [],
   "source": []
  }
 ],
 "metadata": {
  "kernelspec": {
   "display_name": "Python 3",
   "language": "python",
   "name": "python3"
  },
  "language_info": {
   "codemirror_mode": {
    "name": "ipython",
    "version": 3
   },
   "file_extension": ".py",
   "mimetype": "text/x-python",
   "name": "python",
   "nbconvert_exporter": "python",
   "pygments_lexer": "ipython3",
   "version": "3.4.3"
  }
 },
 "nbformat": 4,
 "nbformat_minor": 2
}
