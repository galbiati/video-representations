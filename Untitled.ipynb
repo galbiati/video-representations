{
 "cells": [
  {
   "cell_type": "code",
   "execution_count": 1,
   "metadata": {
    "collapsed": true
   },
   "outputs": [],
   "source": [
    "import os\n",
    "import numpy as np\n",
    "import moviepy.editor as mpe\n",
    "import tqdm\n",
    "import tensorflow as tf"
   ]
  },
  {
   "cell_type": "code",
   "execution_count": 2,
   "metadata": {
    "collapsed": true
   },
   "outputs": [],
   "source": [
    "data_dir = os.path.join(os.getcwd())"
   ]
  },
  {
   "cell_type": "code",
   "execution_count": null,
   "metadata": {
    "collapsed": true
   },
   "outputs": [],
   "source": [
    "def video_to_array(video_file, n_frames=256):\n",
    "    \"\"\"Read video file into a numpy array and reduce framerate\"\"\"\n",
    "    video = mpe.VideoFileClip(video_file)\n",
    "    video_array = np.array([f for f in video.iter_frames()])\n",
    "    video.reader.close()\n",
    "    del video.reader\n",
    "    del video\n",
    "\n",
    "    if video_array.shape[0] > n_frames:\n",
    "        return video_array[:n_frames]\n",
    "    else:\n",
    "        shape = video_array.shape\n",
    "        pad = np.zeros([n_frames - shape[0], shape[1], shape[2], shape[3]])\n",
    "        return np.concatenate([video_array, pad])\n",
    "\n",
    "def get_filepaths(extract_dir):\n",
    "    \"\"\"Get paths of all files in directory\"\"\"\n",
    "\n",
    "    index = []\n",
    "    labels = []\n",
    "    _extract_dir = os.path.join(extract_dir, 'UCF-101')\n",
    "    for folder in os.listdir(_extract_dir):\n",
    "        labels.append(folder)\n",
    "        folderpath = os.path.join(_extract_dir, folder)\n",
    "\n",
    "        if not os.path.isdir(folderpath):\n",
    "            continue\n",
    "\n",
    "        for filename in os.listdir(folderpath):\n",
    "            if 'avi' not in filename:\n",
    "                continue\n",
    "\n",
    "            if filename[0] == '.':\n",
    "                continue\n",
    "\n",
    "            filepath = os.path.join(folderpath, filename)\n",
    "\n",
    "            if os.path.exists(filepath):\n",
    "                index.append(filepath)\n",
    "            else:\n",
    "                print(filepath)\n",
    "    return index, labels\n",
    "\n",
    "def split_video_filepaths(filepaths, ratio=10):\n",
    "    filepath_array = np.array(filepaths)\n",
    "    n_files = filepath_array.shape[0]\n",
    "    filepath_index = np.arange(n_files)\n",
    "    np.random.shuffle(filepath_index)\n",
    "    \n",
    "    train_filepaths = filepath_array[filepath_index[2*(n_files//ratio):]]\n",
    "    test_filepaths = filepath_array[:n_files//ratio]\n",
    "    validation_filepaths = filepath_array[n_files//ratio:2*(n_files//ratio)]\n",
    "\n",
    "    return train_filepaths.tolist(), validation_filepaths.tolist(), test_filepaths.tolist()\n",
    "\n",
    "def video_files_to_npz(output_dir, filepaths):\n",
    "    \"\"\"Serializes video files in filepaths to a tfrecords file in output_file\"\"\"\n",
    "\n",
    "    if type(filepaths) != list:\n",
    "        filepaths = [filepaths]    # catch single inputs (not a normal case)\n",
    "\n",
    "    os.makedirs(output_dir, exist_ok=True)\n",
    "    \n",
    "    tqkws = {\n",
    "        'total': len(filepaths),\n",
    "        'unit': ' videos',\n",
    "        'desc': 'Stashing video frames'\n",
    "    }\n",
    "    \n",
    "    with tf.device('/cpu:0'):\n",
    "        video_placeholder = tf.placeholder(name='video', dtype=tf.float32, shape=(None, 240, 320, 3))\n",
    "        downsampled = tf.layers.max_pooling2d(video_placeholder, 4, 4, name='downsampler')\n",
    "        downsampled_reshaped = tf.reshape(downsampled, (-1, 60, 80, 3))\n",
    "\n",
    "    with tf.Session() as sesh:\n",
    "        for idx, path in enumerate(tqdm.tqdm(filepaths, **tqkws)):\n",
    "            video_array = video_to_array(path)\n",
    "\n",
    "            l = video_array.shape[0]\n",
    "            w = video_array.shape[2]\n",
    "            h = video_array.shape[1]\n",
    "\n",
    "            if h != 240 or w != 320:\n",
    "                continue\n",
    "        \n",
    "        \n",
    "            downsampled_video_array = downsampled_reshaped.eval({video_placeholder: video_array})\n",
    "        \n",
    "            output_filename = os.path.join(output_dir, '{}.npz'.format(idx))\n",
    "            np.savez_compressed(output_filename, downsampled_video_array)\n",
    "        \n",
    "def get_label_from_filepath(filepath, label_dict):\n",
    "    parent_path = os.path.abspath(os.path.join(filepath, os.pardir))\n",
    "    label = label_dict[os.path.split(parent_path)[-1]]\n",
    "    return label"
   ]
  },
  {
   "cell_type": "code",
   "execution_count": null,
   "metadata": {},
   "outputs": [
    {
     "name": "stderr",
     "output_type": "stream",
     "text": [
      "Stashing video frames:  29%|██▉       | 3131/10656 [1:38:32<3:38:51,  1.75s/ videos] "
     ]
    }
   ],
   "source": [
    "filepaths, labels = get_filepaths(data_dir)\n",
    "t_filepaths, v_filepaths, e_filepaths = split_video_filepaths(filepaths)\n",
    "\n",
    "video_files_to_npz(os.path.join(data_dir, 'training'), t_filepaths)"
   ]
  },
  {
   "cell_type": "code",
   "execution_count": null,
   "metadata": {
    "collapsed": true
   },
   "outputs": [],
   "source": []
  }
 ],
 "metadata": {
  "kernelspec": {
   "display_name": "Python 3",
   "language": "python",
   "name": "python3"
  },
  "language_info": {
   "codemirror_mode": {
    "name": "ipython",
    "version": 3
   },
   "file_extension": ".py",
   "mimetype": "text/x-python",
   "name": "python",
   "nbconvert_exporter": "python",
   "pygments_lexer": "ipython3",
   "version": "3.4.3"
  }
 },
 "nbformat": 4,
 "nbformat_minor": 2
}
