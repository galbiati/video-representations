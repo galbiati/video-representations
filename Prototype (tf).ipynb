{
 "cells": [
  {
   "cell_type": "code",
   "execution_count": 1,
   "metadata": {
    "collapsed": true
   },
   "outputs": [],
   "source": [
    "import os\n",
    "import numpy as np\n",
    "\n",
    "import tensorflow as tf\n",
    "from tensorflow.python.framework import ops\n",
    "\n",
    "from load_data import *\n",
    "from models.customlayers import *\n",
    "from models.activations import *\n",
    "from training import *\n",
    "\n",
    "import models.ConvAE as cae\n",
    "L = tf.layers\n",
    "\n",
    "import matplotlib.pyplot as plt\n",
    "% matplotlib inline"
   ]
  },
  {
   "cell_type": "code",
   "execution_count": null,
   "metadata": {
    "collapsed": true
   },
   "outputs": [],
   "source": [
    "data_dir = os.path.expanduser('~/Insight/video-representations/frames') #data/downsampled')\n",
    "# X_train, y_train, X_test, y_test = get_splits(*load_all_data_stacked(data_dir, every_n=2))"
   ]
  },
  {
   "cell_type": "code",
   "execution_count": null,
   "metadata": {
    "collapsed": true
   },
   "outputs": [],
   "source": [
    "def read_record(filepath_queue):\n",
    "    reader = tf.RecordReader()\n",
    "    _, serialized_example = reader.read(filepath_queue)\n",
    "    \n",
    "    features = tf.parse_single_example(\n",
    "        serialized_example,\n",
    "        features={\n",
    "            'height': tf.FixedLenFeature([], tf.int64),\n",
    "            'width': tf.FixedLenFeature([], tf.int64),\n",
    "            'image': tf.FixedLenFeature([], tf.string)\n",
    "        }\n",
    "    )\n",
    "    \n",
    "    video = tf.decode_raw(features['image'], tf.uint8)   # feature may be renamed to video in future\n",
    "    h = tf.cast(features['height'], tf.int32)\n",
    "    w = tf.cast(features['width'], tf.int32)\n",
    "    \n",
    "    video_shape = tf.pack([-1, h, w, 3])\n",
    "    video = tf.reshape(video, video_shape)\n",
    "    \n",
    "    return video\n",
    "    \n",
    "def inputs(split_type, batchsize, num_epochs): \n",
    "    if not num_epochs:\n",
    "        num_epochs = None\n",
    "        \n",
    "    filepath = os.path.join(data_dir, '{}.tfrecords'.format(split_type))\n",
    "    \n",
    "    with tf.name_scope('input'):\n",
    "        filepath_queue = tf.train.string_input_producer(\n",
    "            [filepath], num_epochs=num_epochs\n",
    "        )\n",
    "    \n",
    "    video = read_record(filepath_queue)\n",
    "    \n",
    "    videos = tf.train.shuffle_batch(\n",
    "        [videos],\n",
    "        batchsize=16, capacity=32, num_threads=2, min_after_dequeue=10\n",
    "    )\n",
    "    "
   ]
  },
  {
   "cell_type": "code",
   "execution_count": null,
   "metadata": {
    "collapsed": true
   },
   "outputs": [],
   "source": [
    "tf.reset_default_graph()\n",
    "\n",
    "input_var = tf.placeholder(dtype=tf.float32, shape=(None, 3, 60, 80), name='input')\n",
    "target_var = tf.placeholder(dtype=tf.float32, shape=(None, 3, 60, 80), name='target')\n",
    "l2_weight = .01\n",
    "\n",
    "with tf.variable_scope('encoder'):\n",
    "    encoded = cae.encoder(input_var)\n",
    "\n",
    "with tf.variable_scope('decoder'):\n",
    "    decoded = cae.decoder(encoded)\n",
    "\n",
    "l2_term = tf.add_n([tf.nn.l2_loss(v) for v in tf.trainable_variables() if 'bias' not in v.name])\n",
    "loss = tf.reduce_mean(tf.pow(decoded - target_var, 2))\n",
    "train_step = tf.train.AdamOptimizer().minimize(loss + l2_weight*l2_term)\n",
    "saver = tf.train.Saver()\n",
    "init = tf.global_variables_initializer()"
   ]
  },
  {
   "cell_type": "code",
   "execution_count": null,
   "metadata": {
    "collapsed": true
   },
   "outputs": [],
   "source": [
    "print('Training data: {} examples, {:.2f} GB'.format(X_train.shape[0], X_train.nbytes/1000000))"
   ]
  },
  {
   "cell_type": "code",
   "execution_count": null,
   "metadata": {
    "collapsed": true,
    "scrolled": false
   },
   "outputs": [],
   "source": [
    "os.makedirs('tmp/models', exist_ok=True)\n",
    "epochs = 30\n",
    "\n",
    "with tf.Session() as sesh:\n",
    "    \n",
    "    sesh.run(init)\n",
    "        \n",
    "    train_trace = []\n",
    "    validation_trace = []\n",
    "    \n",
    "    batch_no = 0\n",
    "    current_loss = 0\n",
    "    \n",
    "    for batch in iterate_minibatches(X_test, y_test, batchsize=128):\n",
    "        X_batch, y_batch = batch\n",
    "        current_loss += loss.eval({input_var: X_batch, target_var: y_batch})\n",
    "        batch_no += 1\n",
    "        \n",
    "    print('Initial loss:\\t{}'.format(current_loss / batch_no))\n",
    "    saver.save(sesh, 'tmp/models/prototype_ae initial.ckpt')\n",
    "    \n",
    "    for epoch in range(epochs):\n",
    "        batch_no = 0\n",
    "        current_loss = 0\n",
    "        \n",
    "        for batch in iterate_minibatches(X_train, y_train, batchsize=64, shuffle=True):\n",
    "            X_batch, y_batch = batch\n",
    "            _, batch_loss = sesh.run([train_step, loss], {input_var: X_batch, target_var: y_batch})\n",
    "            \n",
    "            current_loss += batch_loss\n",
    "            batch_no += 1\n",
    "            train_trace.append(batch_loss)\n",
    "            \n",
    "            if batch_no % 200 == 0:\n",
    "                print('\\t\\t', current_loss / batch_no)\n",
    "            \n",
    "        print('Epoch {} train loss:\\t{}'.format(epoch, current_loss / batch_no))\n",
    "        \n",
    "        val_loss = 0\n",
    "        batch_no = 0\n",
    "        \n",
    "        for batch in iterate_minibatches(X_test, y_test, batchsize=128, shuffle=True):\n",
    "            X_batch, y_batch = batch\n",
    "            \n",
    "            batch_loss = loss.eval({input_var: X_batch, target_var: y_batch})\n",
    "            val_loss += batch_loss\n",
    "            batch_no += 1\n",
    "            \n",
    "        print('\\t test loss:\\t{}'.format(val_loss / batch_no))\n",
    "    \n",
    "    train_outputs = []\n",
    "    for batch in iterate_minibatches(X_train, y_train, batchsize=128, shuffle=False):\n",
    "        X_batch, y_batch = batch\n",
    "        output = sesh.run(decoded, {input_var: X_batch})\n",
    "        train_outputs.append(output)\n",
    "    \n",
    "    test_outputs = []\n",
    "    for batch in iterate_minibatches(X_test, y_test, batchsize=128, shuffle=False):\n",
    "        X_batch, y_batch = batch\n",
    "        output = sesh.run(decoded, {input_var: X_batch})\n",
    "        test_outputs.append(output)\n",
    "    \n",
    "    saver.save(sesh, 'tmp/models/prototype_ae.ckpt')"
   ]
  },
  {
   "cell_type": "code",
   "execution_count": null,
   "metadata": {
    "collapsed": true
   },
   "outputs": [],
   "source": [
    "lim = 30\n",
    "new_test_frames = np.concatenate(test_outputs[:lim]).transpose((0, 2, 3, 1))\n",
    "new_train_frames = np.concatenate(train_outputs[:lim]).transpose((0, 2, 3, 1))\n",
    "X_test_ims = X_test[:lim].transpose((0, 2, 3, 1))\n",
    "X_train_ims = X_train[:lim].transpose((0, 2, 3, 1))"
   ]
  },
  {
   "cell_type": "code",
   "execution_count": null,
   "metadata": {
    "collapsed": true
   },
   "outputs": [],
   "source": [
    "fig, axes = plt.subplots(5, 4, figsize=(20, 20))\n",
    "probe = 4\n",
    "\n",
    "for i in range(5):\n",
    "    for j in range(4):\n",
    "        ax = axes[i, j]\n",
    "        if j == 0:\n",
    "            ax.imshow(X_train_ims[probe+(i//5)+2*i])\n",
    "        elif j == 1:\n",
    "            ax.imshow(new_train_frames[probe+(i//5)+2*i])\n",
    "        elif j == 2:\n",
    "            ax.imshow(X_test_ims[probe+(i//5)+2*i])\n",
    "        else:\n",
    "            ax.imshow(new_test_frames[probe+(i//5)+2*i])"
   ]
  },
  {
   "cell_type": "code",
   "execution_count": null,
   "metadata": {
    "collapsed": true
   },
   "outputs": [],
   "source": []
  }
 ],
 "metadata": {
  "kernelspec": {
   "display_name": "Python 3",
   "language": "python",
   "name": "python3"
  },
  "language_info": {
   "codemirror_mode": {
    "name": "ipython",
    "version": 3
   },
   "file_extension": ".py",
   "mimetype": "text/x-python",
   "name": "python",
   "nbconvert_exporter": "python",
   "pygments_lexer": "ipython3",
   "version": "3.4.3"
  }
 },
 "nbformat": 4,
 "nbformat_minor": 2
}
