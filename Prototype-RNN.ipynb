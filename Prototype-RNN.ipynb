{
 "cells": [
  {
   "cell_type": "code",
   "execution_count": 1,
   "metadata": {},
   "outputs": [
    {
     "ename": "ImportError",
     "evalue": "No module named 'moviepy'",
     "output_type": "error",
     "traceback": [
      "\u001b[0;31m---------------------------------------------------------------------------\u001b[0m",
      "\u001b[0;31mImportError\u001b[0m                               Traceback (most recent call last)",
      "\u001b[0;32m<ipython-input-1-207a139c256d>\u001b[0m in \u001b[0;36m<module>\u001b[0;34m()\u001b[0m\n\u001b[1;32m      9\u001b[0m \u001b[0;32mfrom\u001b[0m \u001b[0mmodels\u001b[0m\u001b[0;34m.\u001b[0m\u001b[0mactivations\u001b[0m \u001b[0;32mimport\u001b[0m \u001b[0;34m*\u001b[0m\u001b[0;34m\u001b[0m\u001b[0m\n\u001b[1;32m     10\u001b[0m \u001b[0;32mfrom\u001b[0m \u001b[0mtraining\u001b[0m \u001b[0;32mimport\u001b[0m \u001b[0;34m*\u001b[0m\u001b[0;34m\u001b[0m\u001b[0m\n\u001b[0;32m---> 11\u001b[0;31m \u001b[0;32mfrom\u001b[0m \u001b[0mdownload\u001b[0m \u001b[0;32mimport\u001b[0m \u001b[0;34m*\u001b[0m\u001b[0;34m\u001b[0m\u001b[0m\n\u001b[0m\u001b[1;32m     12\u001b[0m \u001b[0;34m\u001b[0m\u001b[0m\n\u001b[1;32m     13\u001b[0m \u001b[0;32mimport\u001b[0m \u001b[0mmodels\u001b[0m\u001b[0;34m.\u001b[0m\u001b[0mConvAE\u001b[0m \u001b[0;32mas\u001b[0m \u001b[0mcae\u001b[0m\u001b[0;34m\u001b[0m\u001b[0m\n",
      "\u001b[0;32m~/Insight/video-representations/download.py\u001b[0m in \u001b[0;36m<module>\u001b[0;34m()\u001b[0m\n\u001b[1;32m      2\u001b[0m \u001b[0;32mimport\u001b[0m \u001b[0mnumpy\u001b[0m \u001b[0;32mas\u001b[0m \u001b[0mnp\u001b[0m\u001b[0;34m\u001b[0m\u001b[0m\n\u001b[1;32m      3\u001b[0m \u001b[0;32mimport\u001b[0m \u001b[0mrequests\u001b[0m \u001b[0;32mas\u001b[0m \u001b[0mreq\u001b[0m\u001b[0;34m\u001b[0m\u001b[0m\n\u001b[0;32m----> 4\u001b[0;31m \u001b[0;32mimport\u001b[0m \u001b[0mmoviepy\u001b[0m\u001b[0;34m.\u001b[0m\u001b[0meditor\u001b[0m \u001b[0;32mas\u001b[0m \u001b[0mmpe\u001b[0m\u001b[0;34m\u001b[0m\u001b[0m\n\u001b[0m\u001b[1;32m      5\u001b[0m \u001b[0;32mimport\u001b[0m \u001b[0mtensorflow\u001b[0m \u001b[0;32mas\u001b[0m \u001b[0mtf\u001b[0m\u001b[0;34m\u001b[0m\u001b[0m\n\u001b[1;32m      6\u001b[0m \u001b[0;32mimport\u001b[0m \u001b[0mpatoolib\u001b[0m\u001b[0;34m\u001b[0m\u001b[0m\n",
      "\u001b[0;31mImportError\u001b[0m: No module named 'moviepy'"
     ]
    }
   ],
   "source": [
    "import os\n",
    "import numpy as np\n",
    "\n",
    "import tensorflow as tf\n",
    "from tensorflow.python.framework import ops\n",
    "\n",
    "from load_data import *\n",
    "from models.customlayers import *\n",
    "from models.activations import *\n",
    "from training import *\n",
    "from download import *\n",
    "\n",
    "import models.ConvAE as cae\n",
    "L = tf.layers\n",
    "\n",
    "import matplotlib.pyplot as plt\n",
    "% matplotlib inline"
   ]
  },
  {
   "cell_type": "code",
   "execution_count": null,
   "metadata": {
    "collapsed": true
   },
   "outputs": [],
   "source": []
  },
  {
   "cell_type": "code",
   "execution_count": null,
   "metadata": {
    "collapsed": true
   },
   "outputs": [],
   "source": []
  },
  {
   "cell_type": "markdown",
   "metadata": {},
   "source": [
    "# Model"
   ]
  },
  {
   "cell_type": "markdown",
   "metadata": {},
   "source": [
    "Try first:\n",
    "\n",
    "- input full video, output full video\n",
    "- lstm encoder-decoder: at each timestep, input frame, output prediction for next frame\n",
    "- start with fixed size: 20 frames (later work with true recurrent net)\n",
    "\n",
    "Below is wrong; just instantiate lstm outside of function for now\n"
   ]
  },
  {
   "cell_type": "code",
   "execution_count": 2,
   "metadata": {
    "collapsed": true
   },
   "outputs": [],
   "source": [
    "def read_record(filepath_queue):\n",
    "    reader = tf.RecordReader()\n",
    "    _, serialized_example = reader.read(filepath_queue)\n",
    "    \n",
    "    features = tf.parse_single_example(\n",
    "        serialized_example,\n",
    "        features={\n",
    "            'height': tf.FixedLenFeature([], tf.int64),\n",
    "            'width': tf.FixedLenFeature([], tf.int64),\n",
    "            'image': tf.FixedLenFeature([], tf.string)\n",
    "        }\n",
    "    )\n",
    "    \n",
    "    video = tf.decode_raw(features['image'], tf.uint8)   # feature may be renamed to video in future\n",
    "    h = tf.cast(features['height'], tf.int32)\n",
    "    w = tf.cast(features['width'], tf.int32)\n",
    "    \n",
    "    video_shape = tf.pack([-1, h, w, 3])\n",
    "    video = tf.reshape(video, video_shape)\n",
    "    \n",
    "    return video\n",
    "    \n",
    "def inputs(split_type, batchsize, num_epochs): \n",
    "    if not num_epochs:\n",
    "        num_epochs = None\n",
    "        \n",
    "    filepath = os.path.join(data_dir, '{}.tfrecords'.format(split_type))\n",
    "    \n",
    "    with tf.name_scope('input'):\n",
    "        filepath_queue = tf.train.string_input_producer(\n",
    "            [filepath], num_epochs=num_epochs\n",
    "        )\n",
    "    \n",
    "    video = read_record(filepath_queue) # each video is a rank 4 tensor: [n_frames, x, y, c]\n",
    "    \n",
    "    videos = tf.train.shuffle_batch(\n",
    "        [video],\n",
    "        batchsize=batchsize, capacity=1024 + 2*batchsize, \n",
    "        num_threads=2, min_after_dequeue=128\n",
    "    )\n",
    "    \n",
    "    return videos"
   ]
  },
  {
   "cell_type": "code",
   "execution_count": 3,
   "metadata": {},
   "outputs": [],
   "source": [
    "def downsample(image):\n",
    "    return L.max_pooling2d(image, 4, 4, name='downsampler')\n",
    "\n",
    "def encoder(image):\n",
    "    input_layer = tf.reshape(image, (-1, 240, 320, 3))\n",
    "    \n",
    "    downsampled = downsample(image)\n",
    "\n",
    "    conv1 = L.conv2d(\n",
    "        downsampled, name='conv1',\n",
    "        filters=16, kernel_size=3, activation=selu\n",
    "    )\n",
    "        \n",
    "    conv2 = L.conv2d(\n",
    "        conv1, name='conv2',\n",
    "        filters=32, kernel_size=3, activation=selu\n",
    "    )\n",
    "        \n",
    "    conv3 = L.conv2d(\n",
    "        conv2, name='conv3',\n",
    "        filters=64, kernel_size=5, activation=selu\n",
    "    )\n",
    "        \n",
    "    conv4 = L.conv2d(\n",
    "        conv3, name='conv4',\n",
    "        filters=128, kernel_size=5, activation=selu\n",
    "    )\n",
    "        \n",
    "    shape = conv4.get_shape().as_list()\n",
    "    print(shape)\n",
    "    newdim = shape[1] * shape[2] * shape[3]\n",
    "    print(newdim)\n",
    "    conv4_flat = tf.reshape(conv4, (-1, newdim))\n",
    "    print(conv4_flat.shape)\n",
    "\n",
    "    dense1 = dense_reshape(\n",
    "        conv4, name='dense1',\n",
    "        units=2048, activation=selu\n",
    "    )\n",
    "\n",
    "    return dense1\n",
    "\n",
    "\n",
    "def decoder(encoded):\n",
    "    dense1 = L.dense(encoded, units=417792, activation=selu, name='dense1')\n",
    "\n",
    "    dense1_reshaped = tf.reshape(dense1, (-1, 48, 68, 128))\n",
    "\n",
    "    deconv1 = L.conv2d_transpose(\n",
    "        dense1_reshaped, name='deconv1',\n",
    "        filters=64, kernel_size=5, activation=selu    \n",
    "    )\n",
    "\n",
    "    deconv2 = L.conv2d_transpose(\n",
    "        deconv1, filters=3, kernel_size=3, activation=selu,\n",
    "        name='deconv2'\n",
    "    )\n",
    "\n",
    "    deconv3 = L.conv2d_transpose(\n",
    "        deconv2, name='deconv3', \n",
    "        filters=32, kernel_size=3, activation=selu,\n",
    "    )\n",
    "    \n",
    "    deconv4 = L.conv2d_transpose(\n",
    "        deconv2, name='deconv4', \n",
    "        filters=3, kernel_size=3, activation=selu,\n",
    "    )\n",
    "    \n",
    "    deconv4_reshaped = tf.transpose(deconv4, perm=(0, 3, 1, 2))\n",
    "\n",
    "    return deconv4_reshaped"
   ]
  },
  {
   "cell_type": "code",
   "execution_count": 12,
   "metadata": {},
   "outputs": [
    {
     "name": "stdout",
     "output_type": "stream",
     "text": [
      "[None, 48, 68, 128]\n",
      "417792\n",
      "(?, 417792)\n"
     ]
    }
   ],
   "source": [
    "tf.reset_default_graph()\n",
    "\n",
    "input_var = tf.placeholder(dtype=tf.float32, shape=(None, 3, 60, 80), name='input')\n",
    "target_var = tf.placeholder(dtype=tf.float32, shape=(None, 3, 60, 80), name='target')\n",
    "\n",
    "with tf.variable_scope('encoder'):\n",
    "    encoded = encoder(input_var)\n",
    "    \n",
    "with tf.variable_scope('decoder'):\n",
    "    decoded = decoder(encoded)"
   ]
  },
  {
   "cell_type": "code",
   "execution_count": null,
   "metadata": {
    "collapsed": true
   },
   "outputs": [],
   "source": [
    "def run_training(num_epochs, batchsize):\n",
    "    videos = inputs('training', batchsize, num_epochs)\n",
    "    \n",
    "    with tf.variable_scope('encoder'):\n",
    "        encoded = encoder(videos)\n",
    "    \n",
    "    with tf.variable_scope('lstm'):\n",
    "        lstm_cell = tf.nn.rnn_cell.LSTMCell(num_units=1024)\n",
    "        transitioned = tf.nn.dynamic_rnn(lstm_cell, encoded, )\n",
    "    \n",
    "    with tf.variable_scope('decoder'):\n",
    "        decoded = decoder(transitioned)\n",
    "        \n",
    "    l2_weight = .01\n",
    "    l2_term = tf.add_n([tf.nn.l2_loss(v) for v in tf.trainable_variables() if 'bias' not in v.name])\n",
    "\n",
    "    loss = tf.reduce_mean(tf.pow(decoded - videos), 2)\n",
    "    train_step = tf.train.AdamOptimizer().minimize(loss + l2_weight*l2_term)\n",
    "    saver = tf.train.Saver()\n",
    "    init = tf.global_variables_initializer()\n",
    "    coord = tf.train.Coordinator()\n",
    "    \n",
    "    \n",
    "    with tf.Session() as sesh:\n",
    "        sesh.run(init)\n",
    "        threads = tf.train.start_queue_runners(sess=sesh, coord=coord)\n",
    "        try:\n",
    "            step = 0\n",
    "            while not coord.should_stop():\n",
    "                _, loss_value = sesh.run([train_op, loss])\n",
    "                \n",
    "                if step % 500 == 0:\n",
    "                    print('Step {} loss: {:.4f}'.format(step, loss_value))\n",
    "                    \n",
    "        except tf.errors.OutOfRangeError:\n",
    "            print('Done; loss: {:.4f}'.format(step, loss_value))\n",
    "            \n",
    "        finally:\n",
    "            coord.request_stop()\n",
    "            \n",
    "        coord.join(threads)"
   ]
  },
  {
   "cell_type": "code",
   "execution_count": null,
   "metadata": {
    "collapsed": true
   },
   "outputs": [],
   "source": [
    "tf.reset_default_graph()\n",
    "\n",
    "input_var = tf.placeholder(dtype=tf.float32, shape=(None, 3, 60, 80), name='input')\n",
    "target_var = tf.placeholder(dtype=tf.float32, shape=(None, 3, 60, 80), name='target')\n",
    "\n",
    "with tf.variable_scope('encoder'):\n",
    "    encoded = cae.encoder(input_var)\n",
    "    \n",
    "with tf.variable_scope('decoder', reuse=True):\n",
    "    decoded = cae.decoder(encoded)\n",
    "\n",
    "loss = tf.reduce_mean(tf.pow(decoded - target_var, 2))\n",
    "train_step = tf.train.AdamOptimizer().minimize(loss)\n",
    "saver = tf.train.Saver()\n",
    "init = tf.global_variables_initializer()"
   ]
  }
 ],
 "metadata": {
  "kernelspec": {
   "display_name": "Python 3",
   "language": "python",
   "name": "python3"
  },
  "language_info": {
   "codemirror_mode": {
    "name": "ipython",
    "version": 3
   },
   "file_extension": ".py",
   "mimetype": "text/x-python",
   "name": "python",
   "nbconvert_exporter": "python",
   "pygments_lexer": "ipython3",
   "version": "3.4.3"
  }
 },
 "nbformat": 4,
 "nbformat_minor": 2
}
