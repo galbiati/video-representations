{
 "cells": [
  {
   "cell_type": "code",
   "execution_count": 1,
   "metadata": {
    "collapsed": true
   },
   "outputs": [],
   "source": [
    "import os\n",
    "import numpy as np\n",
    "\n",
    "import tensorflow as tf\n",
    "from tensorflow.python.framework import ops\n",
    "\n",
    "import load_data as load\n",
    "from models.model import Model\n",
    "from models.customlayers import *\n",
    "from models.activations import *\n",
    "from training import *\n",
    "\n",
    "import moviepy.editor as mpe\n",
    "from models.AELSTM import *\n",
    "L = tf.layers\n",
    "\n",
    "import matplotlib.pyplot as plt\n",
    "% matplotlib inline"
   ]
  },
  {
   "cell_type": "code",
   "execution_count": 2,
   "metadata": {
    "collapsed": true
   },
   "outputs": [],
   "source": [
    "data_dir = os.path.expanduser('~/Insight/video-representations/frames')"
   ]
  },
  {
   "cell_type": "code",
   "execution_count": 3,
   "metadata": {
    "scrolled": false
   },
   "outputs": [
    {
     "name": "stdout",
     "output_type": "stream",
     "text": [
      "[256, 48, 68, 64] 208896\n",
      "[256, 48, 68, 64] 208896\n",
      "[256, 48, 68, 64] 208896\n",
      "[256, 48, 68, 64] 208896\n",
      "[256, 48, 68, 64] 208896\n",
      "[256, 48, 68, 64] 208896\n"
     ]
    }
   ],
   "source": [
    "encoder_training_epochs = 10\n",
    "decoder_training_epochs = 20\n",
    "\n",
    "batchsize = 4\n",
    "sequence_length = 64\n",
    "\n",
    "model = Model(encoder, lstm_cell, decoder, batchsize, sequence_length)\n",
    "\n",
    "## LSTM-Encoder Training Graph ##\n",
    "\n",
    "training_inputs, training_targets = load.inputs('training', batchsize, encoder_training_epochs)\n",
    "\n",
    "encoded, transitioned, _ = model.build(training_inputs)    # discard decoder here\n",
    "targeted = model.build_target_encoder(training_targets)\n",
    "\n",
    "loss = tf.reduce_mean(tf.pow(transitioned - targeted, 2))\n",
    "\n",
    "optimizer = tf.train.AdamOptimizer()\n",
    "trainable_vars = tf.trainable_variables()\n",
    "clipped_gradients, _ = tf.clip_by_global_norm(tf.gradients(loss, trainable_vars), 1)    # clip those uglies\n",
    "train_step = optimizer.apply_gradients(zip(clipped_gradients, trainable_vars))\n",
    "\n",
    "## Decoder Training Graph ##\n",
    "\n",
    "decoder_training_inputs, decoder_training_targets = load.inputs(\n",
    "    'training', batchsize, decoder_training_epochs, queue_name='decoder_training'\n",
    ")\n",
    "\n",
    "_, _, decoded = model.build(decoder_training_inputs, reuse=True)\n",
    "\n",
    "decoder_loss = tf.reduce_mean(tf.pow(decoded - decoder_training_targets, 2))\n",
    "decoder_vars = tf.get_collection(tf.GraphKeys.TRAINABLE_VARIABLES, scope='decoder')\n",
    "decoder_optimizer = tf.train.AdamOptimizer()\n",
    "decoder_train_step = decoder_optimizer.minimize(decoder_loss, var_list=decoder_vars)\n",
    "\n",
    "## LSTM-Encoder Validation Graph ##\n",
    "\n",
    "validation_inputs, validation_targets = load.inputs('validation', batchsize, 1)\n",
    "\n",
    "encoded_validation, transitioned_validation, _ = model.build(validation_inputs, reuse=True)\n",
    "targeted_validation = model.build_target_encoder(validation_targets, reuse=True)\n",
    "validation_loss = tf.reduce_mean(tf.pow(transitioned_validation - targeted_validation, 2))\n",
    "\n",
    "## Decoder Validation Graph ##\n",
    "\n",
    "decoder_validation_inputs, decoder_validation_targets = load.inputs(\n",
    "    'validation', batchsize, 1, queue_name='decoder_validation'\n",
    ")\n",
    "\n",
    "_, _, decoded_validation = model.build(decoder_validation_inputs, reuse=True)\n",
    "decoded_validation_loss = tf.reduce_mean(tf.pow(decoded_validation - decoder_validation_targets, 2))"
   ]
  },
  {
   "cell_type": "code",
   "execution_count": null,
   "metadata": {
    "scrolled": false
   },
   "outputs": [
    {
     "name": "stdout",
     "output_type": "stream",
     "text": [
      "0 135.79\n",
      "500 0.122082\n",
      "1000 0.109893\n",
      "1500 0.105848\n",
      "2000 0.102315\n",
      "2500 0.0984838\n",
      "3000 0.0947768\n",
      "3500 0.0912439\n",
      "4000 0.0877083\n",
      "4500 0.0875368\n",
      "5000 0.0843469\n",
      "6000 0.0772783\n",
      "6500 0.0767639\n",
      "7000 0.0764182\n",
      "7500 0.0764182\n"
     ]
    }
   ],
   "source": [
    "saver = tf.train.Saver()\n",
    "init_global = tf.global_variables_initializer()\n",
    "init_local = tf.local_variables_initializer()\n",
    "\n",
    "coord = tf.train.Coordinator()\n",
    "\n",
    "with tf.Session() as sesh:\n",
    "    sesh.run([init_global, init_local])\n",
    "    threads = tf.train.start_queue_runners(sess=sesh, coord=coord)\n",
    "    \n",
    "    # initialize lists for tracking\n",
    "    \n",
    "    encoder_losses = []\n",
    "    decoder_losses = []\n",
    "    encoder_validation_losses = []\n",
    "    decoder_validation_losses = []\n",
    "    \n",
    "    predictions = []\n",
    "    validation_predictions = []\n",
    "    recovery = []\n",
    "    \n",
    "    # first, encoder training\n",
    "    try:\n",
    "        step = 0\n",
    "        \n",
    "        while not coord.should_stop():\n",
    "            _, loss_value, input_recover = sesh.run([train_step, loss, training_targets])\n",
    "            encoder_losses.append(loss_value)\n",
    "            \n",
    "            if step % 500 == 0:\n",
    "                print(step, loss_value)\n",
    "                recovery.append(input_recover)\n",
    "                \n",
    "            step += 1\n",
    "            \n",
    "    except tf.errors.OutOfRangeError:\n",
    "        print('Encoder trained: {:.2f}'.format(loss_value))\n",
    "        \n",
    "    # second, encoder validation\n",
    "    try:\n",
    "        step = 0\n",
    "        \n",
    "        while not coord.should_stop():\n",
    "            loss_value = sesh.run(validation_loss)\n",
    "            encoder_validation_losses.append(loss_value)\n",
    "\n",
    "            if step % 100 == 0:\n",
    "                print(loss_value)\n",
    "            \n",
    "            step += 1\n",
    "            \n",
    "    except tf.errors.OutOfRangeError:\n",
    "        print('Encoder validated: {:.2f}'.format(loss_value))\n",
    "        \n",
    "    # third, decoder training\n",
    "    try:\n",
    "        step = 0\n",
    "        \n",
    "        while not coord.should_stop():\n",
    "            _, loss_value, prediction = sesh.run([decoder_train_step, decoder_loss, decoded])\n",
    "            decoder_losses.append(loss_value)\n",
    "            \n",
    "            if step % 500 == 0:\n",
    "                predictions.append(prediction)\n",
    "                print(step, loss_value)\n",
    "                \n",
    "            step += 1\n",
    "            \n",
    "    except tf.errors.OutOfRangeError:\n",
    "        print('Decoder trained: {:.2f}'.format(loss_value))\n",
    "        \n",
    "    # finally, decoder validation\n",
    "    try:\n",
    "        step = 0\n",
    "        \n",
    "        while not coord.should_stop():\n",
    "            loss_value, prediction = sesh.run([decoded_validation_loss, decoded_validation])\n",
    "            decoder_validation_losses.append(loss_value)\n",
    "            \n",
    "            if step % 100 == 0:\n",
    "                validation_predictions.append(prediction)\n",
    "                print(loss_value)\n",
    "                \n",
    "            step += 1\n",
    "            \n",
    "    except tf.errors.OutOfRangeError:\n",
    "        print('Decoder validated: {:.2f}'.format(loss_value))\n",
    "        \n",
    "    finally:\n",
    "        coord.request_stop()\n",
    "        \n",
    "    coord.join(threads)\n",
    "    saver.save(sesh, 'ptypelstm-debug')\n",
    "    "
   ]
  },
  {
   "cell_type": "code",
   "execution_count": 10,
   "metadata": {},
   "outputs": [
    {
     "data": {
      "text/plain": [
       "[0, 100000]"
      ]
     },
     "execution_count": 10,
     "metadata": {},
     "output_type": "execute_result"
    },
    {
     "data": {
      "image/png": "[encoded data removed]",
      "text/plain": [
       "<matplotlib.figure.Figure at 0x7f75ac7710b8>"
      ]
     },
     "metadata": {},
     "output_type": "display_data"
    }
   ],
   "source": [
    "fig, axes = plt.subplots(1, 1, figsize=(10, 10))\n",
    "\n",
    "axes.plot(encoder_losses)\n",
    "axes.plot(decoder_losses)\n",
    "plt.setp(axes, ylim=[0, 100000])\n"
   ]
  },
  {
   "cell_type": "code",
   "execution_count": 25,
   "metadata": {},
   "outputs": [
    {
     "data": {
      "text/plain": [
       "<matplotlib.image.AxesImage at 0x7f75ac78e2b0>"
      ]
     },
     "execution_count": 25,
     "metadata": {},
     "output_type": "execute_result"
    },
    {
     "data": {
      "image/png": "[encoded data removed]",
      "text/plain": [
       "<matplotlib.figure.Figure at 0x7f75db96fd30>"
      ]
     },
     "metadata": {},
     "output_type": "display_data"
    }
   ],
   "source": [
    "plt.imshow(predictions[-1][0, 0, :, :, :]/255)"
   ]
  },
  {
   "cell_type": "code",
   "execution_count": 17,
   "metadata": {},
   "outputs": [
    {
     "name": "stdout",
     "output_type": "stream",
     "text": [
      "[MoviePy] >>>> Building video test_lstm_pred.mp4\n",
      "[MoviePy] Writing video test_lstm_pred.mp4\n"
     ]
    },
    {
     "name": "stderr",
     "output_type": "stream",
     "text": [
      "100%|██████████| 64/64 [00:00<00:00, 2385.65it/s]"
     ]
    },
    {
     "name": "stdout",
     "output_type": "stream",
     "text": [
      "[MoviePy] Done.\n",
      "[MoviePy] >>>> Video ready: test_lstm_pred.mp4 \n",
      "\n"
     ]
    },
    {
     "name": "stderr",
     "output_type": "stream",
     "text": [
      "\n"
     ]
    }
   ],
   "source": [
    "def render_movie(frame_array, output_file, fps, max_pixel=255):\n",
    "    n_frames = frame_array.shape[0]\n",
    "    scaled_array = frame_array\n",
    "    clipped_frames = np.minimum(np.maximum(scaled_array, 0), max_pixel).astype(np.uint8)\n",
    "    clip = mpe.ImageSequenceClip(list(clipped_frames), fps=fps)\n",
    "    clip.write_videofile(output_file)\n",
    "    return clipped_frames\n",
    "\n",
    "frame_array = render_movie(predictions[-1][0], 'test_lstm_pred.mp4', 5)"
   ]
  },
  {
   "cell_type": "markdown",
   "metadata": {},
   "source": [
    "# Dated"
   ]
  },
  {
   "cell_type": "code",
   "execution_count": 4,
   "metadata": {},
   "outputs": [
    {
     "name": "stdout",
     "output_type": "stream",
     "text": [
      "[1024, 54, 74, 32] 127872\n",
      "Step 0 loss:\t0.41123143\n",
      "Step 500 loss:\t0.19287437\n",
      "Step 1000 loss:\t0.20916134\n"
     ]
    }
   ],
   "source": [
    "def run_exp_ae(batchsize, num_epochs, data=None):\n",
    "    \n",
    "    if data is not None:\n",
    "        video_inputs = tf.placeholder(dtype=tf.float32, shape=(None, 64, 60, 80, 3), name='inputs')\n",
    "        video_outputs = tf.placeholder(dtype=tf.float32, shape=(None, 64, 60, 80, 3), name='outputs')\n",
    "    else:\n",
    "         video_inputs, video_outputs = load.inputs('training', batchsize, num_epochs)\n",
    "            \n",
    "    inputs = tf.reshape(video_inputs, (-1, 60, 80, 3))\n",
    "    _, decoded_outputs = build_ae_model(video_inputs, encoder, decoder)\n",
    "\n",
    "    decoded = tf.reshape(decoded_outputs, (-1, 64, 60, 80, 3))\n",
    "    l2_weight = .02\n",
    "    l2_vars = [v for v in tf.trainable_variables() if 'bias' not in v.name]\n",
    "    l2_vars = [v for v in l2_vars if 'lstm' not in v.name]\n",
    "    l2_term = tf.add_n([tf.nn.l2_loss(v) for v in l2_vars])\n",
    "    \n",
    "    loss = tf.reduce_mean(tf.pow(decoded - video_outputs, 2))\n",
    "    train_step = tf.train.AdamOptimizer().minimize(loss + l2_weight*l2_term)\n",
    "    \n",
    "    saver = tf.train.Saver()\n",
    "    init_global = tf.global_variables_initializer()\n",
    "    init_local = tf.local_variables_initializer()\n",
    "    \n",
    "    coord = tf.train.Coordinator()\n",
    "        \n",
    "    with tf.Session() as sesh:\n",
    "        sesh.run(init_global)\n",
    "        sesh.run(init_local)\n",
    "        threads = tf.train.start_queue_runners(sess=sesh, coord=coord)\n",
    "\n",
    "        losses = []\n",
    "        predictions = []\n",
    "        \n",
    "        if data is not None:\n",
    "            X = data[:, :-1, :, :, :]\n",
    "            y = data[:, 1:, :, :, :]\n",
    "            for epoch in range(num_epochs):\n",
    "                batch_no = 0\n",
    "                for X_batch, y_batch in iterate_minibatches(X, y, batchsize=batchsize, shuffle=True):\n",
    "                    _, loss_value = sesh.run(\n",
    "                        [train_step, loss], \n",
    "                        feed_dict={video_inputs: X_batch, video_outputs: y_batch}\n",
    "                    )\n",
    "\n",
    "                    losses.append(loss_value / batchsize)\n",
    "                    if epoch % 10 == 0:\n",
    "                        if batch_no == 0:\n",
    "                            pred = sesh.run(decoded, feed_dict={video_inputs: X_batch, video_outputs: y_batch})\n",
    "                            predictions.append(pred)\n",
    "\n",
    "                print('Epoch {} loss: {:.8f}'.format(epoch, loss_value))\n",
    "            \n",
    "            saver.save(sesh, 'prototype-lstm-dummydata')\n",
    "        \n",
    "        else:\n",
    "            try:\n",
    "                step = 0\n",
    "\n",
    "                while not coord.should_stop():\n",
    "                    _, loss_value, prediction = sesh.run([train_step, loss, decoded])\n",
    "                    losses.append(loss_value)\n",
    "\n",
    "                    if step % 500 == 0:\n",
    "                        print('Step {} loss:\\t{:.8f}'.format(step, loss_value))\n",
    "                        predictions.append(prediction)\n",
    "                        \n",
    "                    if step > 1000:\n",
    "                        break\n",
    "                    \n",
    "                    step += 1\n",
    "\n",
    "            except tf.errors.OutOfRangeError:\n",
    "                print('Done; loss:\\t{:.8f}'.format(loss_value))\n",
    "\n",
    "            finally:\n",
    "                coord.request_stop()\n",
    "\n",
    "            coord.join(threads)\n",
    "            saver.save(sesh, 'prototype-lstm')\n",
    "        \n",
    "    return losses, predictions\n",
    "\n",
    "video_mask = np.ones((1024, 65, 3, 60, 80), dtype=np.uint8)\n",
    "frame = np.eye(60, dtype=np.uint8)\n",
    "padded = np.pad(frame, ((0, 0), (0, 20)), 'constant')\n",
    "\n",
    "video = video_mask * padded\n",
    "video = video.transpose((0, 1, 3, 4, 2))\n",
    "\n",
    "losses, predictions = run_exp_ae(16, 3)"
   ]
  },
  {
   "cell_type": "code",
   "execution_count": 6,
   "metadata": {
    "scrolled": false
   },
   "outputs": [
    {
     "name": "stdout",
     "output_type": "stream",
     "text": [
      "[256, 54, 74, 32] 127872\n",
      "[256, 54, 74, 32] 127872\n",
      "132.028131\n",
      "Step 0 loss: 0.2349\n",
      "Step 500 loss: 0.2951\n",
      "Step 1000 loss: 0.2732\n",
      "Step 1500 loss: 0.2971\n",
      "Step 2000 loss: 0.3299\n",
      "Step 2500 loss: 0.2013\n",
      "Step 3000 loss: 0.2342\n",
      "Step 3500 loss: 0.2449\n",
      "Step 4000 loss: 0.2932\n",
      "Step 4500 loss: 0.2911\n",
      "Done; loss: 4997.0000\n"
     ]
    }
   ],
   "source": [
    "losses = run_training(10, 4)"
   ]
  },
  {
   "cell_type": "code",
   "execution_count": 7,
   "metadata": {
    "scrolled": true
   },
   "outputs": [
    {
     "name": "stdout",
     "output_type": "stream",
     "text": [
      "[256, 54, 74, 32] 127872\n",
      "[256, 54, 74, 32] 127872\n",
      "INFO:tensorflow:Restoring parameters from prototype-lstm\n",
      "Step 0 loss: 1.0216\n",
      "Step 100 loss: 5.1698\n",
      "Step 200 loss: 3.0293\n",
      "Step 300 loss: 3.5475\n",
      "Step 400 loss: 6.0285\n",
      "Done; loss: 499.0000\n"
     ]
    }
   ],
   "source": [
    "losses, predictions = run_inference(4, 1)"
   ]
  },
  {
   "cell_type": "code",
   "execution_count": 8,
   "metadata": {},
   "outputs": [
    {
     "data": {
      "text/plain": [
       "(64, 60, 80, 3)"
      ]
     },
     "execution_count": 8,
     "metadata": {},
     "output_type": "execute_result"
    }
   ],
   "source": [
    "predictions[0][0].shape"
   ]
  },
  {
   "cell_type": "code",
   "execution_count": 10,
   "metadata": {},
   "outputs": [
    {
     "data": {
      "text/plain": [
       "<matplotlib.image.AxesImage at 0x7f4a680dbeb8>"
      ]
     },
     "execution_count": 10,
     "metadata": {},
     "output_type": "execute_result"
    },
    {
     "data": {
      "image/png": "[encoded data removed]",
      "text/plain": [
       "<matplotlib.figure.Figure at 0x7f4a6997b860>"
      ]
     },
     "metadata": {},
     "output_type": "display_data"
    }
   ],
   "source": [
    "plt.imshow(frame_array[0])"
   ]
  },
  {
   "cell_type": "code",
   "execution_count": 7,
   "metadata": {
    "collapsed": true
   },
   "outputs": [],
   "source": [
    "def iterate_minibatches(inputs, targets, batchsize=32, shuffle=False):\n",
    "    assert len(inputs) == len(targets)\n",
    "    if shuffle:\n",
    "        idxs = np.arange(len(inputs))\n",
    "        np.random.shuffle(idxs)\n",
    "\n",
    "    for idx in range(0, len(inputs) - batchsize + 1, batchsize):\n",
    "        if shuffle:\n",
    "            excerpt = idxs[idx:idx + batchsize]\n",
    "        else:\n",
    "            excerpt = slice(idx, idx + batchsize)\n",
    "        yield inputs[excerpt], targets[excerpt]\n",
    "\n",
    "def run_exp(batchsize, num_epochs, data):\n",
    "    \n",
    "    video_inputs = tf.placeholder(dtype=tf.float32, shape=(None, 64, 60, 80, 3), name='inputs')\n",
    "    video_outputs = tf.placeholder(dtype=tf.float32, shape=(None, 64, 60, 80, 3), name='outputs')\n",
    "    \n",
    "    targets, predictions, decoded = build_model(\n",
    "        video_inputs, video_outputs, \n",
    "        encoder, lstm_cell, decoder, \n",
    "        batchsize\n",
    "    )\n",
    "\n",
    "    l2_weight = .02\n",
    "    l2_vars = [v for v in tf.trainable_variables() if 'bias' not in v.name]\n",
    "    l2_vars = [v for v in l2_vars if 'lstm' not in v.name]\n",
    "    l2_term = tf.add_n([tf.nn.l2_loss(v) for v in l2_vars])\n",
    "    \n",
    "    loss = tf.reduce_mean(tf.pow(decoded - video_outputs, 2))\n",
    "    train_step = tf.train.AdamOptimizer().minimize(loss + l2_weight*l2_term)\n",
    "    \n",
    "    saver = tf.train.Saver()\n",
    "    init_global = tf.global_variables_initializer()\n",
    "    init_local = tf.local_variables_initializer()\n",
    "    \n",
    "    coord = tf.train.Coordinator()\n",
    "        \n",
    "    with tf.Session() as sesh:\n",
    "        sesh.run(init_global)\n",
    "        sesh.run(init_local)\n",
    "        threads = tf.train.start_queue_runners(sess=sesh, coord=coord)\n",
    "\n",
    "        losses = []\n",
    "        predictions = []\n",
    "        X = data[:, :-1, :, :, :]\n",
    "        y = data[:, 1:, :, :, :]\n",
    "        for epoch in range(num_epochs):\n",
    "            batch_no = 0\n",
    "            for X_batch, y_batch in iterate_minibatches(X, y, batchsize=batchsize, shuffle=True):\n",
    "                _, loss_value = sesh.run(\n",
    "                    [train_step, loss], \n",
    "                    feed_dict={video_inputs: X_batch, video_outputs: y_batch}\n",
    "                )\n",
    "                \n",
    "                losses.append(loss_value / batchsize)\n",
    "                if epoch % 10 == 0:\n",
    "                    if batch_no == 0:\n",
    "                        pred = sesh.run(decoded, feed_dict={video_inputs: X_batch, video_outputs: y_batch})\n",
    "                        predictions.append(pred)\n",
    "\n",
    "            print('Epoch {} loss: {:.8f}'.format(epoch, loss_value))\n",
    "            \n",
    "        saver.save(sesh, 'prototype-lstm-dummydata')\n",
    "        \n",
    "    return losses, predictions"
   ]
  },
  {
   "cell_type": "code",
   "execution_count": null,
   "metadata": {},
   "outputs": [
    {
     "name": "stdout",
     "output_type": "stream",
     "text": [
      "[None, 54, 74, 32] 127872\n",
      "[None, 54, 74, 32] 127872\n",
      "Epoch 0 loss: 0.00141136\n",
      "Epoch 1 loss: 0.00137648\n",
      "Epoch 2 loss: 0.00136667\n",
      "Epoch 3 loss: 0.00107762\n",
      "Epoch 4 loss: 0.00092498\n",
      "Epoch 5 loss: 0.00074946\n",
      "Epoch 6 loss: 0.00062873\n",
      "Epoch 7 loss: 0.00058377\n",
      "Epoch 8 loss: 0.00052654\n",
      "Epoch 9 loss: 0.00052334\n",
      "Epoch 10 loss: 0.00048500\n",
      "Epoch 11 loss: 0.00045160\n",
      "Epoch 12 loss: 0.00047589\n",
      "Epoch 20 loss: 0.00037393\n",
      "Epoch 21 loss: 0.00041242\n",
      "Epoch 22 loss: 0.00048877\n",
      "Epoch 23 loss: 0.00029773\n",
      "Epoch 24 loss: 0.00036219\n",
      "Epoch 25 loss: 0.00028578\n",
      "Epoch 26 loss: 0.00024851\n",
      "Epoch 27 loss: 0.00038165\n",
      "Epoch 28 loss: 0.00110055\n",
      "Epoch 29 loss: 0.02129955\n",
      "Epoch 30 loss: 0.06080876\n"
     ]
    }
   ],
   "source": [
    "video_mask = np.ones((1024, 65, 3, 60, 80), dtype=np.uint8)\n",
    "frame = np.eye(60, dtype=np.uint8)\n",
    "padded = np.pad(frame, ((0, 0), (0, 20)), 'constant')\n",
    "\n",
    "video = video_mask * padded\n",
    "video = video.transpose((0, 1, 3, 4, 2))\n",
    "\n",
    "losses, predictions = run_exp(16, 31, video.astype(np.float32))"
   ]
  },
  {
   "cell_type": "code",
   "execution_count": 9,
   "metadata": {},
   "outputs": [
    {
     "data": {
      "text/plain": [
       "[<matplotlib.lines.Line2D at 0x7f75b81c0d68>]"
      ]
     },
     "execution_count": 9,
     "metadata": {},
     "output_type": "execute_result"
    },
    {
     "data": {
      "image/png": "[encoded data removed]",
      "text/plain": [
       "<matplotlib.figure.Figure at 0x7f7714b8d8d0>"
      ]
     },
     "metadata": {},
     "output_type": "display_data"
    }
   ],
   "source": [
    "plt.plot(losses)"
   ]
  },
  {
   "cell_type": "code",
   "execution_count": 10,
   "metadata": {},
   "outputs": [
    {
     "name": "stdout",
     "output_type": "stream",
     "text": [
      "[MoviePy] >>>> Building video test_lstm_pred_dummy.mp4\n",
      "[MoviePy] Writing video test_lstm_pred_dummy.mp4\n"
     ]
    },
    {
     "name": "stderr",
     "output_type": "stream",
     "text": [
      "100%|██████████| 64/64 [00:00<00:00, 526.55it/s]"
     ]
    },
    {
     "name": "stdout",
     "output_type": "stream",
     "text": [
      "[MoviePy] Done.\n",
      "[MoviePy] >>>> Video ready: test_lstm_pred_dummy.mp4 \n",
      "\n"
     ]
    },
    {
     "name": "stderr",
     "output_type": "stream",
     "text": [
      "\n"
     ]
    }
   ],
   "source": [
    "def render_movie(frame_array, output_file, fps, max_pixel=255):\n",
    "    n_frames = frame_array.shape[0]\n",
    "    scaled_array = frame_array * 127.5 + 127.5\n",
    "    clipped_frames = np.minimum(np.maximum(scaled_array, 0), max_pixel).astype(np.uint8)\n",
    "    clip = mpe.ImageSequenceClip(list(clipped_frames), fps=fps)\n",
    "    clip.write_videofile(output_file)\n",
    "    return clipped_frames\n",
    "\n",
    "frame_array = render_movie(predictions[1][0], 'test_lstm_pred_dummy.mp4', 5)"
   ]
  },
  {
   "cell_type": "code",
   "execution_count": 12,
   "metadata": {},
   "outputs": [
    {
     "data": {
      "text/plain": [
       "<matplotlib.image.AxesImage at 0x7f76a26bd710>"
      ]
     },
     "execution_count": 12,
     "metadata": {},
     "output_type": "execute_result"
    },
    {
     "data": {
      "image/png": "[encoded data removed]",
      "text/plain": [
       "<matplotlib.figure.Figure at 0x7f76a2713ef0>"
      ]
     },
     "metadata": {},
     "output_type": "display_data"
    }
   ],
   "source": [
    "plt.imshow(frame_array[0])"
   ]
  },
  {
   "cell_type": "code",
   "execution_count": null,
   "metadata": {
    "collapsed": true
   },
   "outputs": [],
   "source": []
  }
 ],
 "metadata": {
  "kernelspec": {
   "display_name": "Python 3",
   "language": "python",
   "name": "python3"
  },
  "language_info": {
   "codemirror_mode": {
    "name": "ipython",
    "version": 3
   },
   "file_extension": ".py",
   "mimetype": "text/x-python",
   "name": "python",
   "nbconvert_exporter": "python",
   "pygments_lexer": "ipython3",
   "version": "3.4.3"
  }
 },
 "nbformat": 4,
 "nbformat_minor": 2
}
