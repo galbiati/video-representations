{
 "cells": [
  {
   "cell_type": "code",
   "execution_count": 2,
   "metadata": {
    "collapsed": true
   },
   "outputs": [],
   "source": [
    "import os\n",
    "import numpy as np\n",
    "\n",
    "import tensorflow as tf\n",
    "from tensorflow.python.framework import ops\n",
    "\n",
    "from load_data import *\n",
    "from models.customlayers import *\n",
    "from models.activations import *\n",
    "from training import *\n",
    "\n",
    "import moviepy.editor as mpe\n",
    "import models.ConvAE as cae\n",
    "L = tf.layers\n",
    "\n",
    "import matplotlib.pyplot as plt\n",
    "% matplotlib inline"
   ]
  },
  {
   "cell_type": "code",
   "execution_count": 3,
   "metadata": {
    "collapsed": true
   },
   "outputs": [],
   "source": [
    "data_dir = os.path.expanduser('~/Insight/video-representations/frames')\n",
    "training_file = os.path.join(data_dir, 'training.tfrecords')\n",
    "validation_file = os.path.join(data_dir, 'validation.tfrecords')\n",
    "testing_file = os.path.join(data_dir, 'testing.tfrecords')"
   ]
  },
  {
   "cell_type": "markdown",
   "metadata": {},
   "source": [
    "# Model"
   ]
  },
  {
   "cell_type": "code",
   "execution_count": 4,
   "metadata": {},
   "outputs": [],
   "source": [
    "def invert_layer(input, invlayer_in, inv_layer_out):\n",
    "    return tf.gradient(inv_layer_out, inv_layer_in, input)\n",
    "\n",
    "def encoder(image):\n",
    "    original_shape = image.get_shape().as_list()\n",
    "    input_layer = tf.reshape(image, (-1, 60, 80, 3))\n",
    " \n",
    "    conv1 = L.conv2d(\n",
    "        input_layer, name='conv1',\n",
    "        filters=16, kernel_size=3, activation=lrelu\n",
    "    )\n",
    "        \n",
    "    conv2 = L.conv2d(\n",
    "        conv1, name='conv2',\n",
    "        filters=32, kernel_size=5, activation=lrelu\n",
    "    )\n",
    "\n",
    "    shape_ = conv2.get_shape().as_list()\n",
    "    newdim = shape_[1] * shape_[2] * shape_[3]\n",
    "    print(shape_, newdim)\n",
    "    \n",
    "    dense1 = dense_reshape(conv2, name='dense1', units=512, activation=lrelu)\n",
    "    \n",
    "    return tf.reshape(dense1, (-1, 64, 512))\n",
    "\n",
    "\n",
    "def decoder(encoded):\n",
    "    encoded_reshaped = tf.reshape(encoded, (-1, 512))\n",
    "    \n",
    "    dense1 = L.dense(encoded_reshaped, units=127872, activation=lrelu, name='dense1')\n",
    "\n",
    "    dense1_reshaped = tf.reshape(dense1, (-1, 54, 74, 32))\n",
    "\n",
    "    deconv3 = L.conv2d_transpose(\n",
    "        dense1_reshaped, name='deconv3', \n",
    "        filters=32, kernel_size=5, activation=lrelu,\n",
    "    )\n",
    "    \n",
    "    deconv4 = L.conv2d_transpose(\n",
    "        deconv3, name='deconv4', \n",
    "        filters=3, kernel_size=3, activation=None,\n",
    "    )\n",
    "    \n",
    "    deconv4_reshaped = tf.transpose(deconv4, perm=(0, 3, 1, 2))\n",
    "\n",
    "    return deconv4_reshaped\n",
    "\n",
    "lstm_cell = tf.nn.rnn_cell.LSTMCell(num_units=256)\n",
    "\n",
    "def build_model(inputs, outputs, encoder, lstm_cell, decoder, batchsize):\n",
    "    with tf.variable_scope('encoder'):\n",
    "        encoded_input = encoder(inputs)\n",
    "        encoded_input_reshaped = tf.reshape(encoded_input, (batchsize, -1, 512))\n",
    "        \n",
    "    with tf.variable_scope('encoder', reuse=True):\n",
    "        encoded_output = encoder(outputs)\n",
    "        encoded_output_reshaped = tf.reshape(encoded_output, (batchsize, -1, 512))\n",
    "        \n",
    "    with tf.variable_scope('lstm'):\n",
    "        transitioned = tf.nn.dynamic_rnn(\n",
    "            lstm_cell, encoded_input_reshaped, \n",
    "            sequence_length=[64]*batchsize, dtype=tf.float32, swap_memory=True\n",
    "        )\n",
    "        transitioned_reshaped = tf.reshape(transitioned[0], (-1, 256))\n",
    "        encoded_prediction = L.dense(transitioned_reshaped, 512, activation=tf.nn.relu)\n",
    "        encoded_prediction_reshaped = tf.reshape(encoded_prediction, (batchsize, -1, 512))\n",
    "        \n",
    "    with tf.variable_scope('decoder'):\n",
    "        decoded = decoder(encoded_prediction)\n",
    "        decoded_reshaped = tf.reshape(decoded, (batchsize, -1, 60, 80, 3))\n",
    "        \n",
    "    return encoded_output_reshaped, encoded_prediction_reshaped, decoded_reshaped\n",
    "\n",
    "# note: relu output seems to give sharper lines"
   ]
  },
  {
   "cell_type": "code",
   "execution_count": 4,
   "metadata": {},
   "outputs": [
    {
     "name": "stdout",
     "output_type": "stream",
     "text": [
      "[None, 54, 74, 32] 127872\n"
     ]
    }
   ],
   "source": [
    "tf.reset_default_graph()\n",
    "\n",
    "input_var = tf.placeholder(dtype=tf.float32, shape=(None, 3, 60, 80), name='input')\n",
    "target_var = tf.placeholder(dtype=tf.float32, shape=(None, 3, 60, 80), name='target')\n",
    "\n",
    "with tf.variable_scope('iencoder') as enc:\n",
    "    encoded = encoder(input_var)\n",
    "    \n",
    "with tf.variable_scope('decoder') as dec:\n",
    "    decoded = decoder(encoded)"
   ]
  },
  {
   "cell_type": "code",
   "execution_count": 5,
   "metadata": {
    "collapsed": true
   },
   "outputs": [],
   "source": [
    "def read_record(filepath_queue):\n",
    "    reader = tf.TFRecordReader()\n",
    "    _, serialized_example = reader.read(filepath_queue)\n",
    "    \n",
    "    features = tf.parse_single_example(\n",
    "        serialized_example,\n",
    "        features={\n",
    "            'height': tf.FixedLenFeature([], tf.int64),\n",
    "            'width': tf.FixedLenFeature([], tf.int64),\n",
    "            'video': tf.FixedLenFeature([], tf.string),\n",
    "            'label': tf.FixedLenFeature([], tf.int64),\n",
    "            'length': tf.FixedLenFeature([], tf.int64)\n",
    "        }\n",
    "    )\n",
    "    \n",
    "    video = tf.decode_raw(features['video'], tf.uint8)   # feature may be renamed to video in future\n",
    "\n",
    "    video_shape = tf.stack([-1, 60, 80, 3])\n",
    "    video = tf.cast(tf.reshape(video, video_shape), tf.float32)\n",
    "    video = tf.slice(video, [0, 0, 0, 0], [128, -1, -1, -1])\n",
    "    video = (video - 127.5) / 127.5\n",
    "    \n",
    "    return video\n",
    "    \n",
    "def inputs(split_type, batchsize, num_epochs): \n",
    "    if not num_epochs:\n",
    "        num_epochs = None\n",
    "        \n",
    "    filepath = os.path.join(data_dir, '{}.tfrecords'.format(split_type))\n",
    "    \n",
    "    with tf.name_scope('input'):\n",
    "        filepath_queue = tf.train.string_input_producer([filepath], num_epochs=num_epochs)\n",
    "    \n",
    "    video = read_record(filepath_queue)\n",
    "    videos = tf.train.shuffle_batch(\n",
    "        [video], batchsize, \n",
    "        capacity=128 + 2*batchsize, min_after_dequeue=128, num_threads=2\n",
    "    )\n",
    "    \n",
    "    video_inputs = tf.slice(videos, begin=[0, 0, 0, 0, 0], size=[-1, 64, -1, -1, -1])\n",
    "    video_outputs = tf.slice(videos, begin=[0, 1, 0, 0, 0], size=[-1, 64, -1, -1, -1])\n",
    "    \n",
    "    return video_inputs, video_outputs"
   ]
  },
  {
   "cell_type": "code",
   "execution_count": 6,
   "metadata": {
    "collapsed": true
   },
   "outputs": [],
   "source": [
    "def run_training(num_epochs, batchsize):\n",
    "    video_inputs, video_outputs = inputs('training', batchsize, num_epochs)\n",
    "    \n",
    "    targets, predictions, decoded = build_model(\n",
    "        video_inputs, video_outputs, \n",
    "        encoder, lstm_cell, decoder, \n",
    "        batchsize\n",
    "    )\n",
    "        \n",
    "    l2_weight = .01\n",
    "    l2_vars = [v for v in tf.trainable_variables() if 'bias' not in v.name]\n",
    "    l2_vars = [v for v in l2_vars if 'lstm' not in v.name]\n",
    "    l2_term = tf.add_n([tf.nn.l2_loss(v) for v in l2_vars])\n",
    "    \n",
    "    loss = tf.reduce_mean(tf.pow(decoded - video_outputs, 2))\n",
    "    train_step = tf.train.AdamOptimizer().minimize(loss + l2_weight*l2_term)\n",
    "    \n",
    "#     decoder_loss = tf.reduce_mean(tf.pow(decoded - video_outputs, 2))\n",
    "#     decoder_vars = tf.get_collection(tf.GraphKeys.GLOBAL_VARIABLES, scope='decoder')\n",
    "#     decoder_train_step = tf.train.AdamOptimizer().minimize(decoder_loss, var_list=decoder_vars)\n",
    "    \n",
    "    saver = tf.train.Saver()\n",
    "    init_global = tf.global_variables_initializer()\n",
    "    init_local = tf.local_variables_initializer()\n",
    "    \n",
    "    coord = tf.train.Coordinator()\n",
    "        \n",
    "    with tf.Session() as sesh:\n",
    "        sesh.run(init_global)\n",
    "        sesh.run(init_local)\n",
    "        threads = tf.train.start_queue_runners(sess=sesh, coord=coord)\n",
    "\n",
    "        losses = []\n",
    "        decoder_losses = []\n",
    "            \n",
    "        try:\n",
    "            step = 0\n",
    "            print(np.sum([np.prod(v.shape.as_list()) for v in tf.trainable_variables()]) / 1000000)\n",
    "\n",
    "            while not coord.should_stop():\n",
    "                _, loss_value = sesh.run([train_step, loss])\n",
    "#                 _, decoder_loss_value = sesh.run([decoder_train_step, decoder_loss])\n",
    "                losses.append(loss_value)\n",
    "#                 decoder_losses.append(decoder_loss_value)\n",
    "                if step % 500 == 0:\n",
    "                    print('Step {} loss: {:.4f}'.format(step, loss_value))\n",
    "#                     print('Step {} decoder loss: {:.4f}'.format(step, decoder_loss_value))\n",
    "\n",
    "                step += 1\n",
    "\n",
    "        except tf.errors.OutOfRangeError:\n",
    "            print('Done; loss: {:.4f}'.format(loss_value))\n",
    "\n",
    "        finally:\n",
    "            coord.request_stop()\n",
    "\n",
    "        coord.join(threads)\n",
    "        \n",
    "        saver.save(sesh, 'prototype-lstm')\n",
    "    return losses, decoder_losses"
   ]
  },
  {
   "cell_type": "code",
   "execution_count": 6,
   "metadata": {
    "scrolled": false
   },
   "outputs": [
    {
     "name": "stdout",
     "output_type": "stream",
     "text": [
      "[256, 54, 74, 32] 127872\n",
      "[256, 54, 74, 32] 127872\n",
      "132.028131\n",
      "Step 0 loss: 0.2349\n",
      "Step 500 loss: 0.2951\n",
      "Step 1000 loss: 0.2732\n",
      "Step 1500 loss: 0.2971\n",
      "Step 2000 loss: 0.3299\n",
      "Step 2500 loss: 0.2013\n",
      "Step 3000 loss: 0.2342\n",
      "Step 3500 loss: 0.2449\n",
      "Step 4000 loss: 0.2932\n",
      "Step 4500 loss: 0.2911\n",
      "Done; loss: 4997.0000\n"
     ]
    }
   ],
   "source": [
    "losses = run_training(10, 4)"
   ]
  },
  {
   "cell_type": "code",
   "execution_count": 8,
   "metadata": {},
   "outputs": [
    {
     "data": {
      "text/plain": [
       "[<matplotlib.lines.Line2D at 0x7fb8bc1d6198>]"
      ]
     },
     "execution_count": 8,
     "metadata": {},
     "output_type": "execute_result"
    },
    {
     "data": {
      "image/png": "[encoded data removed]",
      "text/plain": [
       "<matplotlib.figure.Figure at 0x7fb8bc2f4e48>"
      ]
     },
     "metadata": {},
     "output_type": "display_data"
    }
   ],
   "source": [
    "plt.plot(losses[0])"
   ]
  },
  {
   "cell_type": "code",
   "execution_count": 7,
   "metadata": {
    "collapsed": true
   },
   "outputs": [],
   "source": [
    "def run_inference(batchsize, num_epochs):\n",
    "    video_inputs, video_outputs = inputs('training', batchsize, num_epochs)\n",
    "    \n",
    "    targets, predictions, decoded = build_model(\n",
    "        video_inputs, video_outputs, \n",
    "        encoder, lstm_cell, decoder, \n",
    "        batchsize\n",
    "    )\n",
    "\n",
    "    saver = tf.train.Saver()\n",
    "    \n",
    "    loss = tf.reduce_mean(tf.pow(targets - predictions, 2))\n",
    "    decoder_loss = tf.reduce_mean(tf.pow(decoded - video_inputs, 2))\n",
    "    \n",
    "    init_global = tf.global_variables_initializer()\n",
    "    init_local = tf.local_variables_initializer()\n",
    "    \n",
    "    coord = tf.train.Coordinator()\n",
    "    \n",
    "    with tf.Session() as sesh:\n",
    "        sesh.run(init_global)\n",
    "        sesh.run(init_local)\n",
    "        saver.restore(sesh, 'prototype-lstm')\n",
    "        threads = tf.train.start_queue_runners(sess=sesh, coord=coord)\n",
    "\n",
    "        losses = []\n",
    "        predictions = []\n",
    "            \n",
    "        try:\n",
    "            step = 0\n",
    "\n",
    "            while not coord.should_stop():\n",
    "                prediction, loss_value = sesh.run([decoded, loss])\n",
    "                losses.append(loss_value)\n",
    "\n",
    "                if step % 100 == 0:\n",
    "                    print('Step {} loss: {:.4f}'.format(step, loss_value))\n",
    "                    predictions.append(prediction)\n",
    "\n",
    "                step += 1\n",
    "\n",
    "        except tf.errors.OutOfRangeError:\n",
    "            print('Done; loss: {:.4f}'.format(loss_value))\n",
    "\n",
    "        finally:\n",
    "            coord.request_stop()\n",
    "\n",
    "        coord.join(threads)\n",
    "        \n",
    "    return losses, predictions"
   ]
  },
  {
   "cell_type": "code",
   "execution_count": 7,
   "metadata": {
    "scrolled": true
   },
   "outputs": [
    {
     "name": "stdout",
     "output_type": "stream",
     "text": [
      "[256, 54, 74, 32] 127872\n",
      "[256, 54, 74, 32] 127872\n",
      "INFO:tensorflow:Restoring parameters from prototype-lstm\n",
      "Step 0 loss: 1.0216\n",
      "Step 100 loss: 5.1698\n",
      "Step 200 loss: 3.0293\n",
      "Step 300 loss: 3.5475\n",
      "Step 400 loss: 6.0285\n",
      "Done; loss: 499.0000\n"
     ]
    }
   ],
   "source": [
    "losses, predictions = run_inference(4, 1)"
   ]
  },
  {
   "cell_type": "code",
   "execution_count": 8,
   "metadata": {},
   "outputs": [
    {
     "data": {
      "text/plain": [
       "(64, 60, 80, 3)"
      ]
     },
     "execution_count": 8,
     "metadata": {},
     "output_type": "execute_result"
    }
   ],
   "source": [
    "predictions[0][0].shape"
   ]
  },
  {
   "cell_type": "code",
   "execution_count": 9,
   "metadata": {},
   "outputs": [
    {
     "name": "stdout",
     "output_type": "stream",
     "text": [
      "[MoviePy] >>>> Building video test_lstm_pred.mp4\n",
      "[MoviePy] Writing video test_lstm_pred.mp4\n"
     ]
    },
    {
     "name": "stderr",
     "output_type": "stream",
     "text": [
      "100%|██████████| 64/64 [00:00<00:00, 3932.26it/s]"
     ]
    },
    {
     "name": "stdout",
     "output_type": "stream",
     "text": [
      "[MoviePy] Done.\n",
      "[MoviePy] >>>> Video ready: test_lstm_pred.mp4 \n",
      "\n"
     ]
    },
    {
     "name": "stderr",
     "output_type": "stream",
     "text": [
      "\n"
     ]
    }
   ],
   "source": [
    "def render_movie(frame_array, output_file, fps, max_pixel=255):\n",
    "    n_frames = frame_array.shape[0]\n",
    "    scaled_array = frame_array * 127.5 + 127.5\n",
    "    clipped_frames = np.minimum(np.maximum(scaled_array, 0), max_pixel).astype(np.uint8)\n",
    "    clip = mpe.ImageSequenceClip(list(clipped_frames), fps=fps)\n",
    "    clip.write_videofile(output_file)\n",
    "    return clipped_frames\n",
    "\n",
    "frame_array = render_movie(predictions[1][0], 'test_lstm_pred.mp4', 5)"
   ]
  },
  {
   "cell_type": "code",
   "execution_count": 10,
   "metadata": {},
   "outputs": [
    {
     "data": {
      "text/plain": [
       "<matplotlib.image.AxesImage at 0x7f4a680dbeb8>"
      ]
     },
     "execution_count": 10,
     "metadata": {},
     "output_type": "execute_result"
    },
    {
     "data": {
      "image/png": "[encoded data removed]",
      "text/plain": [
       "<matplotlib.figure.Figure at 0x7f4a6997b860>"
      ]
     },
     "metadata": {},
     "output_type": "display_data"
    }
   ],
   "source": [
    "plt.imshow(frame_array[0])"
   ]
  },
  {
   "cell_type": "code",
   "execution_count": 8,
   "metadata": {
    "collapsed": true
   },
   "outputs": [],
   "source": [
    "def iterate_minibatches(inputs, targets, batchsize=32, shuffle=False):\n",
    "    assert len(inputs) == len(targets)\n",
    "    if shuffle:\n",
    "        idxs = np.arange(len(inputs))\n",
    "        np.random.shuffle(idxs)\n",
    "\n",
    "    for idx in range(0, len(inputs) - batchsize + 1, batchsize):\n",
    "        if shuffle:\n",
    "            excerpt = idxs[idx:idx + batchsize]\n",
    "        else:\n",
    "            excerpt = slice(idx, idx + batchsize)\n",
    "        yield inputs[excerpt], targets[excerpt]\n",
    "\n",
    "def run_exp(batchsize, num_epochs, data):\n",
    "    \n",
    "    video_inputs = tf.placeholder(dtype=tf.float32, shape=(None, 64, 60, 80, 3), name='inputs')\n",
    "    video_outputs = tf.placeholder(dtype=tf.float32, shape=(None, 64, 60, 80, 3), name='outputs')\n",
    "    \n",
    "    targets, predictions, decoded = build_model(\n",
    "        video_inputs, video_outputs, \n",
    "        encoder, lstm_cell, decoder, \n",
    "        batchsize\n",
    "    )\n",
    "\n",
    "    l2_weight = .02\n",
    "    l2_vars = [v for v in tf.trainable_variables() if 'bias' not in v.name]\n",
    "    l2_vars = [v for v in l2_vars if 'lstm' not in v.name]\n",
    "    l2_term = tf.add_n([tf.nn.l2_loss(v) for v in l2_vars])\n",
    "    \n",
    "    loss = tf.reduce_mean(tf.pow(decoded - video_outputs, 2))\n",
    "    train_step = tf.train.AdamOptimizer().minimize(loss + l2_weight*l2_term)\n",
    "    \n",
    "    saver = tf.train.Saver()\n",
    "    init_global = tf.global_variables_initializer()\n",
    "    init_local = tf.local_variables_initializer()\n",
    "    \n",
    "    coord = tf.train.Coordinator()\n",
    "        \n",
    "    with tf.Session() as sesh:\n",
    "        sesh.run(init_global)\n",
    "        sesh.run(init_local)\n",
    "        threads = tf.train.start_queue_runners(sess=sesh, coord=coord)\n",
    "\n",
    "        losses = []\n",
    "        predictions = []\n",
    "        X = data[:, :-1, :, :, :]\n",
    "        y = data[:, 1:, :, :, :]\n",
    "        for epoch in range(num_epochs):\n",
    "            batch_no = 0\n",
    "            for X_batch, y_batch in iterate_minibatches(X, y, batchsize=batchsize, shuffle=True):\n",
    "                _, loss_value = sesh.run(\n",
    "                    [train_step, loss], \n",
    "                    feed_dict={video_inputs: X_batch, video_outputs: y_batch}\n",
    "                )\n",
    "                \n",
    "                losses.append(loss_value / batchsize)\n",
    "                if epoch % 10 == 0:\n",
    "                    if batch_no == 0:\n",
    "                        pred = sesh.run(decoded, feed_dict={video_inputs: X_batch, video_outputs: y_batch})\n",
    "                        predictions.append(pred)\n",
    "\n",
    "            print('Epoch {} loss: {:.8f}'.format(epoch, loss_value))\n",
    "            \n",
    "        saver.save(sesh, 'prototype-lstm-dummydata')\n",
    "        \n",
    "    return losses, predictions"
   ]
  },
  {
   "cell_type": "code",
   "execution_count": null,
   "metadata": {},
   "outputs": [
    {
     "name": "stdout",
     "output_type": "stream",
     "text": [
      "[None, 54, 74, 32] 127872\n",
      "[None, 54, 74, 32] 127872\n",
      "Epoch 0 loss: 0.00141136\n",
      "Epoch 1 loss: 0.00137648\n",
      "Epoch 2 loss: 0.00136667\n",
      "Epoch 3 loss: 0.00107762\n",
      "Epoch 4 loss: 0.00092498\n",
      "Epoch 5 loss: 0.00074946\n",
      "Epoch 6 loss: 0.00062873\n",
      "Epoch 7 loss: 0.00058377\n",
      "Epoch 8 loss: 0.00052654\n",
      "Epoch 9 loss: 0.00052334\n",
      "Epoch 10 loss: 0.00048500\n",
      "Epoch 11 loss: 0.00045160\n",
      "Epoch 12 loss: 0.00047589\n",
      "Epoch 20 loss: 0.00037393\n",
      "Epoch 21 loss: 0.00041242\n",
      "Epoch 22 loss: 0.00048877\n",
      "Epoch 23 loss: 0.00029773\n",
      "Epoch 24 loss: 0.00036219\n",
      "Epoch 25 loss: 0.00028578\n",
      "Epoch 26 loss: 0.00024851\n",
      "Epoch 27 loss: 0.00038165\n",
      "Epoch 28 loss: 0.00110055\n",
      "Epoch 29 loss: 0.02129955\n",
      "Epoch 30 loss: 0.06080876\n"
     ]
    }
   ],
   "source": [
    "video_mask = np.ones((1024, 65, 3, 60, 80), dtype=np.uint8)\n",
    "frame = np.eye(60, dtype=np.uint8)\n",
    "padded = np.pad(frame, ((0, 0), (0, 20)), 'constant')\n",
    "\n",
    "video = video_mask * padded\n",
    "video = video.transpose((0, 1, 3, 4, 2))\n",
    "\n",
    "losses, predictions = run_exp(16, 31, video.astype(np.float32))"
   ]
  },
  {
   "cell_type": "code",
   "execution_count": 11,
   "metadata": {},
   "outputs": [
    {
     "data": {
      "text/plain": [
       "[<matplotlib.lines.Line2D at 0x7f68042a1908>]"
      ]
     },
     "execution_count": 11,
     "metadata": {},
     "output_type": "execute_result"
    },
    {
     "data": {
      "image/png": "[encoded data removed]",
      "text/plain": [
       "<matplotlib.figure.Figure at 0x7f695cc27940>"
      ]
     },
     "metadata": {},
     "output_type": "display_data"
    }
   ],
   "source": [
    "plt.plot(losses)"
   ]
  },
  {
   "cell_type": "code",
   "execution_count": 12,
   "metadata": {},
   "outputs": [
    {
     "name": "stdout",
     "output_type": "stream",
     "text": [
      "[MoviePy] >>>> Building video test_lstm_pred_dummy.mp4\n",
      "[MoviePy] Writing video test_lstm_pred_dummy.mp4\n"
     ]
    },
    {
     "name": "stderr",
     "output_type": "stream",
     "text": [
      "100%|██████████| 64/64 [00:00<00:00, 1575.88it/s]"
     ]
    },
    {
     "name": "stdout",
     "output_type": "stream",
     "text": [
      "[MoviePy] Done.\n",
      "[MoviePy] >>>> Video ready: test_lstm_pred_dummy.mp4 \n",
      "\n"
     ]
    },
    {
     "name": "stderr",
     "output_type": "stream",
     "text": [
      "\n"
     ]
    }
   ],
   "source": [
    "def render_movie(frame_array, output_file, fps, max_pixel=255):\n",
    "    n_frames = frame_array.shape[0]\n",
    "    scaled_array = frame_array * 127.5 + 127.5\n",
    "    clipped_frames = np.minimum(np.maximum(scaled_array, 0), max_pixel).astype(np.uint8)\n",
    "    clip = mpe.ImageSequenceClip(list(clipped_frames), fps=fps)\n",
    "    clip.write_videofile(output_file)\n",
    "    return clipped_frames\n",
    "\n",
    "frame_array = render_movie(predictions[1][0], 'test_lstm_pred_dummy.mp4', 5)"
   ]
  },
  {
   "cell_type": "code",
   "execution_count": 16,
   "metadata": {},
   "outputs": [
    {
     "data": {
      "text/plain": [
       "array([[[127, 127, 127],\n",
       "        [127, 127, 127],\n",
       "        [127, 127, 127],\n",
       "        ..., \n",
       "        [127, 127, 127],\n",
       "        [127, 127, 127],\n",
       "        [127, 127, 127]],\n",
       "\n",
       "       [[127, 127, 127],\n",
       "        [127, 127, 128],\n",
       "        [127, 127, 127],\n",
       "        ..., \n",
       "        [127, 127, 127],\n",
       "        [127, 127, 127],\n",
       "        [127, 127, 127]],\n",
       "\n",
       "       [[127, 127, 127],\n",
       "        [127, 127, 127],\n",
       "        [128, 128, 128],\n",
       "        ..., \n",
       "        [127, 127, 127],\n",
       "        [127, 127, 127],\n",
       "        [127, 127, 127]],\n",
       "\n",
       "       ..., \n",
       "       [[127, 127, 128],\n",
       "        [127, 127, 127],\n",
       "        [127, 127, 128],\n",
       "        ..., \n",
       "        [128, 128, 128],\n",
       "        [128, 128, 128],\n",
       "        [128, 127, 127]],\n",
       "\n",
       "       [[127, 127, 128],\n",
       "        [128, 128, 128],\n",
       "        [127, 127, 127],\n",
       "        ..., \n",
       "        [128, 128, 128],\n",
       "        [128, 128, 128],\n",
       "        [128, 127, 127]],\n",
       "\n",
       "       [[127, 127, 128],\n",
       "        [128, 128, 128],\n",
       "        [128, 128, 128],\n",
       "        ..., \n",
       "        [127, 127, 127],\n",
       "        [127, 127, 127],\n",
       "        [127, 127, 127]]], dtype=uint8)"
      ]
     },
     "execution_count": 16,
     "metadata": {},
     "output_type": "execute_result"
    }
   ],
   "source": [
    "frame_array[0]"
   ]
  },
  {
   "cell_type": "code",
   "execution_count": null,
   "metadata": {
    "collapsed": true
   },
   "outputs": [],
   "source": []
  }
 ],
 "metadata": {
  "kernelspec": {
   "display_name": "Python 3",
   "language": "python",
   "name": "python3"
  },
  "language_info": {
   "codemirror_mode": {
    "name": "ipython",
    "version": 3
   },
   "file_extension": ".py",
   "mimetype": "text/x-python",
   "name": "python",
   "nbconvert_exporter": "python",
   "pygments_lexer": "ipython3",
   "version": "3.4.3"
  }
 },
 "nbformat": 4,
 "nbformat_minor": 2
}
