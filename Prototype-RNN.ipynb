{
 "cells": [
  {
   "cell_type": "code",
   "execution_count": 1,
   "metadata": {
    "collapsed": true
   },
   "outputs": [],
   "source": [
    "import os\n",
    "import numpy as np\n",
    "\n",
    "import tensorflow as tf\n",
    "from tensorflow.python.framework import ops\n",
    "\n",
    "from load_data import *\n",
    "from models.customlayers import *\n",
    "from models.activations import *\n",
    "from training import *\n",
    "\n",
    "import moviepy.editor as mpe\n",
    "import models.ConvAE as cae\n",
    "L = tf.layers\n",
    "\n",
    "import matplotlib.pyplot as plt\n",
    "% matplotlib inline"
   ]
  },
  {
   "cell_type": "code",
   "execution_count": 2,
   "metadata": {
    "collapsed": true
   },
   "outputs": [],
   "source": [
    "data_dir = os.path.expanduser('~/Insight/video-representations/frames')\n",
    "training_file = os.path.join(data_dir, 'training.tfrecords')\n",
    "validation_file = os.path.join(data_dir, 'validation.tfrecords')\n",
    "testing_file = os.path.join(data_dir, 'testing.tfrecords')"
   ]
  },
  {
   "cell_type": "markdown",
   "metadata": {},
   "source": [
    "# Model"
   ]
  },
  {
   "cell_type": "markdown",
   "metadata": {},
   "source": [
    "Try first:\n",
    "\n",
    "- input full video, output full video\n",
    "- lstm encoder-decoder: at each timestep, input frame, output prediction for next frame\n",
    "- start with fixed size: 20 frames (later work with true recurrent net)\n",
    "\n",
    "Below is wrong; just instantiate lstm outside of function for now\n"
   ]
  },
  {
   "cell_type": "code",
   "execution_count": 3,
   "metadata": {
    "collapsed": true
   },
   "outputs": [],
   "source": [
    "def encoder(image):\n",
    "    original_shape = image.get_shape().as_list()\n",
    "    input_layer = tf.reshape(image, (-1, 60, 80, 3))\n",
    "    \n",
    "    conv1 = L.conv2d(\n",
    "        input_layer, name='conv1',\n",
    "        filters=16, kernel_size=3, activation=selu\n",
    "    )\n",
    "        \n",
    "    conv2 = L.conv2d(\n",
    "        conv1, name='conv2',\n",
    "        filters=32, kernel_size=3, activation=selu\n",
    "    )\n",
    "        \n",
    "    conv3 = L.conv2d(\n",
    "        conv2, name='conv3',\n",
    "        filters=32, kernel_size=5, activation=selu\n",
    "    )\n",
    "        \n",
    "    conv4 = L.conv2d(\n",
    "        conv3, name='conv4',\n",
    "        filters=32, kernel_size=5, activation=selu\n",
    "    )\n",
    "        \n",
    "    shape = conv4.get_shape().as_list()\n",
    "    print(shape)\n",
    "    newdim = shape[1] * shape[2] * shape[3]\n",
    "    print(newdim)\n",
    "    conv4_flat = tf.reshape(conv4, (-1, newdim))\n",
    "    print(conv4_flat.shape)\n",
    "\n",
    "    dense1 = dense_reshape(\n",
    "        conv4, name='dense1',\n",
    "        units=512, activation=selu\n",
    "    )\n",
    "    \n",
    "    return dense1\n",
    "\n",
    "\n",
    "def decoder(encoded):\n",
    "    dense1 = L.dense(encoded, units=104448, activation=selu, name='dense1')\n",
    "\n",
    "    dense1_reshaped = tf.reshape(dense1, (-1, 48, 68, 32))\n",
    "\n",
    "    deconv1 = L.conv2d_transpose(\n",
    "        dense1_reshaped, name='deconv1',\n",
    "        filters=64, kernel_size=5, activation=selu    \n",
    "    )\n",
    "\n",
    "    deconv2 = L.conv2d_transpose(\n",
    "        deconv1, filters=32, kernel_size=5, activation=selu,\n",
    "        name='deconv2'\n",
    "    )\n",
    "\n",
    "    deconv3 = L.conv2d_transpose(\n",
    "        deconv2, name='deconv3', \n",
    "        filters=32, kernel_size=3, activation=selu,\n",
    "    )\n",
    "    \n",
    "    deconv4 = L.conv2d_transpose(\n",
    "        deconv3, name='deconv4', \n",
    "        filters=3, kernel_size=3, activation=selu,\n",
    "    )\n",
    "    \n",
    "    deconv4_reshaped = tf.transpose(deconv4, perm=(0, 3, 1, 2))\n",
    "\n",
    "    return deconv4_reshaped"
   ]
  },
  {
   "cell_type": "code",
   "execution_count": 4,
   "metadata": {},
   "outputs": [
    {
     "name": "stdout",
     "output_type": "stream",
     "text": [
      "[None, 48, 68, 32]\n",
      "104448\n",
      "(?, 104448)\n"
     ]
    }
   ],
   "source": [
    "tf.reset_default_graph()\n",
    "\n",
    "input_var = tf.placeholder(dtype=tf.float32, shape=(None, 3, 60, 80), name='input')\n",
    "target_var = tf.placeholder(dtype=tf.float32, shape=(None, 3, 60, 80), name='target')\n",
    "\n",
    "with tf.variable_scope('encoder'):\n",
    "    encoded = encoder(input_var)\n",
    "    \n",
    "with tf.variable_scope('decoder'):\n",
    "    decoded = decoder(encoded)"
   ]
  },
  {
   "cell_type": "code",
   "execution_count": 4,
   "metadata": {
    "collapsed": true
   },
   "outputs": [],
   "source": [
    "def read_record(filepath_queue):\n",
    "    reader = tf.TFRecordReader()\n",
    "    _, serialized_example = reader.read(filepath_queue)\n",
    "    \n",
    "    features = tf.parse_single_example(\n",
    "        serialized_example,\n",
    "        features={\n",
    "            'height': tf.FixedLenFeature([], tf.int64),\n",
    "            'width': tf.FixedLenFeature([], tf.int64),\n",
    "            'video': tf.FixedLenFeature([], tf.string),\n",
    "            'label': tf.FixedLenFeature([], tf.int64),\n",
    "            'length': tf.FixedLenFeature([], tf.int64)\n",
    "        }\n",
    "    )\n",
    "    \n",
    "    video = tf.decode_raw(features['video'], tf.uint8)   # feature may be renamed to video in future\n",
    "    l = tf.cast(features['length'], tf.int32)\n",
    "    h = tf.cast(features['height'], tf.int32)\n",
    "    w = tf.cast(features['width'], tf.int32)\n",
    "\n",
    "    video_shape = tf.stack([-1, 60, 80, 3])\n",
    "    video = tf.cast(tf.reshape(video, video_shape), tf.float32)\n",
    "    \n",
    "    return video\n",
    "    \n",
    "def inputs(split_type, batchsize, num_epochs): \n",
    "    if not num_epochs:\n",
    "        num_epochs = None\n",
    "        \n",
    "    filepath = os.path.join(data_dir, '{}.tfrecords'.format(split_type))\n",
    "    \n",
    "    with tf.name_scope('input'):\n",
    "        filepath_queue = tf.train.string_input_producer([filepath], num_epochs=num_epochs)\n",
    "    \n",
    "    video = read_record(filepath_queue) # each video is a rank 4 tensor: [n_frames, x, y, c]\n",
    "    print(video.get_shape().as_list())\n",
    "    videos = tf.train.batch(\n",
    "        [video], batchsize, \n",
    "        capacity=128 + 2*batchsize, \n",
    "        num_threads=2,\n",
    "        dynamic_pad=True\n",
    "    )\n",
    "    \n",
    "    return videos"
   ]
  },
  {
   "cell_type": "code",
   "execution_count": 5,
   "metadata": {
    "collapsed": true
   },
   "outputs": [],
   "source": [
    "def run_training(num_epochs, batchsize):\n",
    "    videos = inputs('training', batchsize, num_epochs)\n",
    "    video_inputs = tf.slice(videos, begin=[0, 0, 0, 0, 0], size=[-1, 127, -1, -1, -1])\n",
    "    video_outputs = tf.slice(videos, begin=[0, 1, 0, 0, 0], size=[-1, 127, -1, -1, -1])\n",
    "    \n",
    "    with tf.variable_scope('encoder'):\n",
    "        encoded = encoder(video_inputs)\n",
    "        encoded_reshaped = tf.reshape(encoded, (1, -1, 512))\n",
    "    \n",
    "    with tf.variable_scope('lstm'):\n",
    "        lstm_cell = tf.nn.rnn_cell.LSTMCell(num_units=256)\n",
    "        transitioned = tf.nn.dynamic_rnn(lstm_cell, encoded_reshaped, dtype=tf.float32)\n",
    "        transitioned_reshaped = tf.reshape(transitioned[0], (-1, 256))\n",
    "        decoder_input = L.dense(transitioned_reshaped, 512, activation=selu)\n",
    "        \n",
    "    with tf.variable_scope('decoder'):\n",
    "        decoded = decoder(decoder_input)\n",
    "        \n",
    "    l2_weight = .01\n",
    "    l2_term = tf.add_n([tf.nn.l2_loss(v) for v in tf.trainable_variables() if 'bias' not in v.name])\n",
    "    \n",
    "    videos_reshaped = tf.reshape(video_outputs, (-1, 3, 60, 80))\n",
    "\n",
    "    loss = tf.reduce_mean(tf.pow(decoded - videos_reshaped, 2))\n",
    "    train_step = tf.train.AdamOptimizer().minimize(loss + l2_weight*l2_term)\n",
    "    saver = tf.train.Saver()\n",
    "    init_global = tf.global_variables_initializer()\n",
    "    init_local = tf.local_variables_initializer()\n",
    "    \n",
    "    coord = tf.train.Coordinator()\n",
    "    \n",
    "    with tf.Session() as sesh:\n",
    "        sesh.run(init_global)\n",
    "        sesh.run(init_local)\n",
    "        threads = tf.train.start_queue_runners(sess=sesh, coord=coord)\n",
    "\n",
    "        losses = []\n",
    "        try:\n",
    "            step = 0\n",
    "            print(np.sum([np.prod(v.shape.as_list()) for v in tf.trainable_variables()]) / 1000000)\n",
    "\n",
    "            while not coord.should_stop():\n",
    "                _, loss_value = sesh.run([train_step, loss])\n",
    "                losses.append(loss_value)\n",
    "                if step % 500 == 0:\n",
    "                    print('Step {} loss: {:.4f}'.format(step, loss_value))\n",
    "                \n",
    "                step += 1\n",
    "                \n",
    "        except tf.errors.OutOfRangeError:\n",
    "            print('Done; loss: {:.4f}'.format(step, loss_value))\n",
    "            \n",
    "        finally:\n",
    "            coord.request_stop()\n",
    "            \n",
    "        coord.join(threads)"
   ]
  },
  {
   "cell_type": "code",
   "execution_count": null,
   "metadata": {
    "scrolled": false
   },
   "outputs": [
    {
     "name": "stdout",
     "output_type": "stream",
     "text": [
      "[None, 60, 80, 3]\n",
      "[127, 48, 68, 32]\n",
      "104448\n",
      "(127, 104448)\n",
      "108.147715\n",
      "Step 0 loss: 4770.2798\n",
      "Step 500 loss: 2056.1392\n",
      "Step 1000 loss: 1613.0112\n",
      "Step 1500 loss: 3014.6636\n",
      "Step 2000 loss: 2132.7944\n"
     ]
    }
   ],
   "source": [
    "run_training(2, 1)"
   ]
  },
  {
   "cell_type": "code",
   "execution_count": null,
   "metadata": {
    "collapsed": true
   },
   "outputs": [],
   "source": [
    "def render_movie(frame_array, output_file, fps, max_pixel=256):\n",
    "    n_frames = frame_array.shape[0]\n",
    "    clipped_frames = np.minimum(np.maximum(frame_array, 0), max_pixel)\n",
    "    clip = mpe.ImageSequenceClip(list(clipped_frames), fps=fps)\n",
    "    clip.write_videofile(output_file)\n",
    "    return None"
   ]
  },
  {
   "cell_type": "code",
   "execution_count": null,
   "metadata": {
    "collapsed": true
   },
   "outputs": [],
   "source": []
  }
 ],
 "metadata": {
  "kernelspec": {
   "display_name": "Python 3",
   "language": "python",
   "name": "python3"
  },
  "language_info": {
   "codemirror_mode": {
    "name": "ipython",
    "version": 3
   },
   "file_extension": ".py",
   "mimetype": "text/x-python",
   "name": "python",
   "nbconvert_exporter": "python",
   "pygments_lexer": "ipython3",
   "version": "3.4.3"
  }
 },
 "nbformat": 4,
 "nbformat_minor": 2
}
