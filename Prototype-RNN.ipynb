{
 "cells": [
  {
   "cell_type": "code",
   "execution_count": 1,
   "metadata": {
    "collapsed": true
   },
   "outputs": [],
   "source": [
    "import os\n",
    "import numpy as np\n",
    "\n",
    "import tensorflow as tf\n",
    "from tensorflow.python.framework import ops\n",
    "\n",
    "import load_data as load\n",
    "from models.model import Model\n",
    "from models.customlayers import *\n",
    "from models.activations import *\n",
    "from training import *\n",
    "\n",
    "import moviepy.editor as mpe\n",
    "from models.AELSTM import *\n",
    "L = tf.layers\n",
    "\n",
    "import matplotlib.pyplot as plt\n",
    "% matplotlib inline"
   ]
  },
  {
   "cell_type": "code",
   "execution_count": 2,
   "metadata": {
    "collapsed": true
   },
   "outputs": [],
   "source": [
    "data_dir = os.path.expanduser('~/Insight/video-representations/frames')"
   ]
  },
  {
   "cell_type": "markdown",
   "metadata": {},
   "source": [
    "# Encoder-Decoder"
   ]
  },
  {
   "cell_type": "code",
   "execution_count": 3,
   "metadata": {
    "collapsed": true
   },
   "outputs": [],
   "source": [
    "class AEModel(Model):\n",
    "    def __init__(self, encoder, cell, decoder, \n",
    "                 latent_size, activation, \n",
    "                 batchsize, seqlen):\n",
    "        \n",
    "        self.latent_size = latent_size\n",
    "        self.encoder = lambda inputs: encoder(inputs, latent_size=latent_size)\n",
    "        self.cell_fw = cell(num_units=latent_size, activation=activation)\n",
    "        self.cell_bw = cell(num_units=latent_size, activation=activation)\n",
    "        self.decoder = decoder\n",
    "        self.batchsize = batchsize\n",
    "        self.seqlen = seqlen\n",
    "        self.stacked_shape = (batchsize*seqlen, 60, 80, 3)\n",
    "        self.sequence_shape = (batchsize, seqlen, 60, 80, 3)\n",
    "        \n",
    "    def build(self, inputs, reuse=False):\n",
    "        with tf.variable_scope('encoder', reuse=reuse):\n",
    "            inputs = self.stack(inputs)\n",
    "\n",
    "            encoded = self.encoder(inputs)\n",
    "            encoded = self.unstack(encoded)\n",
    "            \n",
    "        with tf.variable_scope('lstm', reuse=reuse):\n",
    "            # initialize hidden state with ones instead of zeros to ensure pass-through at start\n",
    "            initial_state = tfrnn.LSTMStateTuple(\n",
    "                tf.ones((self.batchsize, self.latent_size)),\n",
    "                tf.zeros((self.batchsize, self.latent_size))\n",
    "            )\n",
    "\n",
    "            junks, seeds = tf.nn.dynamic_rnn(\n",
    "                self.cell_fw, encoded,\n",
    "                initial_state=initial_state,\n",
    "                sequence_length=[self.seqlen]*self.batchsize,\n",
    "                dtype=tf.float32, swap_memory=True,\n",
    "            )\n",
    "            \n",
    "\n",
    "            def rnn_step(next_tuple, next_elem):\n",
    "                input, state = next_tuple\n",
    "                output, next_state = self.cell_fw(input, state)                \n",
    "                return (output, next_state)\n",
    "            \n",
    "            state = seeds\n",
    "            next_input = state[1]\n",
    "            elems = np.arange(self.seqlen)\n",
    "            \n",
    "            outputs, states = tf.scan(rnn_step, elems, (next_input, state), swap_memory=True)\n",
    "            transitioned = tf.transpose(outputs, (1, 0, 2))\n",
    "\n",
    "            transitioned_ = self.stack(transitioned)\n",
    "\n",
    "        with tf.variable_scope('encoder', reuse=True):\n",
    "            decoded = self.decoder(transitioned_)\n",
    "            decoded = self.unstack(decoded)\n",
    "\n",
    "        return encoded, transitioned, decoded"
   ]
  },
  {
   "cell_type": "code",
   "execution_count": 4,
   "metadata": {
    "collapsed": true,
    "scrolled": false
   },
   "outputs": [],
   "source": [
    "training_epochs = 20\n",
    "batchsize = 8\n",
    "sequence_length = 64\n",
    "\n",
    "model = AEModel(\n",
    "    encoder, PTLSTMCell, tied_decoder, \n",
    "    latent_size=2048, activation=tf.nn.tanh, #lambda x: 1.1 * tf.nn.tanh(x),\n",
    "    batchsize=batchsize, seqlen=sequence_length\n",
    ")\n",
    "\n",
    "## LSTM-Encoder Training Graph ##\n",
    "\n",
    "training_inputs, training_targets = load.inputs(\n",
    "    'training', batchsize, training_epochs, \n",
    "    seqlen=sequence_length\n",
    ")\n",
    "\n",
    "encoded, transitioned, decoded = model.build(training_inputs)\n",
    "frame_loss = tf.reduce_mean(tf.pow(decoded - training_targets, 2))\n",
    "training_targets_diff = training_targets[1:] - training_targets[:-1]\n",
    "\n",
    "decoded_diff = decoded[1:] - decoded[:-1]\n",
    "transition_loss = tf.reduce_mean(tf.pow(decoded_diff, training_targets_diff, 2))\n",
    "\n",
    "loss = frame_loss + transition_loss\n",
    "\n",
    "optimizer = tf.train.AdamOptimizer(learning_rate=.000001)\n",
    "trainable_vars = tf.trainable_variables()\n",
    "clipped_gradients, _ = tf.clip_by_global_norm(tf.gradients(loss, trainable_vars), 1)\n",
    "train_step = optimizer.apply_gradients(zip(clipped_gradients, trainable_vars))\n",
    "\n",
    "## LSTM-Encoder Validation Graph ##\n",
    "\n",
    "validation_inputs, validation_targets = load.inputs(\n",
    "    'validation', batchsize, 1, \n",
    "    seqlen=sequence_length\n",
    ")\n",
    "\n",
    "encoded_validation, transitioned_validation, decoded_validation = model.build(validation_inputs, reuse=True)\n",
    "validation_loss = tf.reduce_mean(tf.pow(decoded_validation - validation_targets, 2))"
   ]
  },
  {
   "cell_type": "code",
   "execution_count": null,
   "metadata": {
    "scrolled": false
   },
   "outputs": [
    {
     "name": "stdout",
     "output_type": "stream",
     "text": [
      "0 17465.5\n",
      "250 9121.48 14142.0\n",
      "500 5534.11 7580.39\n",
      "750 5647.38 5462.82\n",
      "1000 3909.95 4758.19\n",
      "1250 4740.98 4496.0\n",
      "1500 3018.56 4180.15\n",
      "1750 4063.21 3898.79\n",
      "2000 4121.68 3790.4\n",
      "2250 3141.42 3551.77\n",
      "2500 3136.42 3431.16\n",
      "2750 3320.2 3366.53\n",
      "3000 2576.48 3226.38\n",
      "3250 2745.23 3160.8\n",
      "3500 3361.67 3090.07\n",
      "3750 2569.64 3007.03\n",
      "4000 3297.81 2968.24\n",
      "4250 2782.3 2877.68\n",
      "4500 2742.8 2894.68\n",
      "4750 2944.04 2783.9\n",
      "5000 2742.11 2756.82\n",
      "5250 2316.02 2754.31\n",
      "5500 2160.59 2691.56\n",
      "5750 2519.92 2643.9\n",
      "6000 2397.26 2645.27\n",
      "6250 2195.92 2623.44\n",
      "6500 2220.15 2571.67\n",
      "6750 2800.75 2518.28\n",
      "7000 2876.1 2535.53\n",
      "7250 3060.58 2508.86\n",
      "7500 2669.18 2504.71\n",
      "7750 2735.53 2424.64\n",
      "8000 2390.54 2423.29\n",
      "8250 2549.41 2393.58\n",
      "8500 2742.56 2398.87\n",
      "8750 2244.68 2388.48\n",
      "9000 2075.55 2322.35\n",
      "9250 2798.46 2402.02\n",
      "9500 1627.16 2351.25\n",
      "9750 2180.69 2336.89\n",
      "10000 1760.16 2317.84\n",
      "10250 2400.88 2251.33\n",
      "10500 1850.47 2270.34\n",
      "10750 2404.71 2232.22\n",
      "11000 2152.49 2271.98\n",
      "11250 2590.83 2204.22\n",
      "11500 2250.31 2218.76\n",
      "11750 1949.43 2221.33\n",
      "12000 2056.38 2185.2\n",
      "12250 2108.69 2196.73\n",
      "12500 1950.39 2158.64\n",
      "12750 1727.86 2185.62\n",
      "13000 2294.1 2168.82\n",
      "13250 2507.38 2161.5\n",
      "13500 1845.02 2107.99\n",
      "13750 2368.47 2156.31\n",
      "14000 2331.45 2101.79\n",
      "14250 1977.68 2085.16\n",
      "14500 2721.64 2133.66\n",
      "14750 2683.44 2104.79\n",
      "15000 2015.62 2040.99\n",
      "15250 2003.29 2084.22\n",
      "15500 1746.24 2059.94\n",
      "15750 1644.97 2035.54\n",
      "16000 2285.5 2010.63\n",
      "16250 1805.87 2016.81\n",
      "16500 1612.15 2026.58\n",
      "16750 1575.84 1971.36\n",
      "17000 2149.79 2030.73\n",
      "17250 1733.36 1983.73\n",
      "17500 2424.66 1962.08\n",
      "17750 1637.63 1955.65\n",
      "18000 2090.08 1940.47\n",
      "18250 1441.05 1953.01\n",
      "18500 1569.28 1935.98\n",
      "18750 2094.02 1967.88\n",
      "19000 1829.18 1934.36\n",
      "19250 2422.11 1904.72\n",
      "19500 1454.84 1954.89\n",
      "19750 1729.63 1897.22\n",
      "20000 1533.4 1882.64\n",
      "20250 1247.59 1885.93\n",
      "20500 1826.69 1880.17\n",
      "20750 1778.55 1892.72\n",
      "21000 1742.66 1856.98\n",
      "21250 1728.09 1882.94\n",
      "21500 2082.53 1890.43\n",
      "21750 1721.7 1832.64\n",
      "22000 1331.21 1866.58\n",
      "22250 1839.58 1858.74\n",
      "22500 1793.82 1847.36\n",
      "22750 1802.04 1843.95\n",
      "23000 1385.48 1820.39\n",
      "23250 1972.46 1806.39\n",
      "23500 1942.77 1855.18\n",
      "23750 1558.22 1811.09\n",
      "24000 1735.19 1840.54\n",
      "24250 1958.32 1838.82\n",
      "24500 2199.37 1811.64\n",
      "24750 2094.14 1797.26\n",
      "25000 2196.64 1798.5\n",
      "25250 1491.46 1767.18\n",
      "25500 1931.69 1806.16\n",
      "25750 2528.65 1799.32\n",
      "26000 1641.32 1776.44\n",
      "26250 2366.58 1786.97\n",
      "26500 1578.65 1756.48\n",
      "Encoder trained: 1626.56\n",
      "0 1523.46\n",
      "100 1296.59\n",
      "Encoder validated: 1762.77\n"
     ]
    }
   ],
   "source": [
    "saver = tf.train.Saver()\n",
    "init_global = tf.global_variables_initializer()\n",
    "init_local = tf.local_variables_initializer()\n",
    "\n",
    "coord = tf.train.Coordinator()\n",
    "\n",
    "with tf.Session() as sesh:\n",
    "    sesh.run([init_global, init_local])\n",
    "    threads = tf.train.start_queue_runners(sess=sesh, coord=coord)\n",
    "    \n",
    "    # initialize lists for tracking\n",
    "    \n",
    "    decoder_losses = []\n",
    "    decoder_validation_losses = []\n",
    "    \n",
    "    predictions = []\n",
    "    encodings = []\n",
    "    transitions = []\n",
    "    validation_predictions = []\n",
    "    validation_transitions = []\n",
    "    validation_encodings = []\n",
    "    recovery = []\n",
    "    validation_recovery = []\n",
    "    \n",
    "    # first, encoder training\n",
    "    try:\n",
    "        step = 0\n",
    "        \n",
    "        while not coord.should_stop():\n",
    "            _, loss_value, enc, trans, pred, input_recover = sesh.run(\n",
    "                [train_step, loss, encoded, transitioned, decoded, training_targets]\n",
    "            )\n",
    "            \n",
    "            decoder_losses.append(loss_value)\n",
    "            \n",
    "            if step % 250 == 0:\n",
    "                if step >= 250:\n",
    "                    print(step, loss_value, np.mean(decoder_losses[-250:]))\n",
    "                else:\n",
    "                    print(step, loss_value)\n",
    "                encodings.append(enc)\n",
    "                transitions.append(trans)\n",
    "                predictions.append(pred)\n",
    "                recovery.append(input_recover)\n",
    "                \n",
    "            step += 1\n",
    "            \n",
    "    except tf.errors.OutOfRangeError:\n",
    "        print('Encoder trained: {:.2f}'.format(loss_value))\n",
    "        \n",
    "    # second, encoder validation\n",
    "    try:\n",
    "        step = 0\n",
    "        \n",
    "        while not coord.should_stop():\n",
    "            loss_value, enc, trans, pred, input_recover = sesh.run(\n",
    "                [validation_loss, encoded_validation, transitioned_validation, \n",
    "                 decoded_validation, validation_targets]\n",
    "            )\n",
    "            decoder_validation_losses.append(loss_value)\n",
    "            \n",
    "            if step % 100 == 0:\n",
    "                print(step, loss_value)\n",
    "                validation_encodings.append(enc)\n",
    "                validation_transitions.append(trans)\n",
    "                validation_predictions.append(pred)\n",
    "                validation_recovery.append(input_recover)\n",
    "                \n",
    "            step += 1\n",
    "            \n",
    "    except tf.errors.OutOfRangeError:\n",
    "        print('Encoder validated: {:.2f}'.format(loss_value))\n",
    "        \n",
    "    finally:\n",
    "        coord.request_stop()\n",
    "        \n",
    "    coord.join(threads)\n",
    "    saver.save(sesh, 'ptypelstm-tied-forback')\n",
    "    "
   ]
  },
  {
   "cell_type": "code",
   "execution_count": 7,
   "metadata": {},
   "outputs": [
    {
     "data": {
      "text/plain": [
       "[1000, 6000]"
      ]
     },
     "execution_count": 7,
     "metadata": {},
     "output_type": "execute_result"
    },
    {
     "data": {
      "image/png": "[encoded data removed]",
      "text/plain": [
       "<matplotlib.figure.Figure at 0x7f00286669b0>"
      ]
     },
     "metadata": {},
     "output_type": "display_data"
    }
   ],
   "source": [
    "fig, axes = plt.subplots(1, 1, figsize=(10, 10))\n",
    "def rolling_mean(l, w=500):\n",
    "    c = np.cumsum(l)\n",
    "    c[w:] = c[w:] - c[:-w]\n",
    "    return c[w-1:] / w\n",
    "    \n",
    "\n",
    "axes.plot(decoder_losses)\n",
    "axes.plot(rolling_mean(decoder_losses))\n",
    "plt.setp(axes, ylim=[1000, 6000])"
   ]
  },
  {
   "cell_type": "code",
   "execution_count": 15,
   "metadata": {},
   "outputs": [
    {
     "data": {
      "text/plain": [
       "<matplotlib.image.AxesImage at 0x7f000c692b00>"
      ]
     },
     "execution_count": 15,
     "metadata": {},
     "output_type": "execute_result"
    },
    {
     "data": {
      "image/png": "[encoded data removed]",
      "text/plain": [
       "<matplotlib.figure.Figure at 0x7f002872a898>"
      ]
     },
     "metadata": {},
     "output_type": "display_data"
    }
   ],
   "source": [
    "vid = -4\n",
    "plt.imshow(predictions[vid][0][0]/255)"
   ]
  },
  {
   "cell_type": "code",
   "execution_count": 16,
   "metadata": {},
   "outputs": [
    {
     "name": "stdout",
     "output_type": "stream",
     "text": [
      "[MoviePy] >>>> Building video test_squash_pred.mp4\n",
      "[MoviePy] Writing video test_squash_pred.mp4\n"
     ]
    },
    {
     "name": "stderr",
     "output_type": "stream",
     "text": [
      "100%|██████████| 17/17 [00:00<00:00, 1000.56it/s]"
     ]
    },
    {
     "name": "stdout",
     "output_type": "stream",
     "text": [
      "[MoviePy] Done.\n",
      "[MoviePy] >>>> Video ready: test_squash_pred.mp4 \n",
      "\n",
      "[MoviePy] >>>> Building video test_squash_recov.mp4\n",
      "[MoviePy] Writing video test_squash_recov.mp4\n"
     ]
    },
    {
     "name": "stderr",
     "output_type": "stream",
     "text": [
      "\n",
      "100%|██████████| 17/17 [00:00<00:00, 995.80it/s]"
     ]
    },
    {
     "name": "stdout",
     "output_type": "stream",
     "text": [
      "[MoviePy] Done.\n",
      "[MoviePy] >>>> Video ready: test_squash_recov.mp4 \n",
      "\n"
     ]
    },
    {
     "name": "stderr",
     "output_type": "stream",
     "text": [
      "\n"
     ]
    }
   ],
   "source": [
    "from render import render_movie\n",
    "\n",
    "frame_array = render_movie(predictions[vid][0], 'test_squash_pred.mp4', 5)\n",
    "frame_array = render_movie(recovery[vid][0], 'test_squash_recov.mp4', 5)"
   ]
  },
  {
   "cell_type": "markdown",
   "metadata": {},
   "source": [
    "# AE (No LSTM)"
   ]
  },
  {
   "cell_type": "code",
   "execution_count": 3,
   "metadata": {
    "collapsed": true
   },
   "outputs": [],
   "source": [
    "# check no-lstm AE\n",
    "\n",
    "training_epochs = 25\n",
    "batchsize = 8\n",
    "sequence_length = 64\n",
    "\n",
    "model = Model(encoder, lstm_cell, decoder, batchsize, sequence_length)\n",
    "\n",
    "## LSTM-Encoder Training Graph ##\n",
    "\n",
    "training_inputs, training_targets = load.inputs('training', batchsize, training_epochs)\n",
    "\n",
    "encoded, decoded = model.build_encoder_decoder(training_inputs, reuse=False)    # discard decoder here\n",
    "loss = tf.reduce_mean(tf.pow(decoded - training_targets, 2))\n",
    "\n",
    "optimizer = tf.train.AdamOptimizer(learning_rate=.00001)\n",
    "trainable_vars = tf.trainable_variables()\n",
    "clipped_gradients, _ = tf.clip_by_global_norm(tf.gradients(loss, trainable_vars), 1)\n",
    "train_step = optimizer.apply_gradients(zip(clipped_gradients, trainable_vars))\n",
    "\n",
    "## LSTM-Encoder Validation Graph ##\n",
    "\n",
    "validation_inputs, validation_targets = load.inputs('validation', batchsize, 1)\n",
    "\n",
    "encoded_validation, decoded_validation = model.build_encoder_decoder(validation_inputs, reuse=True)\n",
    "validation_loss = tf.reduce_mean(tf.pow(decoded_validation - validation_targets, 2))"
   ]
  },
  {
   "cell_type": "code",
   "execution_count": null,
   "metadata": {
    "collapsed": true,
    "scrolled": true
   },
   "outputs": [],
   "source": [
    "saver = tf.train.Saver()\n",
    "init_global = tf.global_variables_initializer()\n",
    "init_local = tf.local_variables_initializer()\n",
    "\n",
    "coord = tf.train.Coordinator()\n",
    "\n",
    "with tf.Session() as sesh:\n",
    "    sesh.run([init_global, init_local])\n",
    "    threads = tf.train.start_queue_runners(sess=sesh, coord=coord)\n",
    "    \n",
    "    # initialize lists for tracking\n",
    "    \n",
    "    decoder_losses = []\n",
    "    decoder_validation_losses = []\n",
    "    \n",
    "    predictions = []\n",
    "    encodings = []\n",
    "    validation_predictions = []\n",
    "    validation_encodings = []\n",
    "    recovery = []\n",
    "    validation_recovery = []\n",
    "    \n",
    "    # first, encoder training\n",
    "    try:\n",
    "        step = 0\n",
    "        \n",
    "        while not coord.should_stop():\n",
    "            _, loss_value, enc, pred, input_recover = sesh.run(\n",
    "                [train_step, loss, encoded, decoded, training_targets]\n",
    "            )\n",
    "            \n",
    "            decoder_losses.append(loss_value)\n",
    "            \n",
    "            if step % 250 == 0:\n",
    "                print(step, loss_value)\n",
    "                encodings.append(enc)\n",
    "                predictions.append(pred)\n",
    "                recovery.append(input_recover)\n",
    "                \n",
    "            step += 1\n",
    "            \n",
    "    except tf.errors.OutOfRangeError:\n",
    "        print('Encoder trained: {:.2f}'.format(loss_value))\n",
    "        \n",
    "    # second, encoder validation\n",
    "    try:\n",
    "        step = 0\n",
    "        \n",
    "        while not coord.should_stop():\n",
    "            loss_value, enc, pred, input_recover = sesh.run(\n",
    "                [validation_loss, encoded_validation, decoded_validation, validation_targets]\n",
    "            )\n",
    "            decoder_validation_losses.append(loss_value)\n",
    "            \n",
    "            if step % 100 == 0:\n",
    "                print(step, loss_value)\n",
    "                validation_encodings.append(enc)\n",
    "                validation_predictions.append(pred)\n",
    "                validation_recovery.append(input_recover)\n",
    "                \n",
    "            step += 1\n",
    "            \n",
    "    except tf.errors.OutOfRangeError:\n",
    "        print('Encoder validated: {:.2f}'.format(loss_value))\n",
    "        \n",
    "    finally:\n",
    "        coord.request_stop()\n",
    "        \n",
    "    coord.join(threads)\n",
    "    saver.save(sesh, 'AE')"
   ]
  },
  {
   "cell_type": "markdown",
   "metadata": {},
   "source": [
    "# LSTM-AE"
   ]
  },
  {
   "cell_type": "code",
   "execution_count": null,
   "metadata": {
    "collapsed": true,
    "scrolled": false
   },
   "outputs": [],
   "source": [
    "training_epochs = 25\n",
    "batchsize = 8\n",
    "sequence_length = 64\n",
    "\n",
    "model = Model(encoder, lstm_cell, tied_decoder, batchsize, sequence_length)\n",
    "\n",
    "## LSTM-Encoder Training Graph ##\n",
    "\n",
    "training_inputs, training_targets = load.inputs('training', batchsize, training_epochs)\n",
    "\n",
    "encoded, transitioned, decoded = model.build(training_inputs)\n",
    "loss = tf.reduce_mean(tf.pow(decoded - training_targets, 2))\n",
    "\n",
    "optimizer = tf.train.AdamOptimizer(learning_rate=.00001)\n",
    "trainable_vars = tf.trainable_variables()\n",
    "clipped_gradients, _ = tf.clip_by_global_norm(tf.gradients(loss, trainable_vars), 1)\n",
    "train_step = optimizer.apply_gradients(zip(clipped_gradients, trainable_vars))\n",
    "\n",
    "## LSTM-Encoder Validation Graph ##\n",
    "\n",
    "validation_inputs, validation_targets = load.inputs('validation', batchsize, 1)\n",
    "\n",
    "encoded_validation, transitioned_validation, decoded_validation = model.build(validation_inputs, reuse=True)\n",
    "validation_loss = tf.reduce_mean(tf.pow(decoded_validation - validation_targets, 2))"
   ]
  },
  {
   "cell_type": "code",
   "execution_count": null,
   "metadata": {
    "collapsed": true
   },
   "outputs": [],
   "source": [
    "np.sum([np.prod(v.get_shape().as_list()) for v in tf.trainable_variables()]) / 1000000"
   ]
  },
  {
   "cell_type": "code",
   "execution_count": null,
   "metadata": {
    "collapsed": true,
    "scrolled": false
   },
   "outputs": [],
   "source": [
    "saver = tf.train.Saver()\n",
    "init_global = tf.global_variables_initializer()\n",
    "init_local = tf.local_variables_initializer()\n",
    "\n",
    "coord = tf.train.Coordinator()\n",
    "\n",
    "with tf.Session() as sesh:\n",
    "    sesh.run([init_global, init_local])\n",
    "    threads = tf.train.start_queue_runners(sess=sesh, coord=coord)\n",
    "    \n",
    "    # initialize lists for tracking\n",
    "    \n",
    "    decoder_losses = []\n",
    "    decoder_validation_losses = []\n",
    "    \n",
    "    predictions = []\n",
    "    encodings = []\n",
    "    transitions = []\n",
    "    validation_predictions = []\n",
    "    validation_transitions = []\n",
    "    validation_encodings = []\n",
    "    recovery = []\n",
    "    validation_recovery = []\n",
    "    \n",
    "    # first, encoder training\n",
    "    try:\n",
    "        step = 0\n",
    "        \n",
    "        while not coord.should_stop():\n",
    "            _, loss_value, enc, trans, pred, input_recover = sesh.run(\n",
    "                [train_step, loss, encoded, transitioned, decoded, training_targets]\n",
    "            )\n",
    "            \n",
    "            decoder_losses.append(loss_value)\n",
    "            \n",
    "            if step % 250 == 0:\n",
    "                print(step, loss_value)\n",
    "                encodings.append(enc)\n",
    "                transitions.append(trans)\n",
    "                predictions.append(pred)\n",
    "                recovery.append(input_recover)\n",
    "                \n",
    "            step += 1\n",
    "            \n",
    "    except tf.errors.OutOfRangeError:\n",
    "        print('Encoder trained: {:.2f}'.format(loss_value))\n",
    "        \n",
    "    # second, encoder validation\n",
    "    try:\n",
    "        step = 0\n",
    "        \n",
    "        while not coord.should_stop():\n",
    "            loss_value, enc, trans, pred, input_recover = sesh.run(\n",
    "                [validation_loss, encoded_validation, transitioned_validation, \n",
    "                 decoded_validation, validation_targets]\n",
    "            )\n",
    "            decoder_validation_losses.append(loss_value)\n",
    "            \n",
    "            if step % 100 == 0:\n",
    "                print(step, loss_value)\n",
    "                validation_encodings.append(enc)\n",
    "                validation_transitions.append(trans)\n",
    "                validation_predictions.append(pred)\n",
    "                validation_recovery.append(input_recover)\n",
    "                \n",
    "            step += 1\n",
    "            \n",
    "    except tf.errors.OutOfRangeError:\n",
    "        print('Encoder validated: {:.2f}'.format(loss_value))\n",
    "        \n",
    "    finally:\n",
    "        coord.request_stop()\n",
    "        \n",
    "    coord.join(threads)\n",
    "    saver.save(sesh, 'ptypelstm-tied-relu')\n",
    "    "
   ]
  },
  {
   "cell_type": "code",
   "execution_count": null,
   "metadata": {
    "collapsed": true
   },
   "outputs": [],
   "source": [
    "fig, axes = plt.subplots(1, 1, figsize=(10, 10))\n",
    "def rolling_mean(l, w=500):\n",
    "    c = np.cumsum(l)\n",
    "    c[w:] = c[w:] - c[:-w]\n",
    "    return c[w-1:] / w\n",
    "    \n",
    "\n",
    "axes.plot(decoder_losses)\n",
    "axes.plot(rolling_mean(decoder_losses))\n",
    "plt.setp(axes, ylim=[0, 2000])"
   ]
  },
  {
   "cell_type": "code",
   "execution_count": null,
   "metadata": {
    "collapsed": true
   },
   "outputs": [],
   "source": [
    "from render import render_movie\n",
    "\n",
    "frame_array = render_movie(recovery[vid][0], 'test_ae_recov2.mp4', 5)"
   ]
  }
 ],
 "metadata": {
  "kernelspec": {
   "display_name": "Python 3",
   "language": "python",
   "name": "python3"
  },
  "language_info": {
   "codemirror_mode": {
    "name": "ipython",
    "version": 3
   },
   "file_extension": ".py",
   "mimetype": "text/x-python",
   "name": "python",
   "nbconvert_exporter": "python",
   "pygments_lexer": "ipython3",
   "version": "3.4.3"
  }
 },
 "nbformat": 4,
 "nbformat_minor": 2
}
