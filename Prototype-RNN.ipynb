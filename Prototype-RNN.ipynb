{
 "cells": [
  {
   "cell_type": "code",
   "execution_count": 1,
   "metadata": {
    "collapsed": true
   },
   "outputs": [],
   "source": [
    "import os\n",
    "import numpy as np\n",
    "\n",
    "import tensorflow as tf\n",
    "from tensorflow.python.framework import ops\n",
    "\n",
    "import load_data as load\n",
    "from models.model import Model\n",
    "from models.customlayers import *\n",
    "from models.activations import *\n",
    "from training import *\n",
    "\n",
    "import moviepy.editor as mpe\n",
    "from models.AELSTM import *\n",
    "L = tf.layers\n",
    "\n",
    "import matplotlib.pyplot as plt\n",
    "% matplotlib inline"
   ]
  },
  {
   "cell_type": "code",
   "execution_count": 2,
   "metadata": {
    "collapsed": true
   },
   "outputs": [],
   "source": [
    "data_dir = os.path.expanduser('~/Insight/video-representations/frames')"
   ]
  },
  {
   "cell_type": "code",
   "execution_count": 3,
   "metadata": {
    "scrolled": false
   },
   "outputs": [],
   "source": [
    "training_epochs = 10\n",
    "batchsize = 4\n",
    "sequence_length = 64\n",
    "\n",
    "model = Model(encoder, lstm_cell, decoder, batchsize, sequence_length)\n",
    "\n",
    "## LSTM-Encoder Training Graph ##\n",
    "\n",
    "training_inputs, training_targets = load.inputs('training', batchsize, training_epochs)\n",
    "\n",
    "encoded, transitioned, decoded = model.build(training_inputs)    # discard decoder here\n",
    "loss = tf.reduce_mean(tf.pow(decoded - training_targets, 2))\n",
    "\n",
    "optimizer = tf.train.AdamOptimizer()\n",
    "trainable_vars = tf.trainable_variables()\n",
    "clipped_gradients, _ = tf.clip_by_global_norm(tf.gradients(loss, trainable_vars), 1)    # clip those uglies\n",
    "train_step = optimizer.apply_gradients(zip(clipped_gradients, trainable_vars))\n",
    "\n",
    "## LSTM-Encoder Validation Graph ##\n",
    "\n",
    "validation_inputs, validation_targets = load.inputs('validation', batchsize, 1)\n",
    "\n",
    "encoded_validation, transitioned_validation, decoded_validation = model.build(validation_inputs, reuse=True)\n",
    "targeted_validation = model.build_target_encoder(validation_targets, reuse=True)\n",
    "validation_loss = tf.reduce_mean(tf.pow(decoded_validation - validation_targets, 2))"
   ]
  },
  {
   "cell_type": "code",
   "execution_count": null,
   "metadata": {},
   "outputs": [
    {
     "name": "stdout",
     "output_type": "stream",
     "text": [
      "0 11986.7\n",
      "250 4042.67\n",
      "500 2793.53\n",
      "750 2125.74\n",
      "1000 1633.41\n",
      "1250 1438.24\n",
      "1500 2393.27\n",
      "1750 2072.54\n",
      "2000 2465.47\n"
     ]
    }
   ],
   "source": [
    "saver = tf.train.Saver()\n",
    "init_global = tf.global_variables_initializer()\n",
    "init_local = tf.local_variables_initializer()\n",
    "\n",
    "coord = tf.train.Coordinator()\n",
    "\n",
    "with tf.Session() as sesh:\n",
    "    sesh.run([init_global, init_local])\n",
    "    threads = tf.train.start_queue_runners(sess=sesh, coord=coord)\n",
    "    \n",
    "    # initialize lists for tracking\n",
    "    \n",
    "    decoder_losses = []\n",
    "    decoder_validation_losses = []\n",
    "    \n",
    "    predictions = []\n",
    "    encodings = []\n",
    "    transitions = []\n",
    "    validation_predictions = []\n",
    "    validation_transitions = []\n",
    "    validation_encodings = []\n",
    "    recovery = []\n",
    "    validation_recovery = []\n",
    "    \n",
    "    # first, encoder training\n",
    "    try:\n",
    "        step = 0\n",
    "        \n",
    "        while not coord.should_stop():\n",
    "            _, loss_value, enc, trans, pred, input_recover = sesh.run(\n",
    "                [train_step, loss, encoded, transitioned, decoded, training_targets]\n",
    "            )\n",
    "            \n",
    "            decoder_losses.append(loss_value)\n",
    "            \n",
    "            if step % 250 == 0:\n",
    "                print(step, loss_value)\n",
    "                encodings.append(enc)\n",
    "                transitions.append(trans)\n",
    "                predictions.append(pred)\n",
    "                recovery.append(input_recover)\n",
    "                \n",
    "            step += 1\n",
    "            \n",
    "    except tf.errors.OutOfRangeError:\n",
    "        print('Encoder trained: {:.2f}'.format(loss_value))\n",
    "        \n",
    "    # second, encoder validation\n",
    "    try:\n",
    "        step = 0\n",
    "        \n",
    "        while not coord.should_stop():\n",
    "            _, loss_value, enc, trans, pred, input_recover = sesh.run(\n",
    "                [validation_loss, encoded_validation, transitioned_validation, \n",
    "                 decoded_validation, validation_targets]\n",
    "            )\n",
    "            decoder_validation_losses.append(loss_value)\n",
    "            \n",
    "            if step % 100 == 0:\n",
    "                print(step, loss_value)\n",
    "                validation_encodings.append(enc)\n",
    "                validation_transitions.append(trans)\n",
    "                validation_predictions.append(pred)\n",
    "                validation_recovery.append(input_recover)\n",
    "                \n",
    "            step += 1\n",
    "            \n",
    "    except tf.errors.OutOfRangeError:\n",
    "        print('Encoder validated: {:.2f}'.format(loss_value))\n",
    "        \n",
    "    finally:\n",
    "        coord.request_stop()\n",
    "        \n",
    "    coord.join(threads)\n",
    "    saver.save(sesh, 'ptypelstm')\n",
    "    "
   ]
  },
  {
   "cell_type": "code",
   "execution_count": 3,
   "metadata": {
    "scrolled": false
   },
   "outputs": [
    {
     "name": "stdout",
     "output_type": "stream",
     "text": [
      "[256, 48, 68, 64] 208896\n",
      "[256, 48, 68, 64] 208896\n",
      "[256, 48, 68, 64] 208896\n",
      "[256, 48, 68, 64] 208896\n",
      "[256, 48, 68, 64] 208896\n",
      "[256, 48, 68, 64] 208896\n"
     ]
    }
   ],
   "source": [
    "encoder_training_epochs = 10\n",
    "decoder_training_epochs = 20\n",
    "\n",
    "batchsize = 4\n",
    "sequence_length = 64\n",
    "\n",
    "model = Model(encoder, lstm_cell, decoder, batchsize, sequence_length)\n",
    "\n",
    "## LSTM-Encoder Training Graph ##\n",
    "\n",
    "training_inputs, training_targets = load.inputs('training', batchsize, encoder_training_epochs)\n",
    "\n",
    "encoded, transitioned, _ = model.build(training_inputs)    # discard decoder here\n",
    "targeted = model.build_target_encoder(training_targets)\n",
    "\n",
    "loss = tf.reduce_mean(tf.pow(transitioned - targeted, 2))\n",
    "\n",
    "optimizer = tf.train.AdamOptimizer()\n",
    "trainable_vars = tf.trainable_variables()\n",
    "clipped_gradients, _ = tf.clip_by_global_norm(tf.gradients(loss, trainable_vars), 1)    # clip those uglies\n",
    "train_step = optimizer.apply_gradients(zip(clipped_gradients, trainable_vars)) # might be a problem; should be excluding decoder vars...\n",
    "\n",
    "## Decoder Training Graph ##\n",
    "\n",
    "decoder_training_inputs, decoder_training_targets = load.inputs(\n",
    "    'training', batchsize, decoder_training_epochs, queue_name='decoder_training'\n",
    ")\n",
    "\n",
    "_, _, decoded = model.build(decoder_training_inputs, reuse=True)\n",
    "\n",
    "decoder_loss = tf.reduce_mean(tf.pow(decoded - decoder_training_targets, 2))\n",
    "decoder_vars = tf.get_collection(tf.GraphKeys.TRAINABLE_VARIABLES, scope='decoder')\n",
    "decoder_optimizer = tf.train.AdamOptimizer()\n",
    "decoder_train_step = decoder_optimizer.minimize(decoder_loss, var_list=decoder_vars)\n",
    "\n",
    "## LSTM-Encoder Validation Graph ##\n",
    "\n",
    "validation_inputs, validation_targets = load.inputs('validation', batchsize, 1)\n",
    "\n",
    "encoded_validation, transitioned_validation, _ = model.build(validation_inputs, reuse=True)\n",
    "targeted_validation = model.build_target_encoder(validation_targets, reuse=True)\n",
    "validation_loss = tf.reduce_mean(tf.pow(transitioned_validation - targeted_validation, 2))\n",
    "\n",
    "## Decoder Validation Graph ##\n",
    "\n",
    "decoder_validation_inputs, decoder_validation_targets = load.inputs(\n",
    "    'validation', batchsize, 1, queue_name='decoder_validation'\n",
    ")\n",
    "\n",
    "_, _, decoded_validation = model.build(decoder_validation_inputs, reuse=True)\n",
    "decoded_validation_loss = tf.reduce_mean(tf.pow(decoded_validation - decoder_validation_targets, 2))"
   ]
  },
  {
   "cell_type": "code",
   "execution_count": null,
   "metadata": {
    "scrolled": false
   },
   "outputs": [
    {
     "name": "stdout",
     "output_type": "stream",
     "text": [
      "0 135.79\n",
      "500 0.122082\n",
      "1000 0.109893\n",
      "1500 0.105848\n",
      "2000 0.102315\n",
      "2500 0.0984838\n",
      "3000 0.0947768\n",
      "3500 0.0912439\n",
      "4000 0.0877083\n",
      "4500 0.0875368\n",
      "5000 0.0843469\n",
      "6000 0.0772783\n",
      "6500 0.0767639\n",
      "7000 0.0764182\n",
      "7500 0.0764182\n",
      "8000 0.0735713\n",
      "8500 0.0700384\n",
      "9000 0.0696954\n",
      "9500 0.0693524\n",
      "10000 0.0684948\n",
      "10500 0.0684948\n",
      "11000 0.0654764\n",
      "11500 0.0653049\n",
      "12000 0.0649619\n",
      "12500 0.064619\n",
      "13000 0.0644475\n",
      "13500 0.0616005\n",
      "14000 0.0616005\n",
      "14500 0.061429\n",
      "15000 0.0582391\n",
      "15500 0.0582391\n",
      "24000 0.0543632\n",
      "24500 0.0543632\n",
      "25000 0.0543632\n",
      "25500 0.0543632\n",
      "26000 0.0543632\n",
      "26500 0.0541917\n",
      "Encoder trained: 0.05\n",
      "0.0541917\n",
      "0.0541917\n",
      "0.0541917\n",
      "0.0541917\n",
      "Encoder validated: 0.05\n",
      "0 11381.4\n",
      "500 5386.19\n",
      "1000 3618.6\n",
      "1500 4553.61\n",
      "2000 5565.96\n",
      "2500 5253.54\n",
      "3000 5404.65\n",
      "3500 4074.18\n",
      "4000 7056.84\n",
      "4500 5551.85\n",
      "5000 6714.9\n",
      "5500 3076.63\n",
      "6000 5528.1\n",
      "6500 4925.25\n",
      "7000 4296.62\n",
      "7500 6516.36\n",
      "8000 5461.1\n",
      "8500 4353.92\n",
      "9000 6255.62\n",
      "9500 5757.94\n",
      "10000 4577.77\n",
      "10500 4818.14\n",
      "11000 6035.82\n",
      "11500 4130.3\n",
      "12000 7177.32\n",
      "12500 5103.88\n",
      "13000 7030.77\n",
      "13500 4716.21\n",
      "14000 4426.55\n",
      "14500 3900.74\n",
      "15000 4847.14\n",
      "15500 5112.9\n",
      "16000 5089.13\n",
      "16500 5672.74\n"
     ]
    }
   ],
   "source": [
    "saver = tf.train.Saver()\n",
    "init_global = tf.global_variables_initializer()\n",
    "init_local = tf.local_variables_initializer()\n",
    "\n",
    "coord = tf.train.Coordinator()\n",
    "\n",
    "with tf.Session() as sesh:\n",
    "    sesh.run([init_global, init_local])\n",
    "    threads = tf.train.start_queue_runners(sess=sesh, coord=coord)\n",
    "    \n",
    "    # initialize lists for tracking\n",
    "    \n",
    "    encoder_losses = []\n",
    "    decoder_losses = []\n",
    "    encoder_validation_losses = []\n",
    "    decoder_validation_losses = []\n",
    "    \n",
    "    predictions = []\n",
    "    validation_predictions = []\n",
    "    recovery = []\n",
    "    \n",
    "    # first, encoder training\n",
    "    try:\n",
    "        step = 0\n",
    "        \n",
    "        while not coord.should_stop():\n",
    "            _, loss_value, input_recover = sesh.run([train_step, loss, training_targets])\n",
    "            encoder_losses.append(loss_value)\n",
    "            \n",
    "            if step % 500 == 0:\n",
    "                print(step, loss_value)\n",
    "                recovery.append(input_recover)\n",
    "                \n",
    "            step += 1\n",
    "            \n",
    "    except tf.errors.OutOfRangeError:\n",
    "        print('Encoder trained: {:.2f}'.format(loss_value))\n",
    "        \n",
    "    # second, encoder validation\n",
    "    try:\n",
    "        step = 0\n",
    "        \n",
    "        while not coord.should_stop():\n",
    "            loss_value = sesh.run(validation_loss)\n",
    "            encoder_validation_losses.append(loss_value)\n",
    "\n",
    "            if step % 100 == 0:\n",
    "                print(loss_value)\n",
    "            \n",
    "            step += 1\n",
    "            \n",
    "    except tf.errors.OutOfRangeError:\n",
    "        print('Encoder validated: {:.2f}'.format(loss_value))\n",
    "        \n",
    "    # third, decoder training\n",
    "    try:\n",
    "        step = 0\n",
    "        \n",
    "        while not coord.should_stop():\n",
    "            _, loss_value, prediction = sesh.run([decoder_train_step, decoder_loss, decoded])\n",
    "            decoder_losses.append(loss_value)\n",
    "            \n",
    "            if step % 500 == 0:\n",
    "                predictions.append(prediction)\n",
    "                print(step, loss_value)\n",
    "                \n",
    "            step += 1\n",
    "            \n",
    "    except tf.errors.OutOfRangeError:\n",
    "        print('Decoder trained: {:.2f}'.format(loss_value))\n",
    "        \n",
    "    # finally, decoder validation\n",
    "    try:\n",
    "        step = 0\n",
    "        \n",
    "        while not coord.should_stop():\n",
    "            loss_value, prediction = sesh.run([decoded_validation_loss, decoded_validation])\n",
    "            decoder_validation_losses.append(loss_value)\n",
    "            \n",
    "            if step % 100 == 0:\n",
    "                validation_predictions.append(prediction)\n",
    "                print(loss_value)\n",
    "                \n",
    "            step += 1\n",
    "            \n",
    "    except tf.errors.OutOfRangeError:\n",
    "        print('Decoder validated: {:.2f}'.format(loss_value))\n",
    "        \n",
    "    finally:\n",
    "        coord.request_stop()\n",
    "        \n",
    "    coord.join(threads)\n",
    "    saver.save(sesh, 'ptypelstm-debug')\n",
    "    "
   ]
  },
  {
   "cell_type": "code",
   "execution_count": 24,
   "metadata": {
    "collapsed": true
   },
   "outputs": [],
   "source": [
    "e1k = tf.get_collection(tf.GraphKeys.GLOBAL_VARIABLES, scope='encoder')\n",
    "d1k = tf.get_collection(tf.GraphKeys.GLOBAL_VARIABLES, scope='decoder')"
   ]
  },
  {
   "cell_type": "code",
   "execution_count": 32,
   "metadata": {
    "collapsed": true
   },
   "outputs": [],
   "source": [
    "d1k0 = [var for var in d1k if 'dense' in var.name][0]\n",
    "e1k0 = [var for var in e1k if 'dense' in var.name][0]"
   ]
  },
  {
   "cell_type": "code",
   "execution_count": 33,
   "metadata": {},
   "outputs": [
    {
     "data": {
      "text/plain": [
       "<tf.Tensor 'Assign:0' shape=(1024, 208896) dtype=float32_ref>"
      ]
     },
     "execution_count": 33,
     "metadata": {},
     "output_type": "execute_result"
    }
   ],
   "source": [
    "d1k0.assign(tf.transpose(e1k0))"
   ]
  },
  {
   "cell_type": "code",
   "execution_count": 34,
   "metadata": {},
   "outputs": [
    {
     "data": {
      "text/plain": [
       "<tf.Variable 'decoder/dense1/kernel:0' shape=(1024, 208896) dtype=float32_ref>"
      ]
     },
     "execution_count": 34,
     "metadata": {},
     "output_type": "execute_result"
    }
   ],
   "source": [
    "d1k0"
   ]
  },
  {
   "cell_type": "code",
   "execution_count": 27,
   "metadata": {},
   "outputs": [
    {
     "data": {
      "text/plain": [
       "[<tf.Variable 'decoder/dense1/kernel:0' shape=(1024, 208896) dtype=float32_ref>,\n",
       " <tf.Variable 'decoder/dense1/bias:0' shape=(208896,) dtype=float32_ref>,\n",
       " <tf.Variable 'decoder/dense1/kernel/Adam:0' shape=(1024, 208896) dtype=float32_ref>,\n",
       " <tf.Variable 'decoder/dense1/kernel/Adam_1:0' shape=(1024, 208896) dtype=float32_ref>,\n",
       " <tf.Variable 'decoder/dense1/bias/Adam:0' shape=(208896,) dtype=float32_ref>,\n",
       " <tf.Variable 'decoder/dense1/bias/Adam_1:0' shape=(208896,) dtype=float32_ref>]"
      ]
     },
     "execution_count": 27,
     "metadata": {},
     "output_type": "execute_result"
    }
   ],
   "source": [
    "[var for var in d1k if 'dense' in var.name]"
   ]
  },
  {
   "cell_type": "code",
   "execution_count": 28,
   "metadata": {},
   "outputs": [
    {
     "data": {
      "text/plain": [
       "[<tf.Variable 'encoder/dense1/kernel:0' shape=(208896, 1024) dtype=float32_ref>,\n",
       " <tf.Variable 'encoder/dense1/bias:0' shape=(1024,) dtype=float32_ref>,\n",
       " <tf.Variable 'encoder/dense1/kernel/Adam:0' shape=(208896, 1024) dtype=float32_ref>,\n",
       " <tf.Variable 'encoder/dense1/kernel/Adam_1:0' shape=(208896, 1024) dtype=float32_ref>,\n",
       " <tf.Variable 'encoder/dense1/bias/Adam:0' shape=(1024,) dtype=float32_ref>,\n",
       " <tf.Variable 'encoder/dense1/bias/Adam_1:0' shape=(1024,) dtype=float32_ref>]"
      ]
     },
     "execution_count": 28,
     "metadata": {},
     "output_type": "execute_result"
    }
   ],
   "source": [
    "[var for var in e1k if 'dense' in var.name]"
   ]
  },
  {
   "cell_type": "code",
   "execution_count": 8,
   "metadata": {},
   "outputs": [
    {
     "data": {
      "text/plain": [
       "[0, 10000]"
      ]
     },
     "execution_count": 8,
     "metadata": {},
     "output_type": "execute_result"
    },
    {
     "data": {
      "image/png": "[encoded data removed]",
      "text/plain": [
       "<matplotlib.figure.Figure at 0x7f85b07e07b8>"
      ]
     },
     "metadata": {},
     "output_type": "display_data"
    }
   ],
   "source": [
    "fig, axes = plt.subplots(1, 1, figsize=(10, 10))\n",
    "\n",
    "axes.plot(encoder_losses)\n",
    "axes.plot(decoder_losses)\n",
    "plt.setp(axes, ylim=[0, 10000])\n"
   ]
  },
  {
   "cell_type": "code",
   "execution_count": 7,
   "metadata": {},
   "outputs": [
    {
     "data": {
      "text/plain": [
       "<matplotlib.image.AxesImage at 0x7f85b07d1978>"
      ]
     },
     "execution_count": 7,
     "metadata": {},
     "output_type": "execute_result"
    },
    {
     "data": {
      "image/png": "[encoded data removed]",
      "text/plain": [
       "<matplotlib.figure.Figure at 0x7f85c40e6f60>"
      ]
     },
     "metadata": {},
     "output_type": "display_data"
    }
   ],
   "source": [
    "plt.imshow(predictions[-1][0, 10, :, :, :]/255)"
   ]
  },
  {
   "cell_type": "code",
   "execution_count": 17,
   "metadata": {},
   "outputs": [
    {
     "name": "stdout",
     "output_type": "stream",
     "text": [
      "[MoviePy] >>>> Building video test_lstm_pred.mp4\n",
      "[MoviePy] Writing video test_lstm_pred.mp4\n"
     ]
    },
    {
     "name": "stderr",
     "output_type": "stream",
     "text": [
      "100%|██████████| 64/64 [00:00<00:00, 2385.65it/s]"
     ]
    },
    {
     "name": "stdout",
     "output_type": "stream",
     "text": [
      "[MoviePy] Done.\n",
      "[MoviePy] >>>> Video ready: test_lstm_pred.mp4 \n",
      "\n"
     ]
    },
    {
     "name": "stderr",
     "output_type": "stream",
     "text": [
      "\n"
     ]
    }
   ],
   "source": [
    "def render_movie(frame_array, output_file, fps, max_pixel=255):\n",
    "    n_frames = frame_array.shape[0]\n",
    "    scaled_array = frame_array\n",
    "    clipped_frames = np.minimum(np.maximum(scaled_array, 0), max_pixel).astype(np.uint8)\n",
    "    clip = mpe.ImageSequenceClip(list(clipped_frames), fps=fps)\n",
    "    clip.write_videofile(output_file)\n",
    "    return clipped_frames\n",
    "\n",
    "frame_array = render_movie(predictions[-1][0], 'test_lstm_pred.mp4', 5)"
   ]
  },
  {
   "cell_type": "markdown",
   "metadata": {},
   "source": [
    "# Dated"
   ]
  },
  {
   "cell_type": "code",
   "execution_count": 4,
   "metadata": {},
   "outputs": [
    {
     "name": "stdout",
     "output_type": "stream",
     "text": [
      "[1024, 54, 74, 32] 127872\n",
      "Step 0 loss:\t0.41123143\n",
      "Step 500 loss:\t0.19287437\n",
      "Step 1000 loss:\t0.20916134\n"
     ]
    }
   ],
   "source": [
    "def run_exp_ae(batchsize, num_epochs, data=None):\n",
    "    \n",
    "    if data is not None:\n",
    "        video_inputs = tf.placeholder(dtype=tf.float32, shape=(None, 64, 60, 80, 3), name='inputs')\n",
    "        video_outputs = tf.placeholder(dtype=tf.float32, shape=(None, 64, 60, 80, 3), name='outputs')\n",
    "    else:\n",
    "         video_inputs, video_outputs = load.inputs('training', batchsize, num_epochs)\n",
    "            \n",
    "    inputs = tf.reshape(video_inputs, (-1, 60, 80, 3))\n",
    "    _, decoded_outputs = build_ae_model(video_inputs, encoder, decoder)\n",
    "\n",
    "    decoded = tf.reshape(decoded_outputs, (-1, 64, 60, 80, 3))\n",
    "    l2_weight = .02\n",
    "    l2_vars = [v for v in tf.trainable_variables() if 'bias' not in v.name]\n",
    "    l2_vars = [v for v in l2_vars if 'lstm' not in v.name]\n",
    "    l2_term = tf.add_n([tf.nn.l2_loss(v) for v in l2_vars])\n",
    "    \n",
    "    loss = tf.reduce_mean(tf.pow(decoded - video_outputs, 2))\n",
    "    train_step = tf.train.AdamOptimizer().minimize(loss + l2_weight*l2_term)\n",
    "    \n",
    "    saver = tf.train.Saver()\n",
    "    init_global = tf.global_variables_initializer()\n",
    "    init_local = tf.local_variables_initializer()\n",
    "    \n",
    "    coord = tf.train.Coordinator()\n",
    "        \n",
    "    with tf.Session() as sesh:\n",
    "        sesh.run(init_global)\n",
    "        sesh.run(init_local)\n",
    "        threads = tf.train.start_queue_runners(sess=sesh, coord=coord)\n",
    "\n",
    "        losses = []\n",
    "        predictions = []\n",
    "        \n",
    "        if data is not None:\n",
    "            X = data[:, :-1, :, :, :]\n",
    "            y = data[:, 1:, :, :, :]\n",
    "            for epoch in range(num_epochs):\n",
    "                batch_no = 0\n",
    "                for X_batch, y_batch in iterate_minibatches(X, y, batchsize=batchsize, shuffle=True):\n",
    "                    _, loss_value = sesh.run(\n",
    "                        [train_step, loss], \n",
    "                        feed_dict={video_inputs: X_batch, video_outputs: y_batch}\n",
    "                    )\n",
    "\n",
    "                    losses.append(loss_value / batchsize)\n",
    "                    if epoch % 10 == 0:\n",
    "                        if batch_no == 0:\n",
    "                            pred = sesh.run(decoded, feed_dict={video_inputs: X_batch, video_outputs: y_batch})\n",
    "                            predictions.append(pred)\n",
    "\n",
    "                print('Epoch {} loss: {:.8f}'.format(epoch, loss_value))\n",
    "            \n",
    "            saver.save(sesh, 'prototype-lstm-dummydata')\n",
    "        \n",
    "        else:\n",
    "            try:\n",
    "                step = 0\n",
    "\n",
    "                while not coord.should_stop():\n",
    "                    _, loss_value, prediction = sesh.run([train_step, loss, decoded])\n",
    "                    losses.append(loss_value)\n",
    "\n",
    "                    if step % 500 == 0:\n",
    "                        print('Step {} loss:\\t{:.8f}'.format(step, loss_value))\n",
    "                        predictions.append(prediction)\n",
    "                        \n",
    "                    if step > 1000:\n",
    "                        break\n",
    "                    \n",
    "                    step += 1\n",
    "\n",
    "            except tf.errors.OutOfRangeError:\n",
    "                print('Done; loss:\\t{:.8f}'.format(loss_value))\n",
    "\n",
    "            finally:\n",
    "                coord.request_stop()\n",
    "\n",
    "            coord.join(threads)\n",
    "            saver.save(sesh, 'prototype-lstm')\n",
    "        \n",
    "    return losses, predictions\n",
    "\n",
    "video_mask = np.ones((1024, 65, 3, 60, 80), dtype=np.uint8)\n",
    "frame = np.eye(60, dtype=np.uint8)\n",
    "padded = np.pad(frame, ((0, 0), (0, 20)), 'constant')\n",
    "\n",
    "video = video_mask * padded\n",
    "video = video.transpose((0, 1, 3, 4, 2))\n",
    "\n",
    "losses, predictions = run_exp_ae(16, 3)"
   ]
  },
  {
   "cell_type": "code",
   "execution_count": 6,
   "metadata": {
    "scrolled": false
   },
   "outputs": [
    {
     "name": "stdout",
     "output_type": "stream",
     "text": [
      "[256, 54, 74, 32] 127872\n",
      "[256, 54, 74, 32] 127872\n",
      "132.028131\n",
      "Step 0 loss: 0.2349\n",
      "Step 500 loss: 0.2951\n",
      "Step 1000 loss: 0.2732\n",
      "Step 1500 loss: 0.2971\n",
      "Step 2000 loss: 0.3299\n",
      "Step 2500 loss: 0.2013\n",
      "Step 3000 loss: 0.2342\n",
      "Step 3500 loss: 0.2449\n",
      "Step 4000 loss: 0.2932\n",
      "Step 4500 loss: 0.2911\n",
      "Done; loss: 4997.0000\n"
     ]
    }
   ],
   "source": [
    "losses = run_training(10, 4)"
   ]
  }
 ],
 "metadata": {
  "kernelspec": {
   "display_name": "Python 3",
   "language": "python",
   "name": "python3"
  },
  "language_info": {
   "codemirror_mode": {
    "name": "ipython",
    "version": 3
   },
   "file_extension": ".py",
   "mimetype": "text/x-python",
   "name": "python",
   "nbconvert_exporter": "python",
   "pygments_lexer": "ipython3",
   "version": "3.4.3"
  }
 },
 "nbformat": 4,
 "nbformat_minor": 2
}
