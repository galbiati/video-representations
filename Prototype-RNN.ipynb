{
 "cells": [
  {
   "cell_type": "code",
   "execution_count": 1,
   "metadata": {
    "collapsed": true
   },
   "outputs": [],
   "source": [
    "import os\n",
    "import numpy as np\n",
    "\n",
    "import tensorflow as tf\n",
    "from tensorflow.python.framework import ops\n",
    "\n",
    "from load_data import *\n",
    "from models.customlayers import *\n",
    "from models.activations import *\n",
    "from training import *\n",
    "\n",
    "import moviepy.editor as mpe\n",
    "import models.ConvAE as cae\n",
    "L = tf.layers\n",
    "\n",
    "import matplotlib.pyplot as plt\n",
    "% matplotlib inline"
   ]
  },
  {
   "cell_type": "code",
   "execution_count": 2,
   "metadata": {
    "collapsed": true
   },
   "outputs": [],
   "source": [
    "data_dir = os.path.expanduser('~/Insight/video-representations/frames')\n",
    "training_file = os.path.join(data_dir, 'training.tfrecords')\n",
    "validation_file = os.path.join(data_dir, 'validation.tfrecords')\n",
    "testing_file = os.path.join(data_dir, 'testing.tfrecords')"
   ]
  },
  {
   "cell_type": "markdown",
   "metadata": {},
   "source": [
    "# Model"
   ]
  },
  {
   "cell_type": "code",
   "execution_count": 3,
   "metadata": {
    "collapsed": true
   },
   "outputs": [],
   "source": [
    "def invert_layer(input, invlayer_in, inv_layer_out):\n",
    "    return tf.gradient(inv_layer_out, inv_layer_in, input)\n",
    "\n",
    "def encoder(image):\n",
    "    original_shape = image.get_shape().as_list()\n",
    "    input_layer = tf.reshape(image, (-1, 60, 80, 3))\n",
    " \n",
    "    conv1 = L.conv2d(\n",
    "        input_layer, name='conv1',\n",
    "        filters=16, kernel_size=3, activation=selu\n",
    "    )\n",
    "        \n",
    "    conv2 = L.conv2d(\n",
    "        conv1, name='conv2',\n",
    "        filters=32, kernel_size=5, activation=selu\n",
    "    )\n",
    "\n",
    "    shape_ = conv2.get_shape().as_list()\n",
    "    newdim = shape_[1] * shape_[2] * shape_[3]\n",
    "    print(shape_, newdim)\n",
    "    \n",
    "    dense1 = dense_reshape(conv2, name='dense1', units=512, activation=selu)\n",
    "    \n",
    "    return tf.reshape(dense1, (-1, 64, 512))\n",
    "\n",
    "\n",
    "def decoder(encoded):\n",
    "    encoded_reshaped = tf.reshape(encoded, (-1, 512))\n",
    "    \n",
    "    dense1 = L.dense(encoded_reshaped, units=127872, activation=selu, name='dense1')\n",
    "\n",
    "    dense1_reshaped = tf.reshape(dense1, (-1, 54, 74, 32))\n",
    "\n",
    "    deconv3 = L.conv2d_transpose(\n",
    "        dense1_reshaped, name='deconv3', \n",
    "        filters=32, kernel_size=5, activation=selu,\n",
    "    )\n",
    "    \n",
    "    deconv4 = L.conv2d_transpose(\n",
    "        deconv3, name='deconv4', \n",
    "        filters=3, kernel_size=3, activation=selu,\n",
    "    )\n",
    "    \n",
    "    deconv4_reshaped = tf.transpose(deconv4, perm=(0, 3, 1, 2))\n",
    "\n",
    "    return deconv4_reshaped"
   ]
  },
  {
   "cell_type": "code",
   "execution_count": 4,
   "metadata": {},
   "outputs": [
    {
     "name": "stdout",
     "output_type": "stream",
     "text": [
      "[None, 54, 74, 32] 127872\n"
     ]
    }
   ],
   "source": [
    "tf.reset_default_graph()\n",
    "\n",
    "input_var = tf.placeholder(dtype=tf.float32, shape=(None, 3, 60, 80), name='input')\n",
    "target_var = tf.placeholder(dtype=tf.float32, shape=(None, 3, 60, 80), name='target')\n",
    "\n",
    "with tf.variable_scope('iencoder') as enc:\n",
    "    encoded = encoder(input_var)\n",
    "    \n",
    "with tf.variable_scope('decoder') as dec:\n",
    "    decoded = decoder(encoded)"
   ]
  },
  {
   "cell_type": "code",
   "execution_count": 4,
   "metadata": {
    "collapsed": true
   },
   "outputs": [],
   "source": [
    "def read_record(filepath_queue):\n",
    "    reader = tf.TFRecordReader()\n",
    "    _, serialized_example = reader.read(filepath_queue)\n",
    "    \n",
    "    features = tf.parse_single_example(\n",
    "        serialized_example,\n",
    "        features={\n",
    "            'height': tf.FixedLenFeature([], tf.int64),\n",
    "            'width': tf.FixedLenFeature([], tf.int64),\n",
    "            'video': tf.FixedLenFeature([], tf.string),\n",
    "            'label': tf.FixedLenFeature([], tf.int64),\n",
    "            'length': tf.FixedLenFeature([], tf.int64)\n",
    "        }\n",
    "    )\n",
    "    \n",
    "    video = tf.decode_raw(features['video'], tf.uint8)   # feature may be renamed to video in future\n",
    "\n",
    "    video_shape = tf.stack([-1, 60, 80, 3])\n",
    "    video = tf.cast(tf.reshape(video, video_shape), tf.float32)\n",
    "    video = tf.slice(video, [0, 0, 0, 0], [128, -1, -1, -1])\n",
    "    \n",
    "    return video\n",
    "    \n",
    "def inputs(split_type, batchsize, num_epochs): \n",
    "    if not num_epochs:\n",
    "        num_epochs = None\n",
    "        \n",
    "    filepath = os.path.join(data_dir, '{}.tfrecords'.format(split_type))\n",
    "    \n",
    "    with tf.name_scope('input'):\n",
    "        filepath_queue = tf.train.string_input_producer([filepath], num_epochs=num_epochs)\n",
    "    \n",
    "    video = read_record(filepath_queue)\n",
    "    videos = tf.train.shuffle_batch(\n",
    "        [video], batchsize, \n",
    "        capacity=128 + 2*batchsize, min_after_dequeue=128, num_threads=2\n",
    "    )\n",
    "    \n",
    "    video_inputs = tf.slice(videos, begin=[0, 0, 0, 0, 0], size=[-1, 64, -1, -1, -1])\n",
    "    video_outputs = tf.slice(videos, begin=[0, 1, 0, 0, 0], size=[-1, 64, -1, -1, -1])\n",
    "    \n",
    "    return video_inputs, video_outputs"
   ]
  },
  {
   "cell_type": "code",
   "execution_count": 5,
   "metadata": {},
   "outputs": [],
   "source": [
    "def run_training(num_epochs, batchsize):\n",
    "    video_inputs, video_outputs = inputs('training', batchsize, num_epochs)\n",
    "    \n",
    "    with tf.variable_scope('encoder'):\n",
    "        encoded_input = encoder(video_inputs)\n",
    "        encoded_input_reshaped = tf.reshape(encoded_input, (batchsize, -1, 512))\n",
    "        \n",
    "    with tf.variable_scope('encoder', reuse=True):\n",
    "        encoded_output = encoder(video_outputs)\n",
    "        encoded_output_reshaped = tf.reshape(encoded_output, (batchsize, -1, 512))\n",
    "    \n",
    "    with tf.variable_scope('lstm'):\n",
    "        lstm_cell = tf.nn.rnn_cell.LSTMCell(num_units=128)\n",
    "        transitioned = tf.nn.dynamic_rnn(lstm_cell, encoded_input_reshaped, dtype=tf.float32)\n",
    "        transitioned_reshaped = tf.reshape(transitioned[0], (-1, 128))\n",
    "        encoded_prediction = L.dense(transitioned_reshaped, 512, activation=selu)\n",
    "        encoded_prediction_reshaped = tf.reshape(encoded_prediction, (batchsize, -1, 512))\n",
    "    \n",
    "    with tf.variable_scope('decoder'):\n",
    "        decoded = decoder(encoded_prediction)\n",
    "        decoded_reshaped = tf.reshape(decoded, (batchsize, -1, 60, 80, 3))\n",
    "        \n",
    "    l2_weight = .05\n",
    "    l2_term = tf.add_n([tf.nn.l2_loss(v) for v in tf.trainable_variables() if 'bias' not in v.name])\n",
    "    \n",
    "    loss = tf.reduce_mean(tf.pow(encoded_output_reshaped - encoded_prediction_reshaped, 2))\n",
    "    train_step = tf.train.AdamOptimizer().minimize(loss + l2_weight*l2_term)\n",
    "    \n",
    "    decoder_loss = tf.reduce_mean(tf.pow(decoded_reshaped - video_outputs, 2))\n",
    "    decoder_vars = tf.get_collection(tf.GraphKeys.GLOBAL_VARIABLES, scope='decoder')\n",
    "    decoder_train_step = tf.train.AdamOptimizer().minimize(decoder_loss, var_list=decoder_vars)\n",
    "    \n",
    "    saver = tf.train.Saver()\n",
    "    init_global = tf.global_variables_initializer()\n",
    "    init_local = tf.local_variables_initializer()\n",
    "    \n",
    "    coord = tf.train.Coordinator()\n",
    "        \n",
    "    with tf.Session() as sesh:\n",
    "        sesh.run(init_global)\n",
    "        sesh.run(init_local)\n",
    "        threads = tf.train.start_queue_runners(sess=sesh, coord=coord)\n",
    "\n",
    "        losses = []\n",
    "        decoder_losses = []\n",
    "            \n",
    "        try:\n",
    "            step = 0\n",
    "            print(np.sum([np.prod(v.shape.as_list()) for v in tf.trainable_variables()]) / 1000000)\n",
    "\n",
    "            while not coord.should_stop():\n",
    "                _, loss_value = sesh.run([train_step, loss])\n",
    "                _, decoder_loss_value = sesh.run([decoder_train_step, decoder_loss])\n",
    "                losses.append(loss_value)\n",
    "                decoder_losses.append(decoder_loss_value)\n",
    "                if step % 500 == 0:\n",
    "                    print('Step {} loss: {:.4f}'.format(step, loss_value))\n",
    "                    print('Step {} decoder loss: {:.4f}'.format(step, decoder_loss_value))\n",
    "\n",
    "                step += 1\n",
    "\n",
    "        except tf.errors.OutOfRangeError:\n",
    "            print('Done; loss: {:.4f}'.format(step, loss_value))\n",
    "\n",
    "        finally:\n",
    "            coord.request_stop()\n",
    "\n",
    "        coord.join(threads)\n",
    "        \n",
    "        saver.save(sesh, 'prototype-lstm')\n",
    "    return losses, decoder_losses"
   ]
  },
  {
   "cell_type": "code",
   "execution_count": null,
   "metadata": {
    "scrolled": false
   },
   "outputs": [
    {
     "name": "stdout",
     "output_type": "stream",
     "text": [
      "[256, 54, 74, 32] 127872\n",
      "[256, 54, 74, 32] 127872\n",
      "131.503331\n",
      "Step 0 loss: 4799.3037\n",
      "Step 0 decoder loss: 24723.8887\n"
     ]
    }
   ],
   "source": [
    "losses, decoder_losses = run_training(3, 4)"
   ]
  },
  {
   "cell_type": "code",
   "execution_count": 6,
   "metadata": {
    "collapsed": true
   },
   "outputs": [],
   "source": [
    "def run_inference(batchsize, num_epochs):\n",
    "    video_inputs, video_outputs = inputs('training', batchsize, num_epochs)\n",
    "    \n",
    "    with tf.variable_scope('encoder'):\n",
    "        encoded_input = encoder(video_inputs)\n",
    "        encoded_input_reshaped = tf.reshape(encoded_input, (batchsize, -1, 512))\n",
    "        \n",
    "    with tf.variable_scope('encoder', reuse=True):\n",
    "        encoded_output = encoder(video_outputs)\n",
    "        encoded_output_reshaped = tf.reshape(encoded_output, (batchsize, -1, 512))\n",
    "    \n",
    "    with tf.variable_scope('lstm'):\n",
    "        lstm_cell = tf.nn.rnn_cell.LSTMCell(num_units=128, activation=selu)\n",
    "        transitioned = tf.nn.dynamic_rnn(lstm_cell, encoded_input_reshaped, dtype=tf.float32)\n",
    "        transitioned_reshaped = tf.reshape(transitioned[0], (-1, 128))\n",
    "        encoded_prediction = L.dense(transitioned_reshaped, 512, activation=selu)\n",
    "        encoded_prediction_reshaped = tf.reshape(encoded_prediction, (batchsize, -1, 512))\n",
    "    \n",
    "    with tf.variable_scope('decoder'):\n",
    "        decoded = decoder(encoded_prediction)\n",
    "        decoded_reshaped = tf.reshape(decoded, (batchsize, -1, 60, 80, 3))\n",
    "\n",
    "    saver = tf.train.Saver()\n",
    "    \n",
    "    loss = tf.reduce_mean(tf.pow(encoded_output_reshaped - encoded_prediction_reshaped, 2))\n",
    "    decoder_loss = tf.reduce_mean(tf.pow(decoded_reshaped - video_outputs, 2))\n",
    "    \n",
    "    init_global = tf.global_variables_initializer()\n",
    "    init_local = tf.local_variables_initializer()\n",
    "    \n",
    "    coord = tf.train.Coordinator()\n",
    "    \n",
    "    with tf.Session() as sesh:\n",
    "        sesh.run(init_global)\n",
    "        sesh.run(init_local)\n",
    "        saver.restore(sesh, 'prototype-lstm')\n",
    "        threads = tf.train.start_queue_runners(sess=sesh, coord=coord)\n",
    "\n",
    "        losses = []\n",
    "        predictions = []\n",
    "            \n",
    "        try:\n",
    "            step = 0\n",
    "\n",
    "            while not coord.should_stop():\n",
    "                prediction, loss_value = sesh.run([decoded_reshaped, loss])\n",
    "                losses.append(loss_value)\n",
    "\n",
    "                if step % 100 == 0:\n",
    "                    print('Step {} loss: {:.4f}'.format(step, loss_value))\n",
    "                    predictions.append(prediction)\n",
    "\n",
    "                step += 1\n",
    "\n",
    "        except tf.errors.OutOfRangeError:\n",
    "            print('Done; loss: {:.4f}'.format(step, loss_value))\n",
    "\n",
    "        finally:\n",
    "            coord.request_stop()\n",
    "\n",
    "        coord.join(threads)\n",
    "        \n",
    "    return losses, predictions"
   ]
  },
  {
   "cell_type": "code",
   "execution_count": null,
   "metadata": {
    "scrolled": true
   },
   "outputs": [
    {
     "name": "stdout",
     "output_type": "stream",
     "text": [
      "[256, 54, 74, 32] 127872\n",
      "[256, 54, 74, 32] 127872\n",
      "INFO:tensorflow:Restoring parameters from prototype-lstm\n",
      "Step 0 loss: 15485835.0000\n",
      "Step 100 loss: 19480012.0000\n",
      "Step 200 loss: 17056618.0000\n",
      "Step 300 loss: 14340884.0000\n",
      "Step 400 loss: 22057122.0000\n",
      "Step 500 loss: 18438668.0000\n",
      "Step 600 loss: 20790750.0000\n",
      "Step 700 loss: 20148850.0000\n",
      "Step 800 loss: 19212724.0000\n",
      "Step 900 loss: 16599938.0000\n",
      "Step 1000 loss: 16826722.0000\n",
      "Step 1100 loss: 14351856.0000\n",
      "Step 1200 loss: 24198440.0000\n",
      "Step 1300 loss: 17847578.0000\n",
      "Step 1400 loss: 15763869.0000\n",
      "Step 1500 loss: 16696988.0000\n",
      "Step 1600 loss: 15672744.0000\n",
      "Step 1700 loss: 17134224.0000\n",
      "Step 1800 loss: 16226702.0000\n",
      "Step 1900 loss: 17119726.0000\n",
      "Step 2000 loss: 13506564.0000\n"
     ]
    }
   ],
   "source": [
    "losses, predictions = run_inference(4, 1)"
   ]
  },
  {
   "cell_type": "code",
   "execution_count": 8,
   "metadata": {},
   "outputs": [
    {
     "data": {
      "text/plain": [
       "(64, 60, 80, 3)"
      ]
     },
     "execution_count": 8,
     "metadata": {},
     "output_type": "execute_result"
    }
   ],
   "source": [
    "predictions[0][0].shape"
   ]
  },
  {
   "cell_type": "code",
   "execution_count": 9,
   "metadata": {},
   "outputs": [
    {
     "name": "stdout",
     "output_type": "stream",
     "text": [
      "[MoviePy] >>>> Building video test_lstm.mp4\n",
      "[MoviePy] Writing video test_lstm.mp4\n"
     ]
    },
    {
     "name": "stderr",
     "output_type": "stream",
     "text": [
      "100%|██████████| 64/64 [00:00<00:00, 549.05it/s]"
     ]
    },
    {
     "name": "stdout",
     "output_type": "stream",
     "text": [
      "[MoviePy] Done.\n",
      "[MoviePy] >>>> Video ready: test_lstm.mp4 \n",
      "\n"
     ]
    },
    {
     "name": "stderr",
     "output_type": "stream",
     "text": [
      "\n"
     ]
    }
   ],
   "source": [
    "def render_movie(frame_array, output_file, fps, max_pixel=255):\n",
    "    n_frames = frame_array.shape[0]\n",
    "    clipped_frames = np.minimum(np.maximum(frame_array, 0), max_pixel)\n",
    "    clip = mpe.ImageSequenceClip(list(clipped_frames), fps=fps)\n",
    "    clip.write_videofile(output_file)\n",
    "    return None\n",
    "\n",
    "render_movie(predictions[1][0], 'test_lstm.mp4', 5)"
   ]
  },
  {
   "cell_type": "code",
   "execution_count": null,
   "metadata": {
    "collapsed": true
   },
   "outputs": [],
   "source": []
  }
 ],
 "metadata": {
  "kernelspec": {
   "display_name": "Python 3",
   "language": "python",
   "name": "python3"
  },
  "language_info": {
   "codemirror_mode": {
    "name": "ipython",
    "version": 3
   },
   "file_extension": ".py",
   "mimetype": "text/x-python",
   "name": "python",
   "nbconvert_exporter": "python",
   "pygments_lexer": "ipython3",
   "version": "3.4.3"
  }
 },
 "nbformat": 4,
 "nbformat_minor": 2
}
