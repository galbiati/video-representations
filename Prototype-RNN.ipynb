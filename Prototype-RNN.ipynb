{
 "cells": [
  {
   "cell_type": "code",
   "execution_count": 1,
   "metadata": {},
   "outputs": [],
   "source": [
    "import os\n",
    "import numpy as np\n",
    "\n",
    "import tensorflow as tf\n",
    "from tensorflow.python.framework import ops\n",
    "\n",
    "from load_data import *\n",
    "from models.customlayers import *\n",
    "from models.activations import *\n",
    "from training import *\n",
    "\n",
    "import moviepy.editor as mpe\n",
    "import models.ConvAE as cae\n",
    "L = tf.layers\n",
    "\n",
    "import matplotlib.pyplot as plt\n",
    "% matplotlib inline"
   ]
  },
  {
   "cell_type": "code",
   "execution_count": 2,
   "metadata": {
    "collapsed": true
   },
   "outputs": [],
   "source": [
    "data_dir = os.path.expanduser('~/Insight/video-representations/frames')\n",
    "training_file = os.path.join(data_dir, 'training.tfrecords')\n",
    "validation_file = os.path.join(data_dir, 'validation.tfrecords')\n",
    "testing_file = os.path.join(data_dir, 'testing.tfrecords')"
   ]
  },
  {
   "cell_type": "markdown",
   "metadata": {},
   "source": [
    "# Model"
   ]
  },
  {
   "cell_type": "markdown",
   "metadata": {},
   "source": [
    "Try first:\n",
    "\n",
    "- input full video, output full video\n",
    "- lstm encoder-decoder: at each timestep, input frame, output prediction for next frame\n",
    "- start with fixed size: 20 frames (later work with true recurrent net)\n",
    "\n",
    "Below is wrong; just instantiate lstm outside of function for now\n"
   ]
  },
  {
   "cell_type": "code",
   "execution_count": 3,
   "metadata": {
    "collapsed": true
   },
   "outputs": [],
   "source": [
    "def encoder(image):\n",
    "    original_shape = image.get_shape().as_list()\n",
    "    input_layer = tf.reshape(image, (-1, 60, 80, 3))\n",
    "    \n",
    "    conv1 = L.conv2d(\n",
    "        input_layer, name='conv1',\n",
    "        filters=16, kernel_size=3, activation=selu\n",
    "    )\n",
    "        \n",
    "    conv2 = L.conv2d(\n",
    "        conv1, name='conv2',\n",
    "        filters=32, kernel_size=3, activation=selu\n",
    "    )\n",
    "        \n",
    "    conv3 = L.conv2d(\n",
    "        conv2, name='conv3',\n",
    "        filters=32, kernel_size=5, activation=selu\n",
    "    )\n",
    "        \n",
    "    conv4 = L.conv2d(\n",
    "        conv3, name='conv4',\n",
    "        filters=32, kernel_size=5, activation=selu\n",
    "    )\n",
    "        \n",
    "    shape = conv4.get_shape().as_list()\n",
    "    print(shape)\n",
    "    newdim = shape[1] * shape[2] * shape[3]\n",
    "    print(newdim)\n",
    "    conv4_flat = tf.reshape(conv4, (-1, newdim))\n",
    "    print(conv4_flat.shape)\n",
    "\n",
    "    dense1 = dense_reshape(\n",
    "        conv4, name='dense1',\n",
    "        units=512, activation=selu\n",
    "    )\n",
    "    \n",
    "    return dense1\n",
    "\n",
    "\n",
    "def decoder(encoded):\n",
    "    dense1 = L.dense(encoded, units=104448, activation=selu, name='dense1')\n",
    "\n",
    "    dense1_reshaped = tf.reshape(dense1, (-1, 48, 68, 32))\n",
    "\n",
    "    deconv1 = L.conv2d_transpose(\n",
    "        dense1_reshaped, name='deconv1',\n",
    "        filters=64, kernel_size=5, activation=selu    \n",
    "    )\n",
    "\n",
    "    deconv2 = L.conv2d_transpose(\n",
    "        deconv1, filters=32, kernel_size=5, activation=selu,\n",
    "        name='deconv2'\n",
    "    )\n",
    "\n",
    "    deconv3 = L.conv2d_transpose(\n",
    "        deconv2, name='deconv3', \n",
    "        filters=32, kernel_size=3, activation=selu,\n",
    "    )\n",
    "    \n",
    "    deconv4 = L.conv2d_transpose(\n",
    "        deconv3, name='deconv4', \n",
    "        filters=3, kernel_size=3, activation=selu,\n",
    "    )\n",
    "    \n",
    "    deconv4_reshaped = tf.transpose(deconv4, perm=(0, 3, 1, 2))\n",
    "\n",
    "    return deconv4_reshaped"
   ]
  },
  {
   "cell_type": "code",
   "execution_count": 4,
   "metadata": {},
   "outputs": [
    {
     "name": "stdout",
     "output_type": "stream",
     "text": [
      "[None, 48, 68, 32]\n",
      "104448\n",
      "(?, 104448)\n"
     ]
    }
   ],
   "source": [
    "tf.reset_default_graph()\n",
    "\n",
    "input_var = tf.placeholder(dtype=tf.float32, shape=(None, 3, 60, 80), name='input')\n",
    "target_var = tf.placeholder(dtype=tf.float32, shape=(None, 3, 60, 80), name='target')\n",
    "\n",
    "with tf.variable_scope('encoder'):\n",
    "    encoded = encoder(input_var)\n",
    "    \n",
    "with tf.variable_scope('decoder'):\n",
    "    decoded = decoder(encoded)"
   ]
  },
  {
   "cell_type": "code",
   "execution_count": 4,
   "metadata": {
    "collapsed": true
   },
   "outputs": [],
   "source": [
    "def read_record(filepath_queue):\n",
    "    reader = tf.TFRecordReader()\n",
    "    _, serialized_example = reader.read(filepath_queue)\n",
    "    \n",
    "    features = tf.parse_single_example(\n",
    "        serialized_example,\n",
    "        features={\n",
    "            'height': tf.FixedLenFeature([], tf.int64),\n",
    "            'width': tf.FixedLenFeature([], tf.int64),\n",
    "            'video': tf.FixedLenFeature([], tf.string),\n",
    "            'label': tf.FixedLenFeature([], tf.int64),\n",
    "            'length': tf.FixedLenFeature([], tf.int64)\n",
    "        }\n",
    "    )\n",
    "    \n",
    "    video = tf.decode_raw(features['video'], tf.uint8)   # feature may be renamed to video in future\n",
    "    l = tf.cast(features['length'], tf.int32)\n",
    "    h = tf.cast(features['height'], tf.int32)\n",
    "    w = tf.cast(features['width'], tf.int32)\n",
    "\n",
    "    video_shape = tf.stack([-1, 60, 80, 3])\n",
    "    video = tf.cast(tf.reshape(video, video_shape), tf.float32)\n",
    "    \n",
    "    return video\n",
    "    \n",
    "def inputs(split_type, batchsize, num_epochs): \n",
    "    if not num_epochs:\n",
    "        num_epochs = None\n",
    "        \n",
    "    filepath = os.path.join(data_dir, '{}.tfrecords'.format(split_type))\n",
    "    \n",
    "    with tf.name_scope('input'):\n",
    "        filepath_queue = tf.train.string_input_producer([filepath], num_epochs=num_epochs)\n",
    "    \n",
    "    video = read_record(filepath_queue) # each video is a rank 4 tensor: [n_frames, x, y, c]\n",
    "    print(video.get_shape().as_list())\n",
    "    videos = tf.train.batch(\n",
    "        [video], batchsize, \n",
    "        capacity=128 + 2*batchsize, \n",
    "        num_threads=2,\n",
    "        dynamic_pad=True\n",
    "    )\n",
    "    \n",
    "    return videos"
   ]
  },
  {
   "cell_type": "code",
   "execution_count": 5,
   "metadata": {},
   "outputs": [],
   "source": [
    "def run_training(num_epochs, batchsize):\n",
    "    videos = inputs('training', batchsize, num_epochs)\n",
    "    \n",
    "    with tf.variable_scope('encoder'):\n",
    "        encoded = encoder(videos)\n",
    "        encoded_reshaped = tf.reshape(encoded, (1, -1, 512))\n",
    "    \n",
    "    with tf.variable_scope('lstm'):\n",
    "        lstm_cell = tf.nn.rnn_cell.LSTMCell(num_units=256)\n",
    "        transitioned = tf.nn.dynamic_rnn(lstm_cell, encoded_reshaped, dtype=tf.float32)\n",
    "        transitioned_reshaped = tf.reshape(transitioned[0], (-1, 256))\n",
    "        decoder_input = L.dense(transitioned_reshaped, 512, activation=selu)\n",
    "        \n",
    "    with tf.variable_scope('decoder'):\n",
    "        decoded = decoder(decoder_input)\n",
    "        \n",
    "    l2_weight = .01\n",
    "    l2_term = tf.add_n([tf.nn.l2_loss(v) for v in tf.trainable_variables() if 'bias' not in v.name])\n",
    "    \n",
    "    videos_reshaped = tf.reshape(videos, (-1, 3, 60, 80))\n",
    "\n",
    "    loss = tf.reduce_mean(tf.pow(decoded - videos_reshaped, 2))\n",
    "    train_step = tf.train.AdamOptimizer().minimize(loss + l2_weight*l2_term)\n",
    "    saver = tf.train.Saver()\n",
    "    init_global = tf.global_variables_initializer()\n",
    "    init_local = tf.local_variables_initializer()\n",
    "    \n",
    "    coord = tf.train.Coordinator()\n",
    "    \n",
    "    with tf.Session() as sesh:\n",
    "        sesh.run(init_global)\n",
    "        sesh.run(init_local)\n",
    "        threads = tf.train.start_queue_runners(sess=sesh, coord=coord)\n",
    "\n",
    "        losses = []\n",
    "        try:\n",
    "            step = 0\n",
    "            print(np.sum([np.prod(v.shape.as_list()) for v in tf.trainable_variables()]) / 1000000)\n",
    "\n",
    "            while not coord.should_stop():\n",
    "                _, loss_value = sesh.run([train_step, loss])\n",
    "                losses.append(loss_value)\n",
    "                if step % 500 == 0:\n",
    "                    print('Step {} loss: {:.4f}'.format(step, loss_value))\n",
    "                \n",
    "                step += 1\n",
    "                \n",
    "        except tf.errors.OutOfRangeError:\n",
    "            print('Done; loss: {:.4f}'.format(step, loss_value))\n",
    "            \n",
    "        finally:\n",
    "            coord.request_stop()\n",
    "            \n",
    "        coord.join(threads)"
   ]
  },
  {
   "cell_type": "code",
   "execution_count": null,
   "metadata": {
    "collapsed": true
   },
   "outputs": [],
   "source": [
    "def render_movie(frame_array, output_file, fps, max_pixel=256):\n",
    "    n_frames = frame_array.shape[0]\n",
    "    clipped_frames = np.minimum(np.maximum(frame_array, 0), max_pixel)\n",
    "    clip = mpe.ImageSequenceClip(list(clipped_frames), fps=fps)\n",
    "    clip.write_videofile(output_file)\n",
    "    return None"
   ]
  },
  {
   "cell_type": "code",
   "execution_count": 6,
   "metadata": {
    "scrolled": false
   },
   "outputs": [
    {
     "name": "stdout",
     "output_type": "stream",
     "text": [
      "[None, 60, 80, 3]\n",
      "[None, 48, 68, 32]\n",
      "104448\n",
      "(?, 104448)\n",
      "108.147715\n",
      "Step 0 loss: 4043.1230\n",
      "Step 500 loss: 1818.7803\n",
      "Step 1000 loss: 1410.7524\n",
      "Step 1500 loss: 886.9633\n",
      "Step 2000 loss: 1402.2821\n",
      "Step 2500 loss: 282.3964\n",
      "Step 3000 loss: 1800.7151\n",
      "Step 3500 loss: 1281.6320\n",
      "Step 4000 loss: 926.2836\n",
      "Step 4500 loss: 1306.8568\n"
     ]
    },
    {
     "ename": "ResourceExhaustedError",
     "evalue": "OOM when allocating tensor with shape[892,32,56,76]\n\t [[Node: decoder/deconv2/conv2d_transpose = Conv2DBackpropInput[T=DT_FLOAT, data_format=\"NHWC\", padding=\"VALID\", strides=[1, 1, 1, 1], use_cudnn_on_gpu=true, _device=\"/job:localhost/replica:0/task:0/gpu:0\"](decoder/deconv2/stack, decoder/deconv2/kernel/read, decoder/deconv1/mul_3)]]\n\t [[Node: Mean/_27 = _Recv[client_terminated=false, recv_device=\"/job:localhost/replica:0/task:0/cpu:0\", send_device=\"/job:localhost/replica:0/task:0/gpu:0\", send_device_incarnation=1, tensor_name=\"edge_2489_Mean\", tensor_type=DT_FLOAT, _device=\"/job:localhost/replica:0/task:0/cpu:0\"]()]]\n\nCaused by op 'decoder/deconv2/conv2d_transpose', defined at:\n  File \"/usr/lib/python3.4/runpy.py\", line 170, in _run_module_as_main\n    \"__main__\", mod_spec)\n  File \"/usr/lib/python3.4/runpy.py\", line 85, in _run_code\n    exec(code, run_globals)\n  File \"/usr/local/lib/python3.4/dist-packages/ipykernel_launcher.py\", line 16, in <module>\n    app.launch_new_instance()\n  File \"/usr/local/lib/python3.4/dist-packages/traitlets/config/application.py\", line 658, in launch_instance\n    app.start()\n  File \"/usr/local/lib/python3.4/dist-packages/ipykernel/kernelapp.py\", line 477, in start\n    ioloop.IOLoop.instance().start()\n  File \"/usr/local/lib/python3.4/dist-packages/zmq/eventloop/ioloop.py\", line 177, in start\n    super(ZMQIOLoop, self).start()\n  File \"/usr/local/lib/python3.4/dist-packages/tornado/ioloop.py\", line 888, in start\n    handler_func(fd_obj, events)\n  File \"/usr/local/lib/python3.4/dist-packages/tornado/stack_context.py\", line 277, in null_wrapper\n    return fn(*args, **kwargs)\n  File \"/usr/local/lib/python3.4/dist-packages/zmq/eventloop/zmqstream.py\", line 440, in _handle_events\n    self._handle_recv()\n  File \"/usr/local/lib/python3.4/dist-packages/zmq/eventloop/zmqstream.py\", line 472, in _handle_recv\n    self._run_callback(callback, msg)\n  File \"/usr/local/lib/python3.4/dist-packages/zmq/eventloop/zmqstream.py\", line 414, in _run_callback\n    callback(*args, **kwargs)\n  File \"/usr/local/lib/python3.4/dist-packages/tornado/stack_context.py\", line 277, in null_wrapper\n    return fn(*args, **kwargs)\n  File \"/usr/local/lib/python3.4/dist-packages/ipykernel/kernelbase.py\", line 283, in dispatcher\n    return self.dispatch_shell(stream, msg)\n  File \"/usr/local/lib/python3.4/dist-packages/ipykernel/kernelbase.py\", line 235, in dispatch_shell\n    handler(stream, idents, msg)\n  File \"/usr/local/lib/python3.4/dist-packages/ipykernel/kernelbase.py\", line 399, in execute_request\n    user_expressions, allow_stdin)\n  File \"/usr/local/lib/python3.4/dist-packages/ipykernel/ipkernel.py\", line 196, in do_execute\n    res = shell.run_cell(code, store_history=store_history, silent=silent)\n  File \"/usr/local/lib/python3.4/dist-packages/ipykernel/zmqshell.py\", line 533, in run_cell\n    return super(ZMQInteractiveShell, self).run_cell(*args, **kwargs)\n  File \"/usr/local/lib/python3.4/dist-packages/IPython/core/interactiveshell.py\", line 2698, in run_cell\n    interactivity=interactivity, compiler=compiler, result=result)\n  File \"/usr/local/lib/python3.4/dist-packages/IPython/core/interactiveshell.py\", line 2808, in run_ast_nodes\n    if self.run_code(code, result):\n  File \"/usr/local/lib/python3.4/dist-packages/IPython/core/interactiveshell.py\", line 2862, in run_code\n    exec(code_obj, self.user_global_ns, self.user_ns)\n  File \"<ipython-input-6-d48786fdd637>\", line 1, in <module>\n    run_training(2, 1)\n  File \"<ipython-input-5-4121c1012785>\", line 15, in run_training\n    decoded = decoder(decoder_input)\n  File \"<ipython-input-3-bafd560709cb>\", line 52, in decoder\n    name='deconv2'\n  File \"/usr/local/lib/python3.4/dist-packages/tensorflow/python/layers/convolutional.py\", line 1282, in conv2d_transpose\n    return layer.apply(inputs)\n  File \"/usr/local/lib/python3.4/dist-packages/tensorflow/python/layers/base.py\", line 492, in apply\n    return self.__call__(inputs, *args, **kwargs)\n  File \"/usr/local/lib/python3.4/dist-packages/tensorflow/python/layers/base.py\", line 441, in __call__\n    outputs = self.call(inputs, *args, **kwargs)\n  File \"/usr/local/lib/python3.4/dist-packages/tensorflow/python/layers/convolutional.py\", line 1162, in call\n    data_format=utils.convert_data_format(self.data_format, ndim=4))\n  File \"/usr/local/lib/python3.4/dist-packages/tensorflow/python/ops/nn_ops.py\", line 1046, in conv2d_transpose\n    name=name)\n  File \"/usr/local/lib/python3.4/dist-packages/tensorflow/python/ops/gen_nn_ops.py\", line 488, in conv2d_backprop_input\n    data_format=data_format, name=name)\n  File \"/usr/local/lib/python3.4/dist-packages/tensorflow/python/framework/op_def_library.py\", line 767, in apply_op\n    op_def=op_def)\n  File \"/usr/local/lib/python3.4/dist-packages/tensorflow/python/framework/ops.py\", line 2506, in create_op\n    original_op=self._default_original_op, op_def=op_def)\n  File \"/usr/local/lib/python3.4/dist-packages/tensorflow/python/framework/ops.py\", line 1269, in __init__\n    self._traceback = _extract_stack()\n\nResourceExhaustedError (see above for traceback): OOM when allocating tensor with shape[892,32,56,76]\n\t [[Node: decoder/deconv2/conv2d_transpose = Conv2DBackpropInput[T=DT_FLOAT, data_format=\"NHWC\", padding=\"VALID\", strides=[1, 1, 1, 1], use_cudnn_on_gpu=true, _device=\"/job:localhost/replica:0/task:0/gpu:0\"](decoder/deconv2/stack, decoder/deconv2/kernel/read, decoder/deconv1/mul_3)]]\n\t [[Node: Mean/_27 = _Recv[client_terminated=false, recv_device=\"/job:localhost/replica:0/task:0/cpu:0\", send_device=\"/job:localhost/replica:0/task:0/gpu:0\", send_device_incarnation=1, tensor_name=\"edge_2489_Mean\", tensor_type=DT_FLOAT, _device=\"/job:localhost/replica:0/task:0/cpu:0\"]()]]\n",
     "output_type": "error",
     "traceback": [
      "\u001b[0;31m---------------------------------------------------------------------------\u001b[0m",
      "\u001b[0;31mResourceExhaustedError\u001b[0m                    Traceback (most recent call last)",
      "\u001b[0;32m/usr/local/lib/python3.4/dist-packages/tensorflow/python/client/session.py\u001b[0m in \u001b[0;36m_do_call\u001b[0;34m(self, fn, *args)\u001b[0m\n\u001b[1;32m   1138\u001b[0m     \u001b[0;32mtry\u001b[0m\u001b[0;34m:\u001b[0m\u001b[0;34m\u001b[0m\u001b[0m\n\u001b[0;32m-> 1139\u001b[0;31m       \u001b[0;32mreturn\u001b[0m \u001b[0mfn\u001b[0m\u001b[0;34m(\u001b[0m\u001b[0;34m*\u001b[0m\u001b[0margs\u001b[0m\u001b[0;34m)\u001b[0m\u001b[0;34m\u001b[0m\u001b[0m\n\u001b[0m\u001b[1;32m   1140\u001b[0m     \u001b[0;32mexcept\u001b[0m \u001b[0merrors\u001b[0m\u001b[0;34m.\u001b[0m\u001b[0mOpError\u001b[0m \u001b[0;32mas\u001b[0m \u001b[0me\u001b[0m\u001b[0;34m:\u001b[0m\u001b[0;34m\u001b[0m\u001b[0m\n",
      "\u001b[0;32m/usr/local/lib/python3.4/dist-packages/tensorflow/python/client/session.py\u001b[0m in \u001b[0;36m_run_fn\u001b[0;34m(session, feed_dict, fetch_list, target_list, options, run_metadata)\u001b[0m\n\u001b[1;32m   1120\u001b[0m                                  \u001b[0mfeed_dict\u001b[0m\u001b[0;34m,\u001b[0m \u001b[0mfetch_list\u001b[0m\u001b[0;34m,\u001b[0m \u001b[0mtarget_list\u001b[0m\u001b[0;34m,\u001b[0m\u001b[0;34m\u001b[0m\u001b[0m\n\u001b[0;32m-> 1121\u001b[0;31m                                  status, run_metadata)\n\u001b[0m\u001b[1;32m   1122\u001b[0m \u001b[0;34m\u001b[0m\u001b[0m\n",
      "\u001b[0;32m/usr/lib/python3.4/contextlib.py\u001b[0m in \u001b[0;36m__exit__\u001b[0;34m(self, type, value, traceback)\u001b[0m\n\u001b[1;32m     65\u001b[0m             \u001b[0;32mtry\u001b[0m\u001b[0;34m:\u001b[0m\u001b[0;34m\u001b[0m\u001b[0m\n\u001b[0;32m---> 66\u001b[0;31m                 \u001b[0mnext\u001b[0m\u001b[0;34m(\u001b[0m\u001b[0mself\u001b[0m\u001b[0;34m.\u001b[0m\u001b[0mgen\u001b[0m\u001b[0;34m)\u001b[0m\u001b[0;34m\u001b[0m\u001b[0m\n\u001b[0m\u001b[1;32m     67\u001b[0m             \u001b[0;32mexcept\u001b[0m \u001b[0mStopIteration\u001b[0m\u001b[0;34m:\u001b[0m\u001b[0;34m\u001b[0m\u001b[0m\n",
      "\u001b[0;32m/usr/local/lib/python3.4/dist-packages/tensorflow/python/framework/errors_impl.py\u001b[0m in \u001b[0;36mraise_exception_on_not_ok_status\u001b[0;34m()\u001b[0m\n\u001b[1;32m    465\u001b[0m           \u001b[0mcompat\u001b[0m\u001b[0;34m.\u001b[0m\u001b[0mas_text\u001b[0m\u001b[0;34m(\u001b[0m\u001b[0mpywrap_tensorflow\u001b[0m\u001b[0;34m.\u001b[0m\u001b[0mTF_Message\u001b[0m\u001b[0;34m(\u001b[0m\u001b[0mstatus\u001b[0m\u001b[0;34m)\u001b[0m\u001b[0;34m)\u001b[0m\u001b[0;34m,\u001b[0m\u001b[0;34m\u001b[0m\u001b[0m\n\u001b[0;32m--> 466\u001b[0;31m           pywrap_tensorflow.TF_GetCode(status))\n\u001b[0m\u001b[1;32m    467\u001b[0m   \u001b[0;32mfinally\u001b[0m\u001b[0;34m:\u001b[0m\u001b[0;34m\u001b[0m\u001b[0m\n",
      "\u001b[0;31mResourceExhaustedError\u001b[0m: OOM when allocating tensor with shape[892,32,56,76]\n\t [[Node: decoder/deconv2/conv2d_transpose = Conv2DBackpropInput[T=DT_FLOAT, data_format=\"NHWC\", padding=\"VALID\", strides=[1, 1, 1, 1], use_cudnn_on_gpu=true, _device=\"/job:localhost/replica:0/task:0/gpu:0\"](decoder/deconv2/stack, decoder/deconv2/kernel/read, decoder/deconv1/mul_3)]]\n\t [[Node: Mean/_27 = _Recv[client_terminated=false, recv_device=\"/job:localhost/replica:0/task:0/cpu:0\", send_device=\"/job:localhost/replica:0/task:0/gpu:0\", send_device_incarnation=1, tensor_name=\"edge_2489_Mean\", tensor_type=DT_FLOAT, _device=\"/job:localhost/replica:0/task:0/cpu:0\"]()]]",
      "\nDuring handling of the above exception, another exception occurred:\n",
      "\u001b[0;31mResourceExhaustedError\u001b[0m                    Traceback (most recent call last)",
      "\u001b[0;32m<ipython-input-6-d48786fdd637>\u001b[0m in \u001b[0;36m<module>\u001b[0;34m()\u001b[0m\n\u001b[0;32m----> 1\u001b[0;31m \u001b[0mrun_training\u001b[0m\u001b[0;34m(\u001b[0m\u001b[0;36m2\u001b[0m\u001b[0;34m,\u001b[0m \u001b[0;36m1\u001b[0m\u001b[0;34m)\u001b[0m\u001b[0;34m\u001b[0m\u001b[0m\n\u001b[0m",
      "\u001b[0;32m<ipython-input-5-4121c1012785>\u001b[0m in \u001b[0;36mrun_training\u001b[0;34m(num_epochs, batchsize)\u001b[0m\n\u001b[1;32m     38\u001b[0m \u001b[0;34m\u001b[0m\u001b[0m\n\u001b[1;32m     39\u001b[0m             \u001b[0;32mwhile\u001b[0m \u001b[0;32mnot\u001b[0m \u001b[0mcoord\u001b[0m\u001b[0;34m.\u001b[0m\u001b[0mshould_stop\u001b[0m\u001b[0;34m(\u001b[0m\u001b[0;34m)\u001b[0m\u001b[0;34m:\u001b[0m\u001b[0;34m\u001b[0m\u001b[0m\n\u001b[0;32m---> 40\u001b[0;31m                 \u001b[0m_\u001b[0m\u001b[0;34m,\u001b[0m \u001b[0mloss_value\u001b[0m \u001b[0;34m=\u001b[0m \u001b[0msesh\u001b[0m\u001b[0;34m.\u001b[0m\u001b[0mrun\u001b[0m\u001b[0;34m(\u001b[0m\u001b[0;34m[\u001b[0m\u001b[0mtrain_step\u001b[0m\u001b[0;34m,\u001b[0m \u001b[0mloss\u001b[0m\u001b[0;34m]\u001b[0m\u001b[0;34m)\u001b[0m\u001b[0;34m\u001b[0m\u001b[0m\n\u001b[0m\u001b[1;32m     41\u001b[0m \u001b[0;34m\u001b[0m\u001b[0m\n\u001b[1;32m     42\u001b[0m                 \u001b[0;32mif\u001b[0m \u001b[0mstep\u001b[0m \u001b[0;34m%\u001b[0m \u001b[0;36m500\u001b[0m \u001b[0;34m==\u001b[0m \u001b[0;36m0\u001b[0m\u001b[0;34m:\u001b[0m\u001b[0;34m\u001b[0m\u001b[0m\n",
      "\u001b[0;32m/usr/local/lib/python3.4/dist-packages/tensorflow/python/client/session.py\u001b[0m in \u001b[0;36mrun\u001b[0;34m(self, fetches, feed_dict, options, run_metadata)\u001b[0m\n\u001b[1;32m    787\u001b[0m     \u001b[0;32mtry\u001b[0m\u001b[0;34m:\u001b[0m\u001b[0;34m\u001b[0m\u001b[0m\n\u001b[1;32m    788\u001b[0m       result = self._run(None, fetches, feed_dict, options_ptr,\n\u001b[0;32m--> 789\u001b[0;31m                          run_metadata_ptr)\n\u001b[0m\u001b[1;32m    790\u001b[0m       \u001b[0;32mif\u001b[0m \u001b[0mrun_metadata\u001b[0m\u001b[0;34m:\u001b[0m\u001b[0;34m\u001b[0m\u001b[0m\n\u001b[1;32m    791\u001b[0m         \u001b[0mproto_data\u001b[0m \u001b[0;34m=\u001b[0m \u001b[0mtf_session\u001b[0m\u001b[0;34m.\u001b[0m\u001b[0mTF_GetBuffer\u001b[0m\u001b[0;34m(\u001b[0m\u001b[0mrun_metadata_ptr\u001b[0m\u001b[0;34m)\u001b[0m\u001b[0;34m\u001b[0m\u001b[0m\n",
      "\u001b[0;32m/usr/local/lib/python3.4/dist-packages/tensorflow/python/client/session.py\u001b[0m in \u001b[0;36m_run\u001b[0;34m(self, handle, fetches, feed_dict, options, run_metadata)\u001b[0m\n\u001b[1;32m    995\u001b[0m     \u001b[0;32mif\u001b[0m \u001b[0mfinal_fetches\u001b[0m \u001b[0;32mor\u001b[0m \u001b[0mfinal_targets\u001b[0m\u001b[0;34m:\u001b[0m\u001b[0;34m\u001b[0m\u001b[0m\n\u001b[1;32m    996\u001b[0m       results = self._do_run(handle, final_targets, final_fetches,\n\u001b[0;32m--> 997\u001b[0;31m                              feed_dict_string, options, run_metadata)\n\u001b[0m\u001b[1;32m    998\u001b[0m     \u001b[0;32melse\u001b[0m\u001b[0;34m:\u001b[0m\u001b[0;34m\u001b[0m\u001b[0m\n\u001b[1;32m    999\u001b[0m       \u001b[0mresults\u001b[0m \u001b[0;34m=\u001b[0m \u001b[0;34m[\u001b[0m\u001b[0;34m]\u001b[0m\u001b[0;34m\u001b[0m\u001b[0m\n",
      "\u001b[0;32m/usr/local/lib/python3.4/dist-packages/tensorflow/python/client/session.py\u001b[0m in \u001b[0;36m_do_run\u001b[0;34m(self, handle, target_list, fetch_list, feed_dict, options, run_metadata)\u001b[0m\n\u001b[1;32m   1130\u001b[0m     \u001b[0;32mif\u001b[0m \u001b[0mhandle\u001b[0m \u001b[0;32mis\u001b[0m \u001b[0;32mNone\u001b[0m\u001b[0;34m:\u001b[0m\u001b[0;34m\u001b[0m\u001b[0m\n\u001b[1;32m   1131\u001b[0m       return self._do_call(_run_fn, self._session, feed_dict, fetch_list,\n\u001b[0;32m-> 1132\u001b[0;31m                            target_list, options, run_metadata)\n\u001b[0m\u001b[1;32m   1133\u001b[0m     \u001b[0;32melse\u001b[0m\u001b[0;34m:\u001b[0m\u001b[0;34m\u001b[0m\u001b[0m\n\u001b[1;32m   1134\u001b[0m       return self._do_call(_prun_fn, self._session, handle, feed_dict,\n",
      "\u001b[0;32m/usr/local/lib/python3.4/dist-packages/tensorflow/python/client/session.py\u001b[0m in \u001b[0;36m_do_call\u001b[0;34m(self, fn, *args)\u001b[0m\n\u001b[1;32m   1150\u001b[0m         \u001b[0;32mexcept\u001b[0m \u001b[0mKeyError\u001b[0m\u001b[0;34m:\u001b[0m\u001b[0;34m\u001b[0m\u001b[0m\n\u001b[1;32m   1151\u001b[0m           \u001b[0;32mpass\u001b[0m\u001b[0;34m\u001b[0m\u001b[0m\n\u001b[0;32m-> 1152\u001b[0;31m       \u001b[0;32mraise\u001b[0m \u001b[0mtype\u001b[0m\u001b[0;34m(\u001b[0m\u001b[0me\u001b[0m\u001b[0;34m)\u001b[0m\u001b[0;34m(\u001b[0m\u001b[0mnode_def\u001b[0m\u001b[0;34m,\u001b[0m \u001b[0mop\u001b[0m\u001b[0;34m,\u001b[0m \u001b[0mmessage\u001b[0m\u001b[0;34m)\u001b[0m\u001b[0;34m\u001b[0m\u001b[0m\n\u001b[0m\u001b[1;32m   1153\u001b[0m \u001b[0;34m\u001b[0m\u001b[0m\n\u001b[1;32m   1154\u001b[0m   \u001b[0;32mdef\u001b[0m \u001b[0m_extend_graph\u001b[0m\u001b[0;34m(\u001b[0m\u001b[0mself\u001b[0m\u001b[0;34m)\u001b[0m\u001b[0;34m:\u001b[0m\u001b[0;34m\u001b[0m\u001b[0m\n",
      "\u001b[0;31mResourceExhaustedError\u001b[0m: OOM when allocating tensor with shape[892,32,56,76]\n\t [[Node: decoder/deconv2/conv2d_transpose = Conv2DBackpropInput[T=DT_FLOAT, data_format=\"NHWC\", padding=\"VALID\", strides=[1, 1, 1, 1], use_cudnn_on_gpu=true, _device=\"/job:localhost/replica:0/task:0/gpu:0\"](decoder/deconv2/stack, decoder/deconv2/kernel/read, decoder/deconv1/mul_3)]]\n\t [[Node: Mean/_27 = _Recv[client_terminated=false, recv_device=\"/job:localhost/replica:0/task:0/cpu:0\", send_device=\"/job:localhost/replica:0/task:0/gpu:0\", send_device_incarnation=1, tensor_name=\"edge_2489_Mean\", tensor_type=DT_FLOAT, _device=\"/job:localhost/replica:0/task:0/cpu:0\"]()]]\n\nCaused by op 'decoder/deconv2/conv2d_transpose', defined at:\n  File \"/usr/lib/python3.4/runpy.py\", line 170, in _run_module_as_main\n    \"__main__\", mod_spec)\n  File \"/usr/lib/python3.4/runpy.py\", line 85, in _run_code\n    exec(code, run_globals)\n  File \"/usr/local/lib/python3.4/dist-packages/ipykernel_launcher.py\", line 16, in <module>\n    app.launch_new_instance()\n  File \"/usr/local/lib/python3.4/dist-packages/traitlets/config/application.py\", line 658, in launch_instance\n    app.start()\n  File \"/usr/local/lib/python3.4/dist-packages/ipykernel/kernelapp.py\", line 477, in start\n    ioloop.IOLoop.instance().start()\n  File \"/usr/local/lib/python3.4/dist-packages/zmq/eventloop/ioloop.py\", line 177, in start\n    super(ZMQIOLoop, self).start()\n  File \"/usr/local/lib/python3.4/dist-packages/tornado/ioloop.py\", line 888, in start\n    handler_func(fd_obj, events)\n  File \"/usr/local/lib/python3.4/dist-packages/tornado/stack_context.py\", line 277, in null_wrapper\n    return fn(*args, **kwargs)\n  File \"/usr/local/lib/python3.4/dist-packages/zmq/eventloop/zmqstream.py\", line 440, in _handle_events\n    self._handle_recv()\n  File \"/usr/local/lib/python3.4/dist-packages/zmq/eventloop/zmqstream.py\", line 472, in _handle_recv\n    self._run_callback(callback, msg)\n  File \"/usr/local/lib/python3.4/dist-packages/zmq/eventloop/zmqstream.py\", line 414, in _run_callback\n    callback(*args, **kwargs)\n  File \"/usr/local/lib/python3.4/dist-packages/tornado/stack_context.py\", line 277, in null_wrapper\n    return fn(*args, **kwargs)\n  File \"/usr/local/lib/python3.4/dist-packages/ipykernel/kernelbase.py\", line 283, in dispatcher\n    return self.dispatch_shell(stream, msg)\n  File \"/usr/local/lib/python3.4/dist-packages/ipykernel/kernelbase.py\", line 235, in dispatch_shell\n    handler(stream, idents, msg)\n  File \"/usr/local/lib/python3.4/dist-packages/ipykernel/kernelbase.py\", line 399, in execute_request\n    user_expressions, allow_stdin)\n  File \"/usr/local/lib/python3.4/dist-packages/ipykernel/ipkernel.py\", line 196, in do_execute\n    res = shell.run_cell(code, store_history=store_history, silent=silent)\n  File \"/usr/local/lib/python3.4/dist-packages/ipykernel/zmqshell.py\", line 533, in run_cell\n    return super(ZMQInteractiveShell, self).run_cell(*args, **kwargs)\n  File \"/usr/local/lib/python3.4/dist-packages/IPython/core/interactiveshell.py\", line 2698, in run_cell\n    interactivity=interactivity, compiler=compiler, result=result)\n  File \"/usr/local/lib/python3.4/dist-packages/IPython/core/interactiveshell.py\", line 2808, in run_ast_nodes\n    if self.run_code(code, result):\n  File \"/usr/local/lib/python3.4/dist-packages/IPython/core/interactiveshell.py\", line 2862, in run_code\n    exec(code_obj, self.user_global_ns, self.user_ns)\n  File \"<ipython-input-6-d48786fdd637>\", line 1, in <module>\n    run_training(2, 1)\n  File \"<ipython-input-5-4121c1012785>\", line 15, in run_training\n    decoded = decoder(decoder_input)\n  File \"<ipython-input-3-bafd560709cb>\", line 52, in decoder\n    name='deconv2'\n  File \"/usr/local/lib/python3.4/dist-packages/tensorflow/python/layers/convolutional.py\", line 1282, in conv2d_transpose\n    return layer.apply(inputs)\n  File \"/usr/local/lib/python3.4/dist-packages/tensorflow/python/layers/base.py\", line 492, in apply\n    return self.__call__(inputs, *args, **kwargs)\n  File \"/usr/local/lib/python3.4/dist-packages/tensorflow/python/layers/base.py\", line 441, in __call__\n    outputs = self.call(inputs, *args, **kwargs)\n  File \"/usr/local/lib/python3.4/dist-packages/tensorflow/python/layers/convolutional.py\", line 1162, in call\n    data_format=utils.convert_data_format(self.data_format, ndim=4))\n  File \"/usr/local/lib/python3.4/dist-packages/tensorflow/python/ops/nn_ops.py\", line 1046, in conv2d_transpose\n    name=name)\n  File \"/usr/local/lib/python3.4/dist-packages/tensorflow/python/ops/gen_nn_ops.py\", line 488, in conv2d_backprop_input\n    data_format=data_format, name=name)\n  File \"/usr/local/lib/python3.4/dist-packages/tensorflow/python/framework/op_def_library.py\", line 767, in apply_op\n    op_def=op_def)\n  File \"/usr/local/lib/python3.4/dist-packages/tensorflow/python/framework/ops.py\", line 2506, in create_op\n    original_op=self._default_original_op, op_def=op_def)\n  File \"/usr/local/lib/python3.4/dist-packages/tensorflow/python/framework/ops.py\", line 1269, in __init__\n    self._traceback = _extract_stack()\n\nResourceExhaustedError (see above for traceback): OOM when allocating tensor with shape[892,32,56,76]\n\t [[Node: decoder/deconv2/conv2d_transpose = Conv2DBackpropInput[T=DT_FLOAT, data_format=\"NHWC\", padding=\"VALID\", strides=[1, 1, 1, 1], use_cudnn_on_gpu=true, _device=\"/job:localhost/replica:0/task:0/gpu:0\"](decoder/deconv2/stack, decoder/deconv2/kernel/read, decoder/deconv1/mul_3)]]\n\t [[Node: Mean/_27 = _Recv[client_terminated=false, recv_device=\"/job:localhost/replica:0/task:0/cpu:0\", send_device=\"/job:localhost/replica:0/task:0/gpu:0\", send_device_incarnation=1, tensor_name=\"edge_2489_Mean\", tensor_type=DT_FLOAT, _device=\"/job:localhost/replica:0/task:0/cpu:0\"]()]]\n"
     ]
    }
   ],
   "source": [
    "run_training(2, 1)"
   ]
  }
 ],
 "metadata": {
  "kernelspec": {
   "display_name": "Python 3",
   "language": "python",
   "name": "python3"
  },
  "language_info": {
   "codemirror_mode": {
    "name": "ipython",
    "version": 3
   },
   "file_extension": ".py",
   "mimetype": "text/x-python",
   "name": "python",
   "nbconvert_exporter": "python",
   "pygments_lexer": "ipython3",
   "version": "3.4.3"
  }
 },
 "nbformat": 4,
 "nbformat_minor": 2
}
