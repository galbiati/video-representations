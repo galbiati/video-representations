{
 "cells": [
  {
   "cell_type": "code",
   "execution_count": 1,
   "metadata": {
    "collapsed": true
   },
   "outputs": [],
   "source": [
    "import os\n",
    "import numpy as np\n",
    "\n",
    "import tensorflow as tf\n",
    "from tensorflow.python.framework import ops\n",
    "\n",
    "from load_data import *\n",
    "from models.customlayers import *\n",
    "from models.activations import *\n",
    "from training import *\n",
    "\n",
    "import models.ConvAE as cae\n",
    "L = tf.layers\n",
    "\n",
    "import matplotlib.pyplot as plt\n",
    "% matplotlib inline"
   ]
  },
  {
   "cell_type": "markdown",
   "metadata": {},
   "source": [
    "# Model"
   ]
  },
  {
   "cell_type": "markdown",
   "metadata": {},
   "source": [
    "Try first:\n",
    "\n",
    "- input full video, output full video\n",
    "- lstm encoder-decoder: at each timestep, input frame, output prediction for next frame\n",
    "- start with fixed size: 20 frames (later work with true recurrent net)\n",
    "\n",
    "Below is wrong; just instantiate lstm outside of function for now\n"
   ]
  },
  {
   "cell_type": "code",
   "execution_count": null,
   "metadata": {
    "collapsed": true
   },
   "outputs": [],
   "source": [
    "input_var = tf.placeholder(dtype=tf.float32, shape=(20, 3, 60, 80), name='input')\n",
    "target_var = tf.placeholder(dtype=tf.float32, shape=(20, 3, 60, 80), name='target')\n",
    "\n",
    "def unwrapped_transition(num_units=1024, num_steps=19):\n",
    "    state = tf.zeros([num_steps, num_units])\n",
    "    initial_state = state\n",
    "    \n",
    "    with tf.variable_scope('encoder'):\n",
    "        encoded = cae.encoder(input_var)\n",
    "        \n",
    "    with tf.variable_scope('lstm'):\n",
    "        lstm = tf.nn.rnn_cell.LSTMCell(num_units=num_units, use_peepholes=True, activation=selu)\n",
    "    \n",
    "    current_loss = 0\n",
    "    for step in range(num_steps):\n",
    "        output, state = lstm(encoded[i, :], state)\n",
    "        \n",
    "        current_loss += tf.reduce_mean(tf.pow(output - encoded[i+1], 2))"
   ]
  },
  {
   "cell_type": "code",
   "execution_count": 3,
   "metadata": {
    "collapsed": true
   },
   "outputs": [],
   "source": [
    "def transition(encoded, num_units=1024, num_steps=20):\n",
    "    input_shape = encoded.get_shape().as_list()\n",
    "    state = tf.zeros([input_shape[0], num_units])\n",
    "    initial_state = state\n",
    "    encoded = []\n",
    "    \n",
    "    lstm = tf.nn.rnn_cell.LSTMCell(num_units=num_units, use_peepholes=True, activation=selu)\n",
    "    \n",
    "    for step in range(num_steps):\n",
    "        output, state = lstm(encoded[step, :], state)\n",
    "        \n",
    "    final_state = state\n",
    "    \n",
    "    return "
   ]
  },
  {
   "cell_type": "code",
   "execution_count": null,
   "metadata": {
    "collapsed": true
   },
   "outputs": [],
   "source": [
    "tf.reset_default_graph()\n",
    "\n",
    "input_var = tf.placeholder(dtype=tf.float32, shape=(None, 3, 60, 80), name='input')\n",
    "target_var = tf.placeholder(dtype=tf.float32, shape=(None, 3, 60, 80), name='target')\n",
    "\n",
    "with tf.variable_scope('encoder'):\n",
    "    encoded = cae.encoder(input_var)\n",
    "\n",
    "with tf.variable_scope('lstm'):\n",
    "    latent = encoded # just pass for now\n",
    "\n",
    "with tf.variable_scope('decoder'):\n",
    "    decoded0 = cae.decoder(encoded)\n",
    "    \n",
    "with tf.variable_scope('decoder', reuse=True):\n",
    "    decoded1 = cae.decoder(latent)\n",
    "\n",
    "loss = tf.reduce_mean(tf.pow(decoded1 - target_var, 2)) + tf.reduce_mean(tf.pow(decoded0 - input_var, 2))\n",
    "train_step = tf.train.AdamOptimizer().minimize(loss)\n",
    "saver = tf.train.Saver()\n",
    "init = tf.global_variables_initializer()"
   ]
  }
 ],
 "metadata": {
  "kernelspec": {
   "display_name": "Python 3",
   "language": "python",
   "name": "python3"
  },
  "language_info": {
   "codemirror_mode": {
    "name": "ipython",
    "version": 3
   },
   "file_extension": ".py",
   "mimetype": "text/x-python",
   "name": "python",
   "nbconvert_exporter": "python",
   "pygments_lexer": "ipython3",
   "version": "3.4.3"
  }
 },
 "nbformat": 4,
 "nbformat_minor": 2
}
