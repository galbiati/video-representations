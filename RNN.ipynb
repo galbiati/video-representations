{
 "cells": [
  {
   "cell_type": "code",
   "execution_count": 1,
   "metadata": {
    "collapsed": true
   },
   "outputs": [],
   "source": [
    "import os\n",
    "import numpy as np\n",
    "\n",
    "import tensorflow as tf\n",
    "from tensorflow.python.framework import ops\n",
    "\n",
    "from load_data import *\n",
    "from models.customlayers import *\n",
    "from models.activations import *\n",
    "from training import *"
   ]
  },
  {
   "cell_type": "code",
   "execution_count": null,
   "metadata": {
    "collapsed": true
   },
   "outputs": [],
   "source": [
    "data_dir = os.path.expanduser('~/Insight/video-representations/frames')\n",
    "training_file = os.path.join(data_dir, 'training.tfrecords')\n",
    "validation_file = os.path.join(data_dir, 'validation.tfrecords')\n",
    "testing_file = os.path.join(data_dir, 'testing.tfrecords')"
   ]
  },
  {
   "cell_type": "code",
   "execution_count": 3,
   "metadata": {},
   "outputs": [
    {
     "ename": "NameError",
     "evalue": "name 'training_file' is not defined",
     "output_type": "error",
     "traceback": [
      "\u001b[0;31m---------------------------------------------------------------------------\u001b[0m",
      "\u001b[0;31mNameError\u001b[0m                                 Traceback (most recent call last)",
      "\u001b[0;32m<ipython-input-3-3aad11e17bcf>\u001b[0m in \u001b[0;36m<module>\u001b[0;34m()\u001b[0m\n\u001b[1;32m     24\u001b[0m \u001b[0;34m\u001b[0m\u001b[0m\n\u001b[1;32m     25\u001b[0m \u001b[0;32mwith\u001b[0m \u001b[0mtf\u001b[0m\u001b[0;34m.\u001b[0m\u001b[0mname_scope\u001b[0m\u001b[0;34m(\u001b[0m\u001b[0;34m'training_queue'\u001b[0m\u001b[0;34m)\u001b[0m\u001b[0;34m:\u001b[0m\u001b[0;34m\u001b[0m\u001b[0m\n\u001b[0;32m---> 26\u001b[0;31m     \u001b[0mfilepath_queue\u001b[0m \u001b[0;34m=\u001b[0m \u001b[0mtf\u001b[0m\u001b[0;34m.\u001b[0m\u001b[0mtrain\u001b[0m\u001b[0;34m.\u001b[0m\u001b[0mstring_input_producer\u001b[0m\u001b[0;34m(\u001b[0m\u001b[0;34m[\u001b[0m\u001b[0mtraining_file\u001b[0m\u001b[0;34m]\u001b[0m\u001b[0;34m)\u001b[0m\u001b[0;34m\u001b[0m\u001b[0m\n\u001b[0m\u001b[1;32m     27\u001b[0m     \u001b[0mtraining_video\u001b[0m \u001b[0;34m=\u001b[0m \u001b[0mread_single_record\u001b[0m\u001b[0;34m(\u001b[0m\u001b[0mfilepath_queue\u001b[0m\u001b[0;34m)\u001b[0m\u001b[0;34m\u001b[0m\u001b[0m\n\u001b[1;32m     28\u001b[0m \u001b[0;34m\u001b[0m\u001b[0m\n",
      "\u001b[0;31mNameError\u001b[0m: name 'training_file' is not defined"
     ]
    }
   ],
   "source": [
    "N_EPOCHS = 4\n",
    "HEIGHT = 60\n",
    "WIDTH = 80\n",
    "N_CHANNELS = 3\n",
    "SEQLEN = 100\n",
    "QUEUE_THREADS = 4\n",
    "\n",
    "def read_single_record(filepath_queue):\n",
    "    _, serial = reader.read(filepath_queue)\n",
    "    \n",
    "    features = {\n",
    "        'height': tf.FixedLenFeature([], tf.int64),\n",
    "        'width': tf.FixedLenFeature([], tf.int64),\n",
    "        'video': tf.FixedLenFeature([], tf.string),\n",
    "        'label': tf.FixedLenFeature([], tf.int64),\n",
    "        'length': tf.FixedLenFeature([], tf.int64)\n",
    "    }\n",
    "    \n",
    "    features = tf.parse_single_example(serial, features = features)\n",
    "    video = tf.decode_raw(features['video'], tf.uint8)\n",
    "    video = tf.cast(tf.reshape(video, (-1, HEIGHT, WIDTH, N_CHANNELS)), tf.float32)\n",
    "    \n",
    "    return video\n",
    "    \n",
    "    \n",
    "with tf.name_scope('training_queue'):\n",
    "    filepath_queue = tf.train.string_input_producer([training_file])\n",
    "    training_video = read_single_record(filepath_queue)\n",
    "    \n",
    "with tf.name_scope('shuffle_queue'):\n",
    "    shuffle_queue = tf.RandomShuffleQueue(capacity=64, min_after_dequeue=16, dtype=tf.float32)\n",
    "    shuffle_enqueue_op = shuffle_queue.enqueue(training_video)\n",
    "    \n",
    "with tf.name_scope('padding_queue'):\n",
    "    padding_queue = tf.PaddingFIFOQueue(capacity=256, dtype=tf.float32, shapes=(None, HEIGHT, WIDTH, N_CHANNELS))\n",
    "    padding_enqueue_op = padding_queue.enqueue(shuffle_queue.dequeue())\n",
    "    \n",
    "runner = tf.train.QueueRunner(padding_queue, [padding_enqueue_op] * QUEUE_THREADS)    \n",
    "coord = tf.train.Coordinator()\n",
    "\n",
    "with tf.Session() as sesh:\n",
    "    enqueue_threads = runner.create_threads(sesh, coord=coord, start=True)\n",
    "    \n",
    "    for i in range(N_EPOCHS):\n",
    "        if coord.should_stop():\n",
    "            break\n",
    "        \n",
    "        sesh.run(padding_queue.dequeue())\n",
    "        \n",
    "    coord.request_stop()\n",
    "    coord.join(enqueue_threads)"
   ]
  },
  {
   "cell_type": "code",
   "execution_count": null,
   "metadata": {
    "collapsed": true
   },
   "outputs": [],
   "source": []
  },
  {
   "cell_type": "code",
   "execution_count": null,
   "metadata": {
    "collapsed": true
   },
   "outputs": [],
   "source": []
  }
 ],
 "metadata": {
  "kernelspec": {
   "display_name": "Python 3",
   "language": "python",
   "name": "python3"
  },
  "language_info": {
   "codemirror_mode": {
    "name": "ipython",
    "version": 3
   },
   "file_extension": ".py",
   "mimetype": "text/x-python",
   "name": "python",
   "nbconvert_exporter": "python",
   "pygments_lexer": "ipython3",
   "version": "3.4.3"
  }
 },
 "nbformat": 4,
 "nbformat_minor": 2
}
